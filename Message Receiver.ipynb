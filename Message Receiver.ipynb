{
 "cells": [
  {
   "cell_type": "code",
   "execution_count": 0,
   "metadata": {
    "application/vnd.databricks.v1+cell": {
     "cellMetadata": {
      "byteLimit": 2048000,
      "rowLimit": 10000
     },
     "inputWidgets": {},
     "nuid": "6704362e-1632-4d96-94bf-7edaf10007bb",
     "showTitle": false,
     "tableResultSettingsMap": {},
     "title": ""
    }
   },
   "outputs": [
    {
     "output_type": "stream",
     "name": "stdout",
     "output_type": "stream",
     "text": [
      "Directory '/tmp/message_system/messages' is ready for messages.\n"
     ]
    }
   ],
   "source": [
    "### This is our topic where messages are dropped \n",
    "messages_path = \"/tmp/message_system/messages\"\n",
    "\n",
    "##this where the spark structured sreaming stores the progress info\n",
    "checkpoint_path = \"/tmp/messaging_system/checkpoint\"\n",
    "\n",
    "##clean up previous runs if needed \n",
    "\n",
    "dbutils.fs.rm(messages_path,recurse = True)\n",
    "dbutils.fs.rm(checkpoint_path,recurse = True)\n",
    "\n",
    "##create main directory\n",
    "dbutils.fs.mkdirs(messages_path)\n",
    "\n",
    "print(f\"Directory '{messages_path}' is ready for messages.\")"
   ]
  },
  {
   "cell_type": "code",
   "execution_count": 0,
   "metadata": {
    "application/vnd.databricks.v1+cell": {
     "cellMetadata": {
      "byteLimit": 2048000,
      "rowLimit": 10000
     },
     "inputWidgets": {},
     "nuid": "8b8e63ec-16be-4956-a242-ff58e2a51f20",
     "showTitle": false,
     "tableResultSettingsMap": {},
     "title": ""
    }
   },
   "outputs": [
    {
     "output_type": "stream",
     "name": "stdout",
     "output_type": "stream",
     "text": [
      "Streaming consumer is now running. waiting for messages...\n"
     ]
    }
   ],
   "source": [
    "from pyspark.sql.types import StructType, StructField , StringType, DoubleType , TimestampType\n",
    "from pyspark.sql.functions import *\n",
    "\n",
    "\n",
    "schema = StructType([\n",
    "    StructField(\"device_id\",StringType(),True),\n",
    "    StructField(\"temperature\",DoubleType(),True),\n",
    "    StructField(\"location\",StringType(),True),\n",
    "    StructField(\"event_time\",TimestampType(),True)\n",
    "])\n",
    "\n",
    "\n",
    "##reading the files \n",
    "raw_stream_df = spark \\\n",
    "    .readStream \\\n",
    "        .schema(schema) \\\n",
    "            .json(messages_path)\n",
    "\n",
    "\n",
    "#transformation of adding new column\n",
    "processed_stream_df = raw_stream_df.withColumn(\"processing_staus\", lit(\"new\"))\n",
    "\n",
    "##writing the df into in memory table so we can query the data\n",
    "query = processed_stream_df \\\n",
    "    .writeStream \\\n",
    "        .format(\"memory\") \\\n",
    "            .queryName(\"message_queue\") \\\n",
    "                .outputMode(\"append\") \\\n",
    "                    .start()\n",
    "\n",
    "\n",
    "print(\"Streaming consumer is now running. waiting for messages...\")\n",
    "\n",
    "\n"
   ]
  },
  {
   "cell_type": "code",
   "execution_count": 0,
   "metadata": {
    "application/vnd.databricks.v1+cell": {
     "cellMetadata": {
      "byteLimit": 2048000,
      "implicitDf": true,
      "rowLimit": 10000
     },
     "inputWidgets": {},
     "nuid": "723fdd1c-d3c9-4580-8682-f489d91cc4b8",
     "showTitle": false,
     "tableResultSettingsMap": {},
     "title": ""
    }
   },
   "outputs": [
    {
     "output_type": "display_data",
     "data": {
      "text/html": [
       "<style scoped>\n",
       "  .table-result-container {\n",
       "    max-height: 300px;\n",
       "    overflow: auto;\n",
       "  }\n",
       "  table, th, td {\n",
       "    border: 1px solid black;\n",
       "    border-collapse: collapse;\n",
       "  }\n",
       "  th, td {\n",
       "    padding: 5px;\n",
       "  }\n",
       "  th {\n",
       "    text-align: left;\n",
       "  }\n",
       "</style><div class='table-result-container'><table class='table-result'><thead style='background-color: white'><tr><th>device_id</th><th>temperature</th><th>location</th><th>event_time</th><th>processing_staus</th></tr></thead><tbody><tr><td>device_1</td><td>23.57</td><td>server_room_a</td><td>2025-07-03T14:42:54.442+0000</td><td>new</td></tr><tr><td>device_4</td><td>20.88</td><td>office_floor_b</td><td>2025-07-03T14:41:53.241+0000</td><td>new</td></tr><tr><td>device_8</td><td>17.36</td><td>office_floor_b</td><td>2025-07-03T14:40:48.079+0000</td><td>new</td></tr><tr><td>device_4</td><td>23.37</td><td>office_floor_b</td><td>2025-07-03T14:40:33.915+0000</td><td>new</td></tr><tr><td>device_2</td><td>27.41</td><td>server_room_a</td><td>2025-07-03T14:39:34.733+0000</td><td>new</td></tr><tr><td>device_4</td><td>16.99</td><td>office_floor_b</td><td>2025-07-03T14:38:27.940+0000</td><td>new</td></tr></tbody></table></div>"
      ]
     },
     "metadata": {
      "application/vnd.databricks.v1+output": {
       "addedWidgets": {},
       "aggData": [],
       "aggError": "",
       "aggOverflow": false,
       "aggSchema": [],
       "aggSeriesLimitReached": false,
       "aggType": "",
       "arguments": {},
       "columnCustomDisplayInfos": {},
       "data": [
        [
         "device_1",
         23.57,
         "server_room_a",
         "2025-07-03T14:42:54.442+0000",
         "new"
        ],
        [
         "device_4",
         20.88,
         "office_floor_b",
         "2025-07-03T14:41:53.241+0000",
         "new"
        ],
        [
         "device_8",
         17.36,
         "office_floor_b",
         "2025-07-03T14:40:48.079+0000",
         "new"
        ],
        [
         "device_4",
         23.37,
         "office_floor_b",
         "2025-07-03T14:40:33.915+0000",
         "new"
        ],
        [
         "device_2",
         27.41,
         "server_room_a",
         "2025-07-03T14:39:34.733+0000",
         "new"
        ],
        [
         "device_4",
         16.99,
         "office_floor_b",
         "2025-07-03T14:38:27.940+0000",
         "new"
        ]
       ],
       "datasetInfos": [],
       "dbfsResultPath": null,
       "isJsonSchema": true,
       "metadata": {},
       "overflow": false,
       "plotOptions": {
        "customPlotOptions": {},
        "displayType": "table",
        "pivotAggregation": null,
        "pivotColumns": null,
        "xColumns": null,
        "yColumns": null
       },
       "removedWidgets": [],
       "schema": [
        {
         "metadata": "{}",
         "name": "device_id",
         "type": "\"string\""
        },
        {
         "metadata": "{}",
         "name": "temperature",
         "type": "\"double\""
        },
        {
         "metadata": "{}",
         "name": "location",
         "type": "\"string\""
        },
        {
         "metadata": "{}",
         "name": "event_time",
         "type": "\"timestamp\""
        },
        {
         "metadata": "{}",
         "name": "processing_staus",
         "type": "\"string\""
        }
       ],
       "type": "table"
      }
     },
     "output_type": "display_data"
    }
   ],
   "source": [
    "%sql\n",
    "\n",
    "select * from message_queue order by event_time desc"
   ]
  },
  {
   "cell_type": "code",
   "execution_count": 0,
   "metadata": {
    "application/vnd.databricks.v1+cell": {
     "cellMetadata": {
      "byteLimit": 2048000,
      "rowLimit": 10000
     },
     "inputWidgets": {},
     "nuid": "9939eda5-e9d6-4516-9f64-d2f4ad005685",
     "showTitle": false,
     "tableResultSettingsMap": {},
     "title": ""
    }
   },
   "outputs": [],
   "source": [
    "json_read  = spark.read.json(\"dbfs:/tmp/message_system/messages\")"
   ]
  },
  {
   "cell_type": "code",
   "execution_count": 0,
   "metadata": {
    "application/vnd.databricks.v1+cell": {
     "cellMetadata": {
      "byteLimit": 2048000,
      "rowLimit": 10000
     },
     "inputWidgets": {},
     "nuid": "c3fa0391-b43a-4ce3-9b26-5684a384d230",
     "showTitle": false,
     "tableResultSettingsMap": {},
     "title": ""
    }
   },
   "outputs": [
    {
     "output_type": "stream",
     "name": "stdout",
     "output_type": "stream",
     "text": [
      "+---------+--------------------+--------------+-----------+\n|device_id|          event_time|      location|temperature|\n+---------+--------------------+--------------+-----------+\n| device_4|2025-07-03T14:38:...|office_floor_b|      16.99|\n| device_4|2025-07-03T14:40:...|office_floor_b|      23.37|\n| device_8|2025-07-03T14:40:...|office_floor_b|      17.36|\n| device_4|2025-07-03T14:41:...|office_floor_b|      20.88|\n| device_2|2025-07-03T14:39:...| server_room_a|      27.41|\n| device_1|2025-07-03T14:42:...| server_room_a|      23.57|\n+---------+--------------------+--------------+-----------+\n\n"
     ]
    }
   ],
   "source": [
    "json_read.show()"
   ]
  },
  {
   "cell_type": "code",
   "execution_count": 0,
   "metadata": {
    "application/vnd.databricks.v1+cell": {
     "cellMetadata": {},
     "inputWidgets": {},
     "nuid": "63ffc5dd-a848-4667-8d6f-be5914a09a4b",
     "showTitle": false,
     "tableResultSettingsMap": {},
     "title": ""
    }
   },
   "outputs": [],
   "source": []
  }
 ],
 "metadata": {
  "application/vnd.databricks.v1+notebook": {
   "computePreferences": null,
   "dashboards": [],
   "environmentMetadata": {
    "base_environment": "",
    "environment_version": "1"
   },
   "inputWidgetPreferences": null,
   "language": "python",
   "notebookMetadata": {
    "mostRecentlyExecutedCommandWithImplicitDF": {
     "commandId": 3843615151874235,
     "dataframes": [
      "_sqldf"
     ]
    },
    "pythonIndentUnit": 4
   },
   "notebookName": "Message Receiver",
   "widgets": {}
  }
 },
 "nbformat": 4,
 "nbformat_minor": 0
}