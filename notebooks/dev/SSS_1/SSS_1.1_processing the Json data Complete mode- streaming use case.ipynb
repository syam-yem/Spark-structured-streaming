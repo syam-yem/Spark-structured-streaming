{
 "cells": [
  {
   "cell_type": "code",
   "execution_count": 0,
   "metadata": {
    "application/vnd.databricks.v1+cell": {
     "cellMetadata": {
      "byteLimit": 2048000,
      "rowLimit": 10000
     },
     "inputWidgets": {},
     "nuid": "b24a88f5-70ab-48dd-864d-7d50f66f76e6",
     "showTitle": false,
     "tableResultSettingsMap": {},
     "title": ""
    }
   },
   "outputs": [],
   "source": [
    "from pyspark.sql.types import *\n",
    "\n",
    "orders_schema = StructType([\n",
    "    StructField(\"order_id\", LongType(), True),\n",
    "    StructField(\"customer_id\", LongType(), True),\n",
    "    StructField(\"customer_fname\", StringType(), True),\n",
    "    StructField(\"customer_lname\", StringType(), True),\n",
    "    StructField(\"customer_city\", StringType(), True),\n",
    "    StructField(\"customer_state\", StringType(), True),\n",
    "    StructField(\"customer_pincode\", LongType(), True),\n",
    "    StructField(\"order_items\", ArrayType(StructType([\n",
    "        StructField(\"order_item_id\", LongType(), True),\n",
    "        StructField(\"order_item_product_id\", LongType(), True),\n",
    "        StructField(\"order_item_product_price\", DecimalType(10, 2), True),\n",
    "        StructField(\"order_item_quantity\", LongType(), True),\n",
    "        StructField(\"order_item_subtotal\", DecimalType(10, 2), True)\n",
    "    ])), True)\n",
    "])\n"
   ]
  },
  {
   "cell_type": "markdown",
   "metadata": {
    "application/vnd.databricks.v1+cell": {
     "cellMetadata": {
      "byteLimit": 2048000,
      "rowLimit": 10000
     },
     "inputWidgets": {},
     "nuid": "9a4af205-512c-4d88-912e-0d9cde958740",
     "showTitle": false,
     "tableResultSettingsMap": {},
     "title": ""
    }
   },
   "source": [
    "Creating a directory"
   ]
  },
  {
   "cell_type": "code",
   "execution_count": 0,
   "metadata": {
    "application/vnd.databricks.v1+cell": {
     "cellMetadata": {
      "byteLimit": 2048000,
      "rowLimit": 10000
     },
     "inputWidgets": {},
     "nuid": "2023b09b-6bf3-4d05-9591-83bf8c4d80db",
     "showTitle": false,
     "tableResultSettingsMap": {},
     "title": ""
    }
   },
   "outputs": [
    {
     "output_type": "stream",
     "name": "stdout",
     "output_type": "stream",
     "text": [
      "Out[12]: True"
     ]
    }
   ],
   "source": [
    "dbutils.fs.mkdirs(\"dbfs:/FileStore/processed/completemode/\")"
   ]
  },
  {
   "cell_type": "code",
   "execution_count": 0,
   "metadata": {
    "application/vnd.databricks.v1+cell": {
     "cellMetadata": {
      "byteLimit": 2048000,
      "rowLimit": 10000
     },
     "inputWidgets": {},
     "nuid": "04ab309d-e0a2-4552-bf41-c69977a28a8b",
     "showTitle": false,
     "tableResultSettingsMap": {},
     "title": ""
    }
   },
   "outputs": [],
   "source": [
    "orders_df = spark \\\n",
    "    .readStream \\\n",
    "        .format(\"json\") \\\n",
    "            .schema(orders_schema) \\\n",
    "                .option(\"path\",\"dbfs:/FileStore/merge.json\") \\\n",
    "                    .load()"
   ]
  },
  {
   "cell_type": "code",
   "execution_count": 0,
   "metadata": {
    "application/vnd.databricks.v1+cell": {
     "cellMetadata": {},
     "inputWidgets": {},
     "nuid": "94737d43-0d3a-467b-883b-b690eda37e46",
     "showTitle": false,
     "tableResultSettingsMap": {},
     "title": ""
    }
   },
   "outputs": [],
   "source": [
    "from pyspark.sql.types import *\n",
    "\n",
    "schema = StructType([\n",
    "    StructField(\"customer_id\", LongType(), True),\n",
    "    StructField(\"orders_placed\", LongType(), False),\n",
    "    StructField(\"product_purchased\", LongType(), False),\n",
    "    StructField(\"amount_spent\", DecimalType(20, 2), True)\n",
    "])\n"
   ]
  },
  {
   "cell_type": "code",
   "execution_count": 0,
   "metadata": {
    "application/vnd.databricks.v1+cell": {
     "cellMetadata": {
      "byteLimit": 2048000,
      "rowLimit": 10000
     },
     "inputWidgets": {},
     "nuid": "f1a8181c-a3b4-458e-a587-a4187d92a7fa",
     "showTitle": false,
     "tableResultSettingsMap": {},
     "title": ""
    }
   },
   "outputs": [],
   "source": [
    "aggregated_orders = spark \\\n",
    "    .readStream \\\n",
    "        .format(\"csv\") \\\n",
    "            .schema(schema) \\\n",
    "                .option(\"path\",\"dbfs:/FileStore/processed/aggregated_orders.csv\") \\\n",
    "                    .load()\n",
    "\n",
    "\n",
    "\n"
   ]
  },
  {
   "cell_type": "code",
   "execution_count": 0,
   "metadata": {
    "application/vnd.databricks.v1+cell": {
     "cellMetadata": {
      "byteLimit": 2048000,
      "rowLimit": 10000
     },
     "inputWidgets": {},
     "nuid": "fc8860a2-a269-4c26-923f-473fcf18c552",
     "showTitle": false,
     "tableResultSettingsMap": {},
     "title": ""
    }
   },
   "outputs": [],
   "source": [
    "streaming_query = aggregated_orders \\\n",
    "    .writeStream \\\n",
    "        .format(\"delta\") \\\n",
    "            .outputMode(\"append\") \\\n",
    "                    .option(\"checkPointLocation\",\"checkpointdir103\") \\\n",
    "                        .toTable(\"orders_result103\")"
   ]
  },
  {
   "cell_type": "code",
   "execution_count": 0,
   "metadata": {
    "application/vnd.databricks.v1+cell": {
     "cellMetadata": {
      "byteLimit": 2048000,
      "rowLimit": 10000
     },
     "inputWidgets": {},
     "nuid": "03555a05-bc37-41d3-99e3-c191a69684a4",
     "showTitle": false,
     "tableResultSettingsMap": {},
     "title": ""
    }
   },
   "outputs": [
    {
     "output_type": "stream",
     "name": "stdout",
     "output_type": "stream",
     "text": [
      "+-----------+-------------+-----------------+------------+\n|customer_id|orders_placed|product_purchased|amount_spent|\n+-----------+-------------+-----------------+------------+\n|       null|         null|             null|        null|\n|       3764|            7|                7|     5397.59|\n|      11745|            3|                3|     1023.32|\n|       9945|            6|                6|     2081.75|\n|      11619|            7|                7|     2625.99|\n|       9968|            6|                6|     3814.46|\n|       5385|            2|                2|      415.18|\n|       1950|            9|                9|     7121.30|\n|       9978|            7|                7|     4304.14|\n|        964|            7|                7|     5140.01|\n|      10959|            7|                7|     2295.49|\n|       9715|            6|                6|     3770.84|\n|        474|            8|                8|     2903.38|\n|       7225|            5|                5|     1792.00|\n|       2250|            7|                7|     5627.61|\n|      11434|            5|                5|     1845.67|\n|       2453|            9|                9|     4172.56|\n|      10156|           10|               10|     6535.05|\n|       2529|            6|                6|     3553.03|\n|       5556|            4|                4|     3294.25|\n+-----------+-------------+-----------------+------------+\nonly showing top 20 rows\n\n"
     ]
    }
   ],
   "source": [
    "spark.sql(\"select * from orders_result103\").show()"
   ]
  },
  {
   "cell_type": "code",
   "execution_count": 0,
   "metadata": {
    "application/vnd.databricks.v1+cell": {
     "cellMetadata": {
      "byteLimit": 2048000,
      "rowLimit": 10000
     },
     "inputWidgets": {},
     "nuid": "f948f86d-8a21-4f38-a884-ac8e7528c652",
     "showTitle": false,
     "tableResultSettingsMap": {},
     "title": ""
    }
   },
   "outputs": [
    {
     "output_type": "stream",
     "name": "stdout",
     "output_type": "stream",
     "text": [
      "== Physical Plan ==\nFileScan csv [customer_id#1843L,orders_placed#1844L,product_purchased#1845L,amount_spent#1846] Batched: false, DataFilters: [], Format: CSV, Location: InMemoryFileIndex(1 paths)[dbfs:/FileStore/processed/aggregated_orders.csv/part-00000-tid-4176033..., PartitionFilters: [], PushedFilters: [], ReadSchema: struct<customer_id:bigint,orders_placed:bigint,product_purchased:bigint,amount_spent:decimal(20,2)>\n\n\n"
     ]
    }
   ],
   "source": [
    "streaming_query.explain()"
   ]
  },
  {
   "cell_type": "code",
   "execution_count": 0,
   "metadata": {
    "application/vnd.databricks.v1+cell": {
     "cellMetadata": {
      "byteLimit": 2048000,
      "rowLimit": 10000
     },
     "inputWidgets": {},
     "nuid": "07473611-4377-4f32-897c-c3b52fd9142f",
     "showTitle": false,
     "tableResultSettingsMap": {},
     "title": ""
    }
   },
   "outputs": [],
   "source": []
  }
 ],
 "metadata": {
  "application/vnd.databricks.v1+notebook": {
   "computePreferences": null,
   "dashboards": [],
   "environmentMetadata": {
    "base_environment": "",
    "environment_version": "1"
   },
   "inputWidgetPreferences": null,
   "language": "python",
   "notebookMetadata": {
    "pythonIndentUnit": 4
   },
   "notebookName": "SSS_1.1_processing the Json data Complete mode- streaming use case",
   "widgets": {}
  }
 },
 "nbformat": 4,
 "nbformat_minor": 0
}