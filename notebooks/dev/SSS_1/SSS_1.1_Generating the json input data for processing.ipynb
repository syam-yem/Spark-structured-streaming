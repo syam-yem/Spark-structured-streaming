{
 "cells": [
  {
   "cell_type": "markdown",
   "metadata": {
    "application/vnd.databricks.v1+cell": {
     "cellMetadata": {
      "byteLimit": 2048000,
      "rowLimit": 10000
     },
     "inputWidgets": {},
     "nuid": "482cd7e1-e571-4f43-a433-35b9ca45ace6",
     "showTitle": false,
     "tableResultSettingsMap": {},
     "title": ""
    }
   },
   "source": [
    "In this notebook I have added code to join three datasets together and write it as\n",
    "\n",
    " json file so we can build another set of code to proces the json file in a production scenario.\n",
    "\n",
    "\n",
    "dbfs:/FileStore/orders_csv.csv\n",
    "\n",
    "\n",
    "\n",
    " dbfs:/FileStore/customersweek17.csv\n",
    "\n",
    " dbfs:/FileStore/order_item.csv"
   ]
  },
  {
   "cell_type": "code",
   "execution_count": 0,
   "metadata": {
    "application/vnd.databricks.v1+cell": {
     "cellMetadata": {
      "byteLimit": 2048000,
      "rowLimit": 10000
     },
     "collapsed": true,
     "inputWidgets": {},
     "nuid": "46357f58-9854-413d-8cba-abfd434e50b1",
     "showTitle": false,
     "tableResultSettingsMap": {},
     "title": ""
    }
   },
   "outputs": [],
   "source": [
    "orders_schema = \"order_id long, order_date , customer_id long, order_status string\""
   ]
  },
  {
   "cell_type": "code",
   "execution_count": 0,
   "metadata": {
    "application/vnd.databricks.v1+cell": {
     "cellMetadata": {
      "byteLimit": 2048000,
      "rowLimit": 10000
     },
     "inputWidgets": {},
     "nuid": "4a8edac8-3eb9-4dbd-b76f-b73b6cb0687f",
     "showTitle": false,
     "tableResultSettingsMap": {},
     "title": ""
    }
   },
   "outputs": [],
   "source": [
    "orders_df = spark.read \\\n",
    "  .format(\"csv\") \\\n",
    "    .schema(orders_schema) \\\n",
    "      .option(\"header\",True) \\\n",
    "            .load(\"dbfs:/FileStore/orders_csv.csv\")"
   ]
  },
  {
   "cell_type": "code",
   "execution_count": 0,
   "metadata": {
    "application/vnd.databricks.v1+cell": {
     "cellMetadata": {
      "byteLimit": 2048000,
      "rowLimit": 10000
     },
     "inputWidgets": {},
     "nuid": "1618d78a-a750-4750-ae16-e1ac299ea626",
     "showTitle": false,
     "tableResultSettingsMap": {},
     "title": ""
    }
   },
   "outputs": [
    {
     "output_type": "stream",
     "name": "stdout",
     "output_type": "stream",
     "text": [
      "root\n |-- _c0: string (nullable = true)\n |-- _c1: string (nullable = true)\n |-- _c2: string (nullable = true)\n |-- _c3: string (nullable = true)\n\n"
     ]
    }
   ],
   "source": [
    "orders_df.printSchema()"
   ]
  },
  {
   "cell_type": "code",
   "execution_count": 0,
   "metadata": {
    "application/vnd.databricks.v1+cell": {
     "cellMetadata": {
      "byteLimit": 2048000,
      "rowLimit": 10000
     },
     "inputWidgets": {},
     "nuid": "eba0e0c0-1e43-471a-ae90-a16271572fbe",
     "showTitle": false,
     "tableResultSettingsMap": {},
     "title": ""
    }
   },
   "outputs": [],
   "source": [
    "\n",
    "orders_df.createOrReplaceTempView(\"orders\")"
   ]
  },
  {
   "cell_type": "code",
   "execution_count": 0,
   "metadata": {
    "application/vnd.databricks.v1+cell": {
     "cellMetadata": {
      "byteLimit": 2048000,
      "rowLimit": 10000
     },
     "inputWidgets": {},
     "nuid": "e083c1f5-0bb0-47f9-b608-2a01cbc669cd",
     "showTitle": false,
     "tableResultSettingsMap": {},
     "title": ""
    }
   },
   "outputs": [],
   "source": [
    "\n",
    "\n",
    "from pyspark.sql.types import *\n",
    "\n",
    "order_item_schema = StructType([\n",
    "    StructField(\"order_item_id\", LongType(), True),\n",
    "    StructField(\"order_item_order_id\", LongType(), True),\n",
    "    StructField(\"order_item_product_id\", LongType(), True),\n",
    "    StructField(\"order_item_quantity\", LongType(), True),\n",
    "    StructField(\"order_item_subtotal\", DecimalType(10, 2), True),  # Adjust precision & scale as needed\n",
    "    StructField(\"order_item_product_price\", DecimalType(10, 2), True)\n",
    "])"
   ]
  },
  {
   "cell_type": "code",
   "execution_count": 0,
   "metadata": {
    "application/vnd.databricks.v1+cell": {
     "cellMetadata": {
      "byteLimit": 2048000,
      "rowLimit": 10000
     },
     "inputWidgets": {},
     "nuid": "df0a480b-308e-4baf-98ee-1831da6306f3",
     "showTitle": false,
     "tableResultSettingsMap": {},
     "title": ""
    }
   },
   "outputs": [],
   "source": [
    "order_items_df = spark.read \\\n",
    "    .schema(order_item_schema) \\\n",
    "        .format(\"csv\") \\\n",
    "            .option(\"header\",True) \\\n",
    "                .load(\"dbfs:/FileStore/order_item.csv\")"
   ]
  },
  {
   "cell_type": "code",
   "execution_count": 0,
   "metadata": {
    "application/vnd.databricks.v1+cell": {
     "cellMetadata": {
      "byteLimit": 2048000,
      "rowLimit": 10000
     },
     "inputWidgets": {},
     "nuid": "08d61b29-2f75-4459-a796-c78376b8aab8",
     "showTitle": false,
     "tableResultSettingsMap": {},
     "title": ""
    }
   },
   "outputs": [],
   "source": [
    "order_items_df.createOrReplaceTempView(\"order_items\")"
   ]
  },
  {
   "cell_type": "code",
   "execution_count": 0,
   "metadata": {
    "application/vnd.databricks.v1+cell": {
     "cellMetadata": {
      "byteLimit": 2048000,
      "rowLimit": 10000
     },
     "inputWidgets": {},
     "nuid": "4fbc6e94-26c2-44f7-b2bc-3b1ea368f009",
     "showTitle": false,
     "tableResultSettingsMap": {},
     "title": ""
    }
   },
   "outputs": [
    {
     "output_type": "stream",
     "name": "stdout",
     "output_type": "stream",
     "text": [
      "+-------------+-------------------+---------------------+-------------------+-------------------+------------------------+\n|order_item_id|order_item_order_id|order_item_product_id|order_item_quantity|order_item_subtotal|order_item_product_price|\n+-------------+-------------------+---------------------+-------------------+-------------------+------------------------+\n|            1|              36460|                  707|                  4|            1540.32|                  385.08|\n|            2|              13154|                   26|                  2|             583.70|                  291.85|\n|            3|              43230|                  828|                  2|             957.34|                  478.67|\n|            4|              61127|                    6|                  4|            1656.36|                  414.09|\n|            5|              59984|                  224|                  3|             307.26|                  102.42|\n|            6|               6112|                  276|                  3|             913.29|                  304.43|\n|            7|              26183|                  413|                  4|            1277.52|                  319.38|\n|            8|              11740|                  692|                  4|            1028.92|                  257.23|\n|            9|              36615|                  501|                  2|             396.14|                  198.07|\n|           10|               3639|                  471|                  3|             723.30|                  241.10|\n|           11|              38443|                  365|                  1|             465.08|                  465.08|\n|           12|              50339|                  411|                  4|              79.44|                   19.86|\n|           13|              23681|                  169|                  3|            1251.51|                  417.17|\n|           14|              10379|                  492|                  2|             364.26|                  182.13|\n|           15|              27750|                  403|                  2|             967.88|                  483.94|\n|           16|              49038|                  721|                  1|             271.54|                  271.54|\n|           17|              12324|                  514|                  1|             121.26|                  121.26|\n|           18|              12741|                  573|                  3|             110.49|                   36.83|\n|           19|              29226|                  455|                  4|             656.20|                  164.05|\n|           20|              28847|                  899|                  2|             261.86|                  130.93|\n+-------------+-------------------+---------------------+-------------------+-------------------+------------------------+\nonly showing top 20 rows\n\n"
     ]
    }
   ],
   "source": [
    "spark.sql(\"select * from order_items\").show()"
   ]
  },
  {
   "cell_type": "code",
   "execution_count": 0,
   "metadata": {
    "application/vnd.databricks.v1+cell": {
     "cellMetadata": {
      "byteLimit": 2048000,
      "rowLimit": 10000
     },
     "inputWidgets": {},
     "nuid": "20a9689c-4038-402f-8d2e-d0248f783b49",
     "showTitle": false,
     "tableResultSettingsMap": {},
     "title": ""
    }
   },
   "outputs": [
    {
     "output_type": "stream",
     "name": "stdout",
     "output_type": "stream",
     "text": [
      "+-----------+--------------+--------------+--------------+-----------------+--------------------+-------------+--------------+----------------+\n|customer_id|customer_fname|customer_lname|customer_email|customer_password|     customer_street|customer_city|customer_state|customer_pincode|\n+-----------+--------------+--------------+--------------+-----------------+--------------------+-------------+--------------+----------------+\n|       NULL|customer_fname|customer_lname|customer_email|customer_password|     customer_street|customer_city|customer_state|            NULL|\n|          1|       Richard|     Hernandez|     XXXXXXXXX|        XXXXXXXXX|  6303 Heather Plaza|  Brownsville|            TX|           78521|\n|          2|          Mary|       Barrett|     XXXXXXXXX|        XXXXXXXXX|9526 Noble Embers...|    Littleton|            CO|           80126|\n|          3|           Ann|         Smith|     XXXXXXXXX|        XXXXXXXXX|3422 Blue Pioneer...|       Caguas|            PR|             725|\n|          4|          Mary|         Jones|     XXXXXXXXX|        XXXXXXXXX|  8324 Little Common|   San Marcos|            CA|           92069|\n|          5|        Robert|        Hudson|     XXXXXXXXX|        XXXXXXXXX|10 Crystal River ...|       Caguas|            PR|             725|\n|          6|          Mary|         Smith|     XXXXXXXXX|        XXXXXXXXX|3151 Sleepy Quail...|      Passaic|            NJ|            7055|\n|          7|       Melissa|        Wilcox|     XXXXXXXXX|        XXXXXXXXX|9453 High Concession|       Caguas|            PR|             725|\n|          8|         Megan|         Smith|     XXXXXXXXX|        XXXXXXXXX|3047 Foggy Forest...|     Lawrence|            MA|            1841|\n|          9|          Mary|         Perez|     XXXXXXXXX|        XXXXXXXXX| 3616 Quaking Street|       Caguas|            PR|             725|\n|         10|       Melissa|         Smith|     XXXXXXXXX|        XXXXXXXXX|8598 Harvest Beac...|     Stafford|            VA|           22554|\n|         11|          Mary|       Huffman|     XXXXXXXXX|        XXXXXXXXX|    3169 Stony Woods|       Caguas|            PR|             725|\n|         12|   Christopher|         Smith|     XXXXXXXXX|        XXXXXXXXX|5594 Jagged Ember...|  San Antonio|            TX|           78227|\n|         13|          Mary|       Baldwin|     XXXXXXXXX|        XXXXXXXXX|7922 Iron Oak Gar...|       Caguas|            PR|             725|\n|         14|     Katherine|         Smith|     XXXXXXXXX|        XXXXXXXXX|5666 Hazy Pony Sq...|  Pico Rivera|            CA|           90660|\n|         15|          Jane|          Luna|     XXXXXXXXX|        XXXXXXXXX|    673 Burning Glen|      Fontana|            CA|           92336|\n|         16|       Tiffany|         Smith|     XXXXXXXXX|        XXXXXXXXX|      6651 Iron Port|       Caguas|            PR|             725|\n|         17|          Mary|      Robinson|     XXXXXXXXX|        XXXXXXXXX|     1325 Noble Pike|       Taylor|            MI|           48180|\n|         18|        Robert|         Smith|     XXXXXXXXX|        XXXXXXXXX|2734 Hazy Butterf...|     Martinez|            CA|           94553|\n|         19|     Stephanie|      Mitchell|     XXXXXXXXX|        XXXXXXXXX|3543 Red Treasure...|       Caguas|            PR|             725|\n+-----------+--------------+--------------+--------------+-----------------+--------------------+-------------+--------------+----------------+\nonly showing top 20 rows\n\n"
     ]
    }
   ],
   "source": [
    "spark.sql(\"select * from customers\").show()"
   ]
  },
  {
   "cell_type": "code",
   "execution_count": 0,
   "metadata": {
    "application/vnd.databricks.v1+cell": {
     "cellMetadata": {
      "byteLimit": 2048000,
      "rowLimit": 10000
     },
     "inputWidgets": {},
     "nuid": "acda8c98-0a91-434e-91e8-3f630c1dc6f5",
     "showTitle": false,
     "tableResultSettingsMap": {},
     "title": ""
    }
   },
   "outputs": [],
   "source": [
    "customer_schema =\"customer_id long,customer_fname STRING,customer_lname STRING,customer_email STRING,customer_password STRING,customer_street STRING,customer_city STRING,customer_state STRING,customer_pincode long\"\n"
   ]
  },
  {
   "cell_type": "code",
   "execution_count": 0,
   "metadata": {
    "application/vnd.databricks.v1+cell": {
     "cellMetadata": {
      "byteLimit": 2048000,
      "rowLimit": 10000
     },
     "inputWidgets": {},
     "nuid": "8e815d83-e2ea-4f1c-aaf0-423eec9c0648",
     "showTitle": false,
     "tableResultSettingsMap": {},
     "title": ""
    }
   },
   "outputs": [],
   "source": [
    "customers_df =spark.read \\\n",
    "    .schema(customer_schema) \\\n",
    "        .format(\"csv\") \\\n",
    "                  .option(\"header\",True) \\\n",
    "                      .load(\"dbfs:/FileStore/customersweek17.csv\")"
   ]
  },
  {
   "cell_type": "code",
   "execution_count": 0,
   "metadata": {
    "application/vnd.databricks.v1+cell": {
     "cellMetadata": {
      "byteLimit": 2048000,
      "rowLimit": 10000
     },
     "inputWidgets": {},
     "nuid": "6f7e8d25-af1e-4735-92cc-62442dfc8a83",
     "showTitle": false,
     "tableResultSettingsMap": {},
     "title": ""
    }
   },
   "outputs": [],
   "source": [
    "customers_df.createOrReplaceTempView(\"customers\")"
   ]
  },
  {
   "cell_type": "code",
   "execution_count": 0,
   "metadata": {
    "application/vnd.databricks.v1+cell": {
     "cellMetadata": {
      "byteLimit": 2048000,
      "rowLimit": 10000
     },
     "inputWidgets": {},
     "nuid": "30f585bd-8136-4f3f-8016-edb2cd42c3dc",
     "showTitle": false,
     "tableResultSettingsMap": {},
     "title": ""
    }
   },
   "outputs": [
    {
     "output_type": "stream",
     "name": "stdout",
     "output_type": "stream",
     "text": [
      "+--------+--------------------+-----------+---------------+\n|order_id|          order_date|customer_id|   order_status|\n+--------+--------------------+-----------+---------------+\n|    NULL|          order_date|       NULL|   order_status|\n|       1|2013-07-25 00:00:...|      11599|         CLOSED|\n|       2|2013-07-25 00:00:...|        256|PENDING_PAYMENT|\n|       3|2013-07-25 00:00:...|      12111|       COMPLETE|\n|       4|2013-07-25 00:00:...|       8827|         CLOSED|\n|       5|2013-07-25 00:00:...|      11318|       COMPLETE|\n|       6|2013-07-25 00:00:...|       7130|       COMPLETE|\n|       7|2013-07-25 00:00:...|       4530|       COMPLETE|\n|       8|2013-07-25 00:00:...|       2911|     PROCESSING|\n|       9|2013-07-25 00:00:...|       5657|PENDING_PAYMENT|\n+--------+--------------------+-----------+---------------+\n\n"
     ]
    }
   ],
   "source": [
    "spark.sql(\"select * from orders limit 10\").show()"
   ]
  },
  {
   "cell_type": "code",
   "execution_count": 0,
   "metadata": {
    "application/vnd.databricks.v1+cell": {
     "cellMetadata": {
      "byteLimit": 2048000,
      "rowLimit": 10000
     },
     "inputWidgets": {},
     "nuid": "c17b717a-582d-49ef-9f37-902572962187",
     "showTitle": false,
     "tableResultSettingsMap": {},
     "title": ""
    }
   },
   "outputs": [],
   "source": [
    "joined_df = spark.sql(\"\"\"select orders.order_id,\n",
    "             order_items.order_item_id,\n",
    "             orders.customer_id,\n",
    "             order_items.order_item_product_id,\n",
    "             order_items.order_item_quantity,\n",
    "             order_items.order_item_subtotal,\n",
    "             order_items.order_item_product_price,\n",
    "             customers.customer_fname,\n",
    "             customers.customer_lname,\n",
    "             customers.customer_city,\n",
    "             customers.customer_state,\n",
    "             customers.customer_pincode from orders\n",
    "             join order_items \n",
    "             on orders.order_id = order_items.order_item_id\n",
    "             join customers\n",
    "             on orders.customer_id = customers.customer_id \"\"\")"
   ]
  },
  {
   "cell_type": "code",
   "execution_count": 0,
   "metadata": {
    "application/vnd.databricks.v1+cell": {
     "cellMetadata": {
      "byteLimit": 2048000,
      "rowLimit": 10000
     },
     "inputWidgets": {},
     "nuid": "22738eac-1555-4b46-a23b-cccf5d03d57d",
     "showTitle": false,
     "tableResultSettingsMap": {},
     "title": ""
    }
   },
   "outputs": [
    {
     "output_type": "stream",
     "name": "stdout",
     "output_type": "stream",
     "text": [
      "+--------+-----------+--------------+--------------+--------------+--------------+----------------+-------------------------------+\n|order_id|customer_id|customer_fname|customer_lname|customer_city |customer_state|customer_pincode|order_items                    |\n+--------+-----------+--------------+--------------+--------------+--------------+----------------+-------------------------------+\n|8       |2911       |Mary          |Smith         |Caguas        |PR            |725             |[{8, 692, 4, 257.23, 1028.92}] |\n|12      |1837       |Mary          |Vega          |Caguas        |PR            |725             |[{12, 411, 4, 19.86, 79.44}]   |\n|14      |9842       |Mary          |Smith         |Caguas        |PR            |725             |[{14, 492, 2, 182.13, 364.26}] |\n|16      |7276       |Pamela        |Smith         |Caguas        |PR            |725             |[{16, 721, 1, 271.54, 271.54}] |\n|23      |4367       |Danielle      |Moran         |Springfield   |MO            |65807           |[{23, 577, 4, 294.20, 1176.80}]|\n|24      |11441      |Mary          |Ferguson      |Lutz          |FL            |33549           |[{24, 772, 4, 48.67, 194.68}]  |\n|25      |9503       |Mary          |Fitzpatrick   |Orlando       |FL            |32822           |[{25, 799, 2, 107.87, 215.74}] |\n|26      |7562       |Thomas        |Hayes         |Escondido     |CA            |92026           |[{26, 658, 1, 11.66, 11.66}]   |\n|33      |5793       |Margaret      |Weeks         |Caguas        |PR            |725             |[{33, 478, 3, 484.32, 1452.96}]|\n|47      |8487       |Frances       |Smith         |Caguas        |PR            |725             |[{47, 255, 2, 187.34, 374.68}] |\n|49      |1871       |Mary          |Mcknight      |Caguas        |PR            |725             |[{49, 400, 3, 455.80, 1367.40}]|\n|51      |12271      |Mary          |Small         |Ontario       |CA            |91761           |[{51, 464, 2, 468.19, 936.38}] |\n|62      |9111       |Mary          |Smith         |Caguas        |PR            |725             |[{62, 302, 2, 289.20, 578.40}] |\n|66      |1792       |Roy           |Rodriguez     |Jersey City   |NJ            |7305            |[{66, 16, 4, 338.46, 1353.84}] |\n|67      |1406       |Amy           |Smith         |Caguas        |PR            |725             |[{67, 122, 3, 26.65, 79.95}]   |\n|71      |8646       |Mary          |Smith         |Piscataway    |NJ            |8854            |[{71, 835, 1, 178.07, 178.07}] |\n|72      |4349       |Donna         |Williams      |Salt Lake City|UT            |84118           |[{72, 109, 3, 170.24, 510.72}] |\n|75      |2505       |Jessica       |Johnson       |Caguas        |PR            |725             |[{75, 273, 4, 165.14, 660.56}] |\n|76      |6898       |Nathan        |Butler        |Caguas        |PR            |725             |[{76, 797, 2, 486.23, 972.46}] |\n|77      |7915       |Justin        |Murphy        |Caguas        |PR            |725             |[{77, 560, 1, 162.52, 162.52}] |\n+--------+-----------+--------------+--------------+--------------+--------------+----------------+-------------------------------+\nonly showing top 20 rows\n\n"
     ]
    }
   ],
   "source": [
    "from pyspark.sql.functions import *\n",
    "\n",
    "results_df = joined_df.groupBy(\n",
    "    \"order_id\",\n",
    "    \"customer_id\",\n",
    "    \"customer_fname\",\n",
    "    \"customer_lname\",\n",
    "    \"customer_city\",\n",
    "    \"customer_state\",\n",
    "    \"customer_pincode\"\n",
    ").agg(\n",
    "    collect_list(\n",
    "        struct(\n",
    "            \"order_item_id\",\n",
    "            \"order_item_product_id\",\n",
    "            \"order_item_quantity\",\n",
    "            \"order_item_product_price\",\n",
    "            \"order_item_subtotal\"\n",
    "        )\n",
    "    ).alias(\"order_items\")\n",
    ")\n",
    "\n",
    "results_df.show(truncate=False)\n"
   ]
  },
  {
   "cell_type": "code",
   "execution_count": 0,
   "metadata": {
    "application/vnd.databricks.v1+cell": {
     "cellMetadata": {
      "byteLimit": 2048000,
      "rowLimit": 10000
     },
     "inputWidgets": {},
     "nuid": "c9f7c97e-14b7-4db5-a500-6c9860d6ca55",
     "showTitle": false,
     "tableResultSettingsMap": {},
     "title": ""
    }
   },
   "outputs": [
    {
     "output_type": "stream",
     "name": "stdout",
     "output_type": "stream",
     "text": [
      "+--------+-----------+--------------+--------------+--------------+--------------+----------------+--------------------+\n|order_id|customer_id|customer_fname|customer_lname| customer_city|customer_state|customer_pincode|         order_items|\n+--------+-----------+--------------+--------------+--------------+--------------+----------------+--------------------+\n|       8|       2911|          Mary|         Smith|        Caguas|            PR|             725|[{8, 692, 4, 257....|\n|      12|       1837|          Mary|          Vega|        Caguas|            PR|             725|[{12, 411, 4, 19....|\n|      14|       9842|          Mary|         Smith|        Caguas|            PR|             725|[{14, 492, 2, 182...|\n|      16|       7276|        Pamela|         Smith|        Caguas|            PR|             725|[{16, 721, 1, 271...|\n|      23|       4367|      Danielle|         Moran|   Springfield|            MO|           65807|[{23, 577, 4, 294...|\n|      24|      11441|          Mary|      Ferguson|          Lutz|            FL|           33549|[{24, 772, 4, 48....|\n|      25|       9503|          Mary|   Fitzpatrick|       Orlando|            FL|           32822|[{25, 799, 2, 107...|\n|      26|       7562|        Thomas|         Hayes|     Escondido|            CA|           92026|[{26, 658, 1, 11....|\n|      33|       5793|      Margaret|         Weeks|        Caguas|            PR|             725|[{33, 478, 3, 484...|\n|      47|       8487|       Frances|         Smith|        Caguas|            PR|             725|[{47, 255, 2, 187...|\n|      49|       1871|          Mary|      Mcknight|        Caguas|            PR|             725|[{49, 400, 3, 455...|\n|      51|      12271|          Mary|         Small|       Ontario|            CA|           91761|[{51, 464, 2, 468...|\n|      62|       9111|          Mary|         Smith|        Caguas|            PR|             725|[{62, 302, 2, 289...|\n|      66|       1792|           Roy|     Rodriguez|   Jersey City|            NJ|            7305|[{66, 16, 4, 338....|\n|      67|       1406|           Amy|         Smith|        Caguas|            PR|             725|[{67, 122, 3, 26....|\n|      71|       8646|          Mary|         Smith|    Piscataway|            NJ|            8854|[{71, 835, 1, 178...|\n|      72|       4349|         Donna|      Williams|Salt Lake City|            UT|           84118|[{72, 109, 3, 170...|\n|      75|       2505|       Jessica|       Johnson|        Caguas|            PR|             725|[{75, 273, 4, 165...|\n|      76|       6898|        Nathan|        Butler|        Caguas|            PR|             725|[{76, 797, 2, 486...|\n|      77|       7915|        Justin|        Murphy|        Caguas|            PR|             725|[{77, 560, 1, 162...|\n+--------+-----------+--------------+--------------+--------------+--------------+----------------+--------------------+\nonly showing top 20 rows\n\n"
     ]
    }
   ],
   "source": [
    "results_df.show(20)"
   ]
  },
  {
   "cell_type": "code",
   "execution_count": 0,
   "metadata": {
    "application/vnd.databricks.v1+cell": {
     "cellMetadata": {
      "byteLimit": 2048000,
      "rowLimit": 10000
     },
     "inputWidgets": {},
     "nuid": "e5e72866-a588-47dd-9c3e-5d7abb4b93af",
     "showTitle": false,
     "tableResultSettingsMap": {},
     "title": ""
    }
   },
   "outputs": [],
   "source": [
    "results_df \\\n",
    ".repartition(1) \\\n",
    "    .write \\\n",
    "        .format(\"json\") \\\n",
    "            .mode(\"overwrite\") \\\n",
    "                .option(\"path\",\"dbfs:/FileStore/merge.json\") \\\n",
    "                    .save()"
   ]
  },
  {
   "cell_type": "code",
   "execution_count": 0,
   "metadata": {
    "application/vnd.databricks.v1+cell": {
     "cellMetadata": {},
     "inputWidgets": {},
     "nuid": "143f32ff-5d3a-4152-907f-bab0b2eed521",
     "showTitle": false,
     "tableResultSettingsMap": {},
     "title": ""
    }
   },
   "outputs": [],
   "source": []
  }
 ],
 "metadata": {
  "application/vnd.databricks.v1+notebook": {
   "computePreferences": null,
   "dashboards": [],
   "environmentMetadata": {
    "base_environment": "",
    "environment_version": "1"
   },
   "inputWidgetPreferences": null,
   "language": "python",
   "notebookMetadata": {
    "pythonIndentUnit": 4
   },
   "notebookName": "SSS_1.1_Generating the json input data for processing",
   "widgets": {}
  }
 },
 "nbformat": 4,
 "nbformat_minor": 0
}