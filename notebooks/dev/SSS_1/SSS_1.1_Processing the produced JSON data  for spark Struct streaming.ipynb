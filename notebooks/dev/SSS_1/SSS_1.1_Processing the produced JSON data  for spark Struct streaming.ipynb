{
 "cells": [
  {
   "cell_type": "code",
   "execution_count": 0,
   "metadata": {
    "application/vnd.databricks.v1+cell": {
     "cellMetadata": {
      "byteLimit": 2048000,
      "rowLimit": 10000
     },
     "inputWidgets": {},
     "nuid": "cf8cd24e-4362-4586-b607-8119753b0738",
     "showTitle": false,
     "tableResultSettingsMap": {},
     "title": ""
    }
   },
   "outputs": [],
   "source": [
    "from pyspark.sql.types import *\n",
    "\n",
    "orders_schema = StructType([\n",
    "    StructField(\"order_id\", LongType(), True),\n",
    "    StructField(\"customer_id\", LongType(), True),\n",
    "    StructField(\"customer_fname\", StringType(), True),\n",
    "    StructField(\"customer_lname\", StringType(), True),\n",
    "    StructField(\"customer_city\", StringType(), True),\n",
    "    StructField(\"customer_state\", StringType(), True),\n",
    "    StructField(\"customer_pincode\", LongType(), True),\n",
    "    StructField(\"order_items\", ArrayType(StructType([\n",
    "        StructField(\"order_item_id\", LongType(), True),\n",
    "        StructField(\"order_item_product_id\", LongType(), True),\n",
    "        StructField(\"order_item_product_price\", DecimalType(10, 2), True),\n",
    "        StructField(\"order_item_quantity\", LongType(), True),\n",
    "        StructField(\"order_item_subtotal\", DecimalType(10, 2), True)\n",
    "    ])), True)\n",
    "])\n"
   ]
  },
  {
   "cell_type": "code",
   "execution_count": 0,
   "metadata": {
    "application/vnd.databricks.v1+cell": {
     "cellMetadata": {
      "byteLimit": 2048000,
      "rowLimit": 10000
     },
     "inputWidgets": {},
     "nuid": "6ccebc92-5871-4db5-b27e-fa1168c245fa",
     "showTitle": false,
     "tableResultSettingsMap": {},
     "title": ""
    }
   },
   "outputs": [],
   "source": [
    "orders_df = spark.read \\\n",
    "    .format(\"json\") \\\n",
    "        .schema(orders_schema) \\\n",
    "            .option(\"path\",\"dbfs:/FileStore/merge.json\") \\\n",
    "                .load()"
   ]
  },
  {
   "cell_type": "code",
   "execution_count": 0,
   "metadata": {
    "application/vnd.databricks.v1+cell": {
     "cellMetadata": {
      "byteLimit": 2048000,
      "rowLimit": 10000
     },
     "inputWidgets": {},
     "nuid": "ccc982e0-59f0-431c-9b18-f6891ad411ed",
     "showTitle": false,
     "tableResultSettingsMap": {},
     "title": ""
    }
   },
   "outputs": [],
   "source": [
    "orders_df.createOrReplaceTempView(\"orders\")"
   ]
  },
  {
   "cell_type": "code",
   "execution_count": 0,
   "metadata": {
    "application/vnd.databricks.v1+cell": {
     "cellMetadata": {
      "byteLimit": 2048000,
      "rowLimit": 10000
     },
     "inputWidgets": {},
     "nuid": "4e672a88-c906-4f00-86e7-059272a91b25",
     "showTitle": false,
     "tableResultSettingsMap": {},
     "title": ""
    }
   },
   "outputs": [
    {
     "output_type": "stream",
     "name": "stdout",
     "output_type": "stream",
     "text": [
      "+--------+-----------+--------------+--------------+--------------+--------------+----------------+--------------------+\n|order_id|customer_id|customer_fname|customer_lname| customer_city|customer_state|customer_pincode|         order_items|\n+--------+-----------+--------------+--------------+--------------+--------------+----------------+--------------------+\n|       8|       2911|          Mary|         Smith|        Caguas|            PR|             725|[{8, 692, 257.23,...|\n|      12|       1837|          Mary|          Vega|        Caguas|            PR|             725|[{12, 411, 19.86,...|\n|      14|       9842|          Mary|         Smith|        Caguas|            PR|             725|[{14, 492, 182.13...|\n|      16|       7276|        Pamela|         Smith|        Caguas|            PR|             725|[{16, 721, 271.54...|\n|      23|       4367|      Danielle|         Moran|   Springfield|            MO|           65807|[{23, 577, 294.20...|\n|      24|      11441|          Mary|      Ferguson|          Lutz|            FL|           33549|[{24, 772, 48.67,...|\n|      25|       9503|          Mary|   Fitzpatrick|       Orlando|            FL|           32822|[{25, 799, 107.87...|\n|      26|       7562|        Thomas|         Hayes|     Escondido|            CA|           92026|[{26, 658, 11.66,...|\n|      33|       5793|      Margaret|         Weeks|        Caguas|            PR|             725|[{33, 478, 484.32...|\n|      47|       8487|       Frances|         Smith|        Caguas|            PR|             725|[{47, 255, 187.34...|\n|      49|       1871|          Mary|      Mcknight|        Caguas|            PR|             725|[{49, 400, 455.80...|\n|      51|      12271|          Mary|         Small|       Ontario|            CA|           91761|[{51, 464, 468.19...|\n|      62|       9111|          Mary|         Smith|        Caguas|            PR|             725|[{62, 302, 289.20...|\n|      66|       1792|           Roy|     Rodriguez|   Jersey City|            NJ|            7305|[{66, 16, 338.46,...|\n|      67|       1406|           Amy|         Smith|        Caguas|            PR|             725|[{67, 122, 26.65,...|\n|      71|       8646|          Mary|         Smith|    Piscataway|            NJ|            8854|[{71, 835, 178.07...|\n|      72|       4349|         Donna|      Williams|Salt Lake City|            UT|           84118|[{72, 109, 170.24...|\n|      75|       2505|       Jessica|       Johnson|        Caguas|            PR|             725|[{75, 273, 165.14...|\n|      76|       6898|        Nathan|        Butler|        Caguas|            PR|             725|[{76, 797, 486.23...|\n|      77|       7915|        Justin|        Murphy|        Caguas|            PR|             725|[{77, 560, 162.52...|\n+--------+-----------+--------------+--------------+--------------+--------------+----------------+--------------------+\nonly showing top 20 rows\n\n"
     ]
    }
   ],
   "source": [
    "spark.sql(\"select * from orders \").show()"
   ]
  },
  {
   "cell_type": "code",
   "execution_count": 0,
   "metadata": {
    "application/vnd.databricks.v1+cell": {
     "cellMetadata": {
      "byteLimit": 2048000,
      "rowLimit": 10000
     },
     "inputWidgets": {},
     "nuid": "d402b2b2-7d12-4c38-bc69-6c80c560300d",
     "showTitle": false,
     "tableResultSettingsMap": {},
     "title": ""
    }
   },
   "outputs": [],
   "source": [
    "exploded_orders = spark.sql(\"\"\"select order_id ,\n",
    "          customer_id,\n",
    "          customer_fname ,\n",
    "          customer_lname,\n",
    "          customer_city,\n",
    "          customer_state,\n",
    "          customer_pincode,explode(order_items) lines from orders\"\"\")"
   ]
  },
  {
   "cell_type": "code",
   "execution_count": 0,
   "metadata": {
    "application/vnd.databricks.v1+cell": {
     "cellMetadata": {
      "byteLimit": 2048000,
      "rowLimit": 10000
     },
     "inputWidgets": {},
     "nuid": "b77566f1-3190-4579-aa43-d9db6fcf08b5",
     "showTitle": false,
     "tableResultSettingsMap": {},
     "title": ""
    }
   },
   "outputs": [
    {
     "output_type": "stream",
     "name": "stdout",
     "output_type": "stream",
     "text": [
      "+--------+-----------+--------------+--------------+--------------+--------------+----------------+--------------------+\n|order_id|customer_id|customer_fname|customer_lname| customer_city|customer_state|customer_pincode|               lines|\n+--------+-----------+--------------+--------------+--------------+--------------+----------------+--------------------+\n|       8|       2911|          Mary|         Smith|        Caguas|            PR|             725|{8, 692, 257.23, ...|\n|      12|       1837|          Mary|          Vega|        Caguas|            PR|             725|{12, 411, 19.86, ...|\n|      14|       9842|          Mary|         Smith|        Caguas|            PR|             725|{14, 492, 182.13,...|\n|      16|       7276|        Pamela|         Smith|        Caguas|            PR|             725|{16, 721, 271.54,...|\n|      23|       4367|      Danielle|         Moran|   Springfield|            MO|           65807|{23, 577, 294.20,...|\n|      24|      11441|          Mary|      Ferguson|          Lutz|            FL|           33549|{24, 772, 48.67, ...|\n|      25|       9503|          Mary|   Fitzpatrick|       Orlando|            FL|           32822|{25, 799, 107.87,...|\n|      26|       7562|        Thomas|         Hayes|     Escondido|            CA|           92026|{26, 658, 11.66, ...|\n|      33|       5793|      Margaret|         Weeks|        Caguas|            PR|             725|{33, 478, 484.32,...|\n|      47|       8487|       Frances|         Smith|        Caguas|            PR|             725|{47, 255, 187.34,...|\n|      49|       1871|          Mary|      Mcknight|        Caguas|            PR|             725|{49, 400, 455.80,...|\n|      51|      12271|          Mary|         Small|       Ontario|            CA|           91761|{51, 464, 468.19,...|\n|      62|       9111|          Mary|         Smith|        Caguas|            PR|             725|{62, 302, 289.20,...|\n|      66|       1792|           Roy|     Rodriguez|   Jersey City|            NJ|            7305|{66, 16, 338.46, ...|\n|      67|       1406|           Amy|         Smith|        Caguas|            PR|             725|{67, 122, 26.65, ...|\n|      71|       8646|          Mary|         Smith|    Piscataway|            NJ|            8854|{71, 835, 178.07,...|\n|      72|       4349|         Donna|      Williams|Salt Lake City|            UT|           84118|{72, 109, 170.24,...|\n|      75|       2505|       Jessica|       Johnson|        Caguas|            PR|             725|{75, 273, 165.14,...|\n|      76|       6898|        Nathan|        Butler|        Caguas|            PR|             725|{76, 797, 486.23,...|\n|      77|       7915|        Justin|        Murphy|        Caguas|            PR|             725|{77, 560, 162.52,...|\n+--------+-----------+--------------+--------------+--------------+--------------+----------------+--------------------+\nonly showing top 20 rows\n\n"
     ]
    }
   ],
   "source": [
    "exploded_orders.show()\n",
    "\n",
    "exploded_orders.createOrReplaceTempView(\"exploded_orders\")"
   ]
  },
  {
   "cell_type": "code",
   "execution_count": 0,
   "metadata": {
    "application/vnd.databricks.v1+cell": {
     "cellMetadata": {
      "byteLimit": 2048000,
      "rowLimit": 10000
     },
     "inputWidgets": {},
     "nuid": "ee2611e4-6cb5-4318-a657-25fe3df599ea",
     "showTitle": false,
     "tableResultSettingsMap": {},
     "title": ""
    }
   },
   "outputs": [],
   "source": [
    "flattened_orders =spark.sql(\"\"\"select order_id ,\n",
    "          customer_id,\n",
    "          customer_fname ,\n",
    "          customer_lname,\n",
    "          customer_city,\n",
    "          customer_state,\n",
    "          customer_pincode, \n",
    "          lines.order_item_id as item_id,\n",
    "          lines.order_item_product_id as product_id,\n",
    "          lines.order_item_product_price as price,\n",
    "          lines.order_item_quantity as quantity,\n",
    "          lines.order_item_subtotal as subtotal\n",
    "          from exploded_orders \"\"\")"
   ]
  },
  {
   "cell_type": "code",
   "execution_count": 0,
   "metadata": {
    "application/vnd.databricks.v1+cell": {
     "cellMetadata": {
      "byteLimit": 2048000,
      "rowLimit": 10000
     },
     "inputWidgets": {},
     "nuid": "2c3239a4-2549-4d2f-a54d-64feabfbcc41",
     "showTitle": false,
     "tableResultSettingsMap": {},
     "title": ""
    }
   },
   "outputs": [
    {
     "output_type": "stream",
     "name": "stdout",
     "output_type": "stream",
     "text": [
      "+--------+-----------+--------------+--------------+--------------+--------------+----------------+-------+----------+------+--------+--------+\n|order_id|customer_id|customer_fname|customer_lname| customer_city|customer_state|customer_pincode|item_id|product_id| price|quantity|subtotal|\n+--------+-----------+--------------+--------------+--------------+--------------+----------------+-------+----------+------+--------+--------+\n|       8|       2911|          Mary|         Smith|        Caguas|            PR|             725|      8|       692|257.23|       4| 1028.92|\n|      12|       1837|          Mary|          Vega|        Caguas|            PR|             725|     12|       411| 19.86|       4|   79.44|\n|      14|       9842|          Mary|         Smith|        Caguas|            PR|             725|     14|       492|182.13|       2|  364.26|\n|      16|       7276|        Pamela|         Smith|        Caguas|            PR|             725|     16|       721|271.54|       1|  271.54|\n|      23|       4367|      Danielle|         Moran|   Springfield|            MO|           65807|     23|       577|294.20|       4| 1176.80|\n|      24|      11441|          Mary|      Ferguson|          Lutz|            FL|           33549|     24|       772| 48.67|       4|  194.68|\n|      25|       9503|          Mary|   Fitzpatrick|       Orlando|            FL|           32822|     25|       799|107.87|       2|  215.74|\n|      26|       7562|        Thomas|         Hayes|     Escondido|            CA|           92026|     26|       658| 11.66|       1|   11.66|\n|      33|       5793|      Margaret|         Weeks|        Caguas|            PR|             725|     33|       478|484.32|       3| 1452.96|\n|      47|       8487|       Frances|         Smith|        Caguas|            PR|             725|     47|       255|187.34|       2|  374.68|\n|      49|       1871|          Mary|      Mcknight|        Caguas|            PR|             725|     49|       400|455.80|       3| 1367.40|\n|      51|      12271|          Mary|         Small|       Ontario|            CA|           91761|     51|       464|468.19|       2|  936.38|\n|      62|       9111|          Mary|         Smith|        Caguas|            PR|             725|     62|       302|289.20|       2|  578.40|\n|      66|       1792|           Roy|     Rodriguez|   Jersey City|            NJ|            7305|     66|        16|338.46|       4| 1353.84|\n|      67|       1406|           Amy|         Smith|        Caguas|            PR|             725|     67|       122| 26.65|       3|   79.95|\n|      71|       8646|          Mary|         Smith|    Piscataway|            NJ|            8854|     71|       835|178.07|       1|  178.07|\n|      72|       4349|         Donna|      Williams|Salt Lake City|            UT|           84118|     72|       109|170.24|       3|  510.72|\n|      75|       2505|       Jessica|       Johnson|        Caguas|            PR|             725|     75|       273|165.14|       4|  660.56|\n|      76|       6898|        Nathan|        Butler|        Caguas|            PR|             725|     76|       797|486.23|       2|  972.46|\n|      77|       7915|        Justin|        Murphy|        Caguas|            PR|             725|     77|       560|162.52|       1|  162.52|\n+--------+-----------+--------------+--------------+--------------+--------------+----------------+-------+----------+------+--------+--------+\nonly showing top 20 rows\n\n"
     ]
    }
   ],
   "source": [
    "flattened_orders.show()"
   ]
  },
  {
   "cell_type": "code",
   "execution_count": 0,
   "metadata": {
    "application/vnd.databricks.v1+cell": {
     "cellMetadata": {
      "byteLimit": 2048000,
      "rowLimit": 10000
     },
     "inputWidgets": {},
     "nuid": "c09c80a8-c899-42e2-92ca-05d7ae560123",
     "showTitle": false,
     "tableResultSettingsMap": {},
     "title": ""
    }
   },
   "outputs": [],
   "source": [
    "flattened_orders.createOrReplaceTempView(\"flattened_orders\")"
   ]
  },
  {
   "cell_type": "code",
   "execution_count": 0,
   "metadata": {
    "application/vnd.databricks.v1+cell": {
     "cellMetadata": {
      "byteLimit": 2048000,
      "rowLimit": 10000
     },
     "inputWidgets": {},
     "nuid": "9ec74474-30db-4e75-9798-4d4758770531",
     "showTitle": false,
     "tableResultSettingsMap": {},
     "title": ""
    }
   },
   "outputs": [],
   "source": [
    "aggregated_orders = spark.sql(\"\"\"select customer_id ,count(distinct(order_id)) as orders_placed ,count(item_id) as product_purchased,sum(subtotal) as amount_spent from flattened_orders group by customer_id \"\"\")\n"
   ]
  },
  {
   "cell_type": "code",
   "execution_count": 0,
   "metadata": {
    "application/vnd.databricks.v1+cell": {
     "cellMetadata": {
      "byteLimit": 2048000,
      "rowLimit": 10000
     },
     "inputWidgets": {},
     "nuid": "b703cf65-aff2-4759-ab1b-56c72d1f243d",
     "showTitle": false,
     "tableResultSettingsMap": {},
     "title": ""
    }
   },
   "outputs": [],
   "source": [
    "aggregated_orders.createOrReplaceTempView(\"orders_aggregated\")"
   ]
  },
  {
   "cell_type": "code",
   "execution_count": 0,
   "metadata": {
    "application/vnd.databricks.v1+cell": {
     "cellMetadata": {
      "byteLimit": 2048000,
      "rowLimit": 10000
     },
     "inputWidgets": {},
     "nuid": "bab2b38f-3a30-483c-93de-f76f802b751e",
     "showTitle": false,
     "tableResultSettingsMap": {},
     "title": ""
    }
   },
   "outputs": [
    {
     "output_type": "stream",
     "name": "stdout",
     "output_type": "stream",
     "text": [
      "+-----------+-------------+-----------------+------------+\n|customer_id|orders_placed|product_purchased|amount_spent|\n+-----------+-------------+-----------------+------------+\n|         25|            4|                4|     3358.24|\n+-----------+-------------+-----------------+------------+\n\n"
     ]
    }
   ],
   "source": [
    "spark.sql(\"select * from orders_aggregated where customer_id = 25\").show()"
   ]
  },
  {
   "cell_type": "code",
   "execution_count": 0,
   "metadata": {
    "application/vnd.databricks.v1+cell": {
     "cellMetadata": {
      "byteLimit": 2048000,
      "rowLimit": 10000
     },
     "inputWidgets": {},
     "nuid": "06234472-0a0d-45c3-aaee-1d1f7f1ded34",
     "showTitle": false,
     "tableResultSettingsMap": {},
     "title": ""
    }
   },
   "outputs": [
    {
     "output_type": "stream",
     "name": "stdout",
     "output_type": "stream",
     "text": [
      "Out[41]: True"
     ]
    }
   ],
   "source": [
    "dbutils.fs.mkdirs(\"dbfs:/FileStore/processed/\")"
   ]
  },
  {
   "cell_type": "code",
   "execution_count": 0,
   "metadata": {
    "application/vnd.databricks.v1+cell": {
     "cellMetadata": {
      "byteLimit": 2048000,
      "rowLimit": 10000
     },
     "inputWidgets": {},
     "nuid": "72c3830e-78d2-43f8-9f39-163615b67cc9",
     "showTitle": false,
     "tableResultSettingsMap": {},
     "title": ""
    }
   },
   "outputs": [],
   "source": [
    "aggregated_orders.repartition(1) \\\n",
    "    .write \\\n",
    "        .format(\"csv\") \\\n",
    "            .mode(\"overwrite\") \\\n",
    "                .option(\"header\",\"True\") \\\n",
    "                    .option(\"path\",\"dbfs:/FileStore/processed/aggregated_orders.csv\") \\\n",
    "                        .save()"
   ]
  },
  {
   "cell_type": "code",
   "execution_count": 0,
   "metadata": {
    "application/vnd.databricks.v1+cell": {
     "cellMetadata": {
      "byteLimit": 2048000,
      "rowLimit": 10000
     },
     "inputWidgets": {},
     "nuid": "0203f1a9-1dc4-4fc9-a0bc-2464abee5de9",
     "showTitle": false,
     "tableResultSettingsMap": {},
     "title": ""
    }
   },
   "outputs": [
    {
     "output_type": "stream",
     "name": "stdout",
     "output_type": "stream",
     "text": [
      "root\n |-- customer_id: long (nullable = true)\n |-- orders_placed: long (nullable = false)\n |-- product_purchased: long (nullable = false)\n |-- amount_spent: decimal(20,2) (nullable = true)\n\n"
     ]
    }
   ],
   "source": [
    "aggregated_orders.printSchema()"
   ]
  },
  {
   "cell_type": "code",
   "execution_count": 0,
   "metadata": {
    "application/vnd.databricks.v1+cell": {
     "cellMetadata": {
      "byteLimit": 2048000,
      "rowLimit": 10000
     },
     "inputWidgets": {},
     "nuid": "152c312d-35dc-45fe-99fd-bd8f9a93767b",
     "showTitle": false,
     "tableResultSettingsMap": {},
     "title": ""
    }
   },
   "outputs": [
    {
     "output_type": "stream",
     "name": "stdout",
     "output_type": "stream",
     "text": [
      "Out[47]: [FileInfo(path='dbfs:/FileStore/processed/aggregated_orders.csv/_SUCCESS', name='_SUCCESS', size=0, modificationTime=1751731466000),\n FileInfo(path='dbfs:/FileStore/processed/aggregated_orders.csv/_committed_4176033198140089800', name='_committed_4176033198140089800', size=112, modificationTime=1751731466000),\n FileInfo(path='dbfs:/FileStore/processed/aggregated_orders.csv/_started_4176033198140089800', name='_started_4176033198140089800', size=0, modificationTime=1751731465000),\n FileInfo(path='dbfs:/FileStore/processed/aggregated_orders.csv/part-00000-tid-4176033198140089800-8cf78507-e777-485f-9241-229b665369f4-39-1-c000.csv', name='part-00000-tid-4176033198140089800-8cf78507-e777-485f-9241-229b665369f4-39-1-c000.csv', size=212834, modificationTime=1751731466000)]"
     ]
    }
   ],
   "source": [
    "dbutils.fs.ls(\"dbfs:/FileStore/processed/aggregated_orders.csv\")"
   ]
  },
  {
   "cell_type": "code",
   "execution_count": 0,
   "metadata": {
    "application/vnd.databricks.v1+cell": {
     "cellMetadata": {},
     "inputWidgets": {},
     "nuid": "20894aa1-ced6-4d9b-ab3e-64d258afdbd6",
     "showTitle": false,
     "tableResultSettingsMap": {},
     "title": ""
    }
   },
   "outputs": [],
   "source": []
  }
 ],
 "metadata": {
  "application/vnd.databricks.v1+notebook": {
   "computePreferences": null,
   "dashboards": [],
   "environmentMetadata": {
    "base_environment": "",
    "environment_version": "1"
   },
   "inputWidgetPreferences": null,
   "language": "python",
   "notebookMetadata": {
    "pythonIndentUnit": 4
   },
   "notebookName": "SSS_1.1_Processing the produced JSON data  for spark Struct streaming",
   "widgets": {}
  }
 },
 "nbformat": 4,
 "nbformat_minor": 0
}