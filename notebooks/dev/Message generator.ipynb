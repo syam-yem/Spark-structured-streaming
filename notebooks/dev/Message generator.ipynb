{
 "cells": [
  {
   "cell_type": "code",
   "execution_count": 0,
   "metadata": {
    "application/vnd.databricks.v1+cell": {
     "cellMetadata": {
      "byteLimit": 2048000,
      "rowLimit": 10000
     },
     "inputWidgets": {},
     "nuid": "58b5c37a-6596-406e-9336-605d838c1d40",
     "showTitle": false,
     "tableResultSettingsMap": {},
     "title": ""
    }
   },
   "outputs": [
    {
     "output_type": "stream",
     "name": "stdout",
     "output_type": "stream",
     "text": [
      "Wrote 120 bytes.\nsent message to/tmp/message_system/messages/message_1751553774442.json\ncontent:{\"device_id\": \"device_1\", \"temperature\": 16.47, \"location\": \"server_room_a\", \"event_time\": \"2025-07-03T14:36:03.111348\"}\n"
     ]
    }
   ],
   "source": [
    "import json \n",
    "import random \n",
    "from datetime import datetime \n",
    "import time\n",
    "\n",
    "messages_path = \"/tmp/message_system/messages\"\n",
    "\n",
    "\n",
    "\n",
    "#generating some sample IOT data \n",
    "\n",
    "device_id  = f\"device_{random.randint(1,5)}\"\n",
    "message = {\n",
    "    \"device_id\":device_id,\n",
    "    \"temperature\": round(random.uniform(15.0,30.0),2),\n",
    "    \"location\":\"server_room_a\" if device_id in[\"device_1\",\"device_2\"] else \"office_floor_b\",\n",
    "    \"event_time\": datetime.now().isoformat()\n",
    "}\n",
    "\n",
    "##creating unique file name for each message to aviod conflicts\n",
    "##using a timestamp is good way to do this \n",
    "\n",
    "file_name = f\"message_{int(time.time()*1000)}.json\"\n",
    "file_path = f\"{messages_path}/{file_name}\"\n",
    "\n",
    "\n",
    "##convert the dictionary to json string \n",
    "message_json = json.dumps(message)\n",
    "\n",
    "##use dbutils to write the file to dbfs \n",
    "##this is our send message command \n",
    "dbutils.fs.put(file_path,message_json)\n",
    "\n",
    "\n",
    "print(f\"sent message to{file_path}\")\n",
    "print(f\"content:{messsage_json}\")\n",
    "\n",
    "\n"
   ]
  },
  {
   "cell_type": "code",
   "execution_count": 0,
   "metadata": {
    "application/vnd.databricks.v1+cell": {
     "cellMetadata": {
      "byteLimit": 2048000,
      "rowLimit": 10000
     },
     "inputWidgets": {},
     "nuid": "baaaed51-0e98-412b-bae0-8f7f7266dc29",
     "showTitle": false,
     "tableResultSettingsMap": {},
     "title": ""
    }
   },
   "outputs": [
    {
     "output_type": "stream",
     "name": "stdout",
     "output_type": "stream",
     "text": [
      "Out[16]: [FileInfo(path='dbfs:/tmp/message_system/messages/message_1751553507940.json', name='message_1751553507940.json', size=121, modificationTime=1751553509000),\n FileInfo(path='dbfs:/tmp/message_system/messages/message_1751553574733.json', name='message_1751553574733.json', size=120, modificationTime=1751553575000),\n FileInfo(path='dbfs:/tmp/message_system/messages/message_1751553633915.json', name='message_1751553633915.json', size=121, modificationTime=1751553634000),\n FileInfo(path='dbfs:/tmp/message_system/messages/message_1751553648079.json', name='message_1751553648079.json', size=121, modificationTime=1751553649000),\n FileInfo(path='dbfs:/tmp/message_system/messages/message_1751553713241.json', name='message_1751553713241.json', size=121, modificationTime=1751553714000),\n FileInfo(path='dbfs:/tmp/message_system/messages/message_1751553774442.json', name='message_1751553774442.json', size=120, modificationTime=1751553775000)]"
     ]
    }
   ],
   "source": [
    "dbutils.fs.ls(\"/tmp/message_system/messages\")"
   ]
  },
  {
   "cell_type": "code",
   "execution_count": 0,
   "metadata": {
    "application/vnd.databricks.v1+cell": {
     "cellMetadata": {},
     "inputWidgets": {},
     "nuid": "138e4256-585c-4b3a-8ef9-e3ba76b098f9",
     "showTitle": false,
     "tableResultSettingsMap": {},
     "title": ""
    }
   },
   "outputs": [],
   "source": []
  }
 ],
 "metadata": {
  "application/vnd.databricks.v1+notebook": {
   "computePreferences": null,
   "dashboards": [],
   "environmentMetadata": {
    "base_environment": "",
    "environment_version": "1"
   },
   "inputWidgetPreferences": null,
   "language": "python",
   "notebookMetadata": {
    "pythonIndentUnit": 4
   },
   "notebookName": "Message generator",
   "widgets": {}
  }
 },
 "nbformat": 4,
 "nbformat_minor": 0
}