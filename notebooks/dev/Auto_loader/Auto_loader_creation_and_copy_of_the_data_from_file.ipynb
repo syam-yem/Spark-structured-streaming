{
 "cells": [
  {
   "cell_type": "code",
   "execution_count": 0,
   "metadata": {
    "application/vnd.databricks.v1+cell": {
     "cellMetadata": {
      "byteLimit": 2048000,
      "rowLimit": 10000
     },
     "inputWidgets": {},
     "nuid": "aa5ed515-900a-4a63-834f-326566c35d66",
     "showTitle": false,
     "tableResultSettingsMap": {},
     "title": ""
    }
   },
   "outputs": [
    {
     "output_type": "execute_result",
     "data": {
      "text/plain": [
       "True"
      ]
     },
     "execution_count": 7,
     "metadata": {},
     "output_type": "execute_result"
    }
   ],
   "source": [
    "dbutils.fs.rm(\"dbfs:/user/hive/warehouse/orders/_delta_log/.s3-optimization-0\")\n",
    "\n",
    "dbutils.fs.rm(\"dbfs:/user/hive/warehouse/orders/_delta_log/.s3-optimization-1\")\n",
    "\n",
    "dbutils.fs.rm(\"dbfs:/user/hive/warehouse/orders/_delta_log/.s3-optimization-2\")\n",
    "\n",
    "dbutils.fs.rm(\"dbfs:/user/hive/warehouse/orders/_delta_log/00000000000000000000.crc\")\n",
    "\n",
    "dbutils.fs.rm(\"dbfs:/user/hive/warehouse/orders/_delta_log/00000000000000000000.json\")\n",
    "\n",
    "dbutils.fs.rm(\"dbfs:/user/hive/warehouse/orders/_delta_log/_copy_into_log/0.zip\")\n",
    "\n",
    "dbutils.fs.rm(\"dbfs:/user/hive/warehouse/orders/_delta_log/_copy_into_log/\")\n",
    "\n",
    "dbutils.fs.rm(\"dbfs:/user/hive/warehouse/orders/_delta_log/\")\n",
    "\n",
    "dbutils.fs.rm(\"dbfs:/user/hive/warehouse/orders/\")\n"
   ]
  },
  {
   "cell_type": "code",
   "execution_count": 0,
   "metadata": {
    "application/vnd.databricks.v1+cell": {
     "cellMetadata": {
      "byteLimit": 2048000,
      "implicitDf": true,
      "rowLimit": 10000
     },
     "inputWidgets": {},
     "nuid": "a81fb973-2c1a-47d2-96ad-f0be54b15469",
     "showTitle": false,
     "tableResultSettingsMap": {},
     "title": ""
    }
   },
   "outputs": [
    {
     "output_type": "display_data",
     "data": {
      "text/plain": [
       "org.apache.spark.sql.catalyst.analysis.NoSuchTableException: [TABLE_OR_VIEW_NOT_FOUND] The table or view `spark_catalog`.`default`.`orders` cannot be found. Verify the spelling and correctness of the schema and catalog.\n",
       "If you did not qualify the name with a schema, verify the current_schema() output, or qualify the name with the correct schema and catalog.\n",
       "To tolerate the error on drop use DROP VIEW IF EXISTS or DROP TABLE IF EXISTS. SQLSTATE: 42P01\n",
       "\tat org.apache.spark.sql.errors.QueryCompilationErrors$.noSuchTableError(QueryCompilationErrors.scala:1673)\n",
       "\tat org.apache.spark.sql.execution.datasources.v2.DropTableExec.run(DropTableExec.scala:42)\n",
       "\tat org.apache.spark.sql.execution.datasources.v2.V2CommandExec.$anonfun$result$2(V2CommandExec.scala:48)\n",
       "\tat org.apache.spark.sql.execution.SparkPlan.runCommandWithAetherOff(SparkPlan.scala:178)\n",
       "\tat org.apache.spark.sql.execution.SparkPlan.runCommandInAetherOrSpark(SparkPlan.scala:189)\n",
       "\tat org.apache.spark.sql.execution.datasources.v2.V2CommandExec.$anonfun$result$1(V2CommandExec.scala:48)\n",
       "\tat com.databricks.spark.util.FrameProfiler$.record(FrameProfiler.scala:94)\n",
       "\tat org.apache.spark.sql.execution.datasources.v2.V2CommandExec.result$lzycompute(V2CommandExec.scala:47)\n",
       "\tat org.apache.spark.sql.execution.datasources.v2.V2CommandExec.result(V2CommandExec.scala:45)\n",
       "\tat org.apache.spark.sql.execution.datasources.v2.V2CommandExec.executeCollect(V2CommandExec.scala:56)\n",
       "\tat org.apache.spark.sql.execution.QueryExecution$$anonfun$$nestedInanonfun$eagerlyExecuteCommands$1$1.$anonfun$applyOrElse$4(QueryExecution.scala:381)\n",
       "\tat org.apache.spark.sql.catalyst.QueryPlanningTracker$.withTracker(QueryPlanningTracker.scala:168)\n",
       "\tat org.apache.spark.sql.execution.QueryExecution$$anonfun$$nestedInanonfun$eagerlyExecuteCommands$1$1.$anonfun$applyOrElse$3(QueryExecution.scala:381)\n",
       "\tat org.apache.spark.sql.execution.SQLExecution$.$anonfun$withNewExecutionId0$9(SQLExecution.scala:406)\n",
       "\tat org.apache.spark.sql.execution.SQLExecution$.withSQLConfPropagated(SQLExecution.scala:725)\n",
       "\tat org.apache.spark.sql.execution.SQLExecution$.$anonfun$withNewExecutionId0$1(SQLExecution.scala:278)\n",
       "\tat org.apache.spark.sql.SparkSession.withActive(SparkSession.scala:1175)\n",
       "\tat org.apache.spark.sql.execution.SQLExecution$.withNewExecutionId0(SQLExecution.scala:167)\n",
       "\tat org.apache.spark.sql.execution.SQLExecution$.withNewExecutionId(SQLExecution.scala:662)\n",
       "\tat org.apache.spark.sql.execution.QueryExecution$$anonfun$$nestedInanonfun$eagerlyExecuteCommands$1$1.$anonfun$applyOrElse$2(QueryExecution.scala:380)\n",
       "\tat org.apache.spark.sql.execution.QueryExecution$.withInternalError(QueryExecution.scala:1135)\n",
       "\tat org.apache.spark.sql.execution.QueryExecution$$anonfun$$nestedInanonfun$eagerlyExecuteCommands$1$1.$anonfun$applyOrElse$1(QueryExecution.scala:376)\n",
       "\tat org.apache.spark.sql.execution.QueryExecution.org$apache$spark$sql$execution$QueryExecution$$withMVTagsIfNecessary(QueryExecution.scala:324)\n",
       "\tat org.apache.spark.sql.execution.QueryExecution$$anonfun$$nestedInanonfun$eagerlyExecuteCommands$1$1.applyOrElse(QueryExecution.scala:373)\n",
       "\tat org.apache.spark.sql.execution.QueryExecution$$anonfun$$nestedInanonfun$eagerlyExecuteCommands$1$1.applyOrElse(QueryExecution.scala:357)\n",
       "\tat org.apache.spark.sql.catalyst.trees.TreeNode.$anonfun$transformDownWithPruning$1(TreeNode.scala:505)\n",
       "\tat org.apache.spark.sql.catalyst.trees.CurrentOrigin$.withOrigin(origin.scala:83)\n",
       "\tat org.apache.spark.sql.catalyst.trees.TreeNode.transformDownWithPruning(TreeNode.scala:505)\n",
       "\tat org.apache.spark.sql.catalyst.plans.logical.LogicalPlan.org$apache$spark$sql$catalyst$plans$logical$AnalysisHelper$$super$transformDownWithPruning(LogicalPlan.scala:39)\n",
       "\tat org.apache.spark.sql.catalyst.plans.logical.AnalysisHelper.transformDownWithPruning(AnalysisHelper.scala:343)\n",
       "\tat org.apache.spark.sql.catalyst.plans.logical.AnalysisHelper.transformDownWithPruning$(AnalysisHelper.scala:339)\n",
       "\tat org.apache.spark.sql.catalyst.plans.logical.LogicalPlan.transformDownWithPruning(LogicalPlan.scala:39)\n",
       "\tat org.apache.spark.sql.catalyst.plans.logical.LogicalPlan.transformDownWithPruning(LogicalPlan.scala:39)\n",
       "\tat org.apache.spark.sql.catalyst.trees.TreeNode.transformDown(TreeNode.scala:481)\n",
       "\tat org.apache.spark.sql.execution.QueryExecution.$anonfun$eagerlyExecuteCommands$1(QueryExecution.scala:357)\n",
       "\tat org.apache.spark.sql.catalyst.plans.logical.AnalysisHelper$.allowInvokingTransformsInAnalyzer(AnalysisHelper.scala:400)\n",
       "\tat org.apache.spark.sql.execution.QueryExecution.eagerlyExecuteCommands(QueryExecution.scala:357)\n",
       "\tat org.apache.spark.sql.execution.QueryExecution.commandExecuted$lzycompute(QueryExecution.scala:283)\n",
       "\tat org.apache.spark.sql.execution.QueryExecution.commandExecuted(QueryExecution.scala:280)\n",
       "\tat org.apache.spark.sql.Dataset.<init>(Dataset.scala:289)\n",
       "\tat org.apache.spark.sql.Dataset$.$anonfun$ofRows$2(Dataset.scala:127)\n",
       "\tat org.apache.spark.sql.SparkSession.withActive(SparkSession.scala:1175)\n",
       "\tat org.apache.spark.sql.SparkSession.$anonfun$withActiveAndFrameProfiler$1(SparkSession.scala:1182)\n",
       "\tat com.databricks.spark.util.FrameProfiler$.record(FrameProfiler.scala:94)\n",
       "\tat org.apache.spark.sql.SparkSession.withActiveAndFrameProfiler(SparkSession.scala:1182)\n",
       "\tat org.apache.spark.sql.Dataset$.ofRows(Dataset.scala:116)\n",
       "\tat org.apache.spark.sql.SparkSession.$anonfun$sql$4(SparkSession.scala:954)\n",
       "\tat org.apache.spark.sql.SparkSession.withActive(SparkSession.scala:1175)\n",
       "\tat org.apache.spark.sql.SparkSession.sql(SparkSession.scala:942)\n",
       "\tat org.apache.spark.sql.SparkSession.sql(SparkSession.scala:977)\n",
       "\tat org.apache.spark.sql.SparkSession.sql(SparkSession.scala:1010)\n",
       "\tat org.apache.spark.sql.SQLContext.sql(SQLContext.scala:696)\n",
       "\tat com.databricks.backend.daemon.driver.DriverLocal$DbClassicStrategy.executeSQLQuery(DriverLocal.scala:312)\n",
       "\tat com.databricks.backend.daemon.driver.DriverLocal.executeSQLSubCommand(DriverLocal.scala:402)\n",
       "\tat com.databricks.backend.daemon.driver.DriverLocal.$anonfun$executeSql$1(DriverLocal.scala:423)\n",
       "\tat scala.collection.immutable.List.map(List.scala:293)\n",
       "\tat com.databricks.backend.daemon.driver.DriverLocal.executeSql(DriverLocal.scala:418)\n",
       "\tat com.databricks.backend.daemon.driver.JupyterDriverLocal.repl(JupyterDriverLocal.scala:1058)\n",
       "\tat com.databricks.backend.daemon.driver.DriverLocal.$anonfun$execute$33(DriverLocal.scala:1169)\n",
       "\tat com.databricks.unity.EmptyHandle$.runWith(UCSHandle.scala:133)\n",
       "\tat com.databricks.backend.daemon.driver.DriverLocal.$anonfun$execute$28(DriverLocal.scala:1160)\n",
       "\tat com.databricks.logging.UsageLogging.$anonfun$withAttributionContext$1(UsageLogging.scala:426)\n",
       "\tat scala.util.DynamicVariable.withValue(DynamicVariable.scala:62)\n",
       "\tat com.databricks.logging.AttributionContext$.withValue(AttributionContext.scala:216)\n",
       "\tat com.databricks.logging.UsageLogging.withAttributionContext(UsageLogging.scala:424)\n",
       "\tat com.databricks.logging.UsageLogging.withAttributionContext$(UsageLogging.scala:418)\n",
       "\tat com.databricks.backend.daemon.driver.DriverLocal.withAttributionContext(DriverLocal.scala:100)\n",
       "\tat com.databricks.logging.UsageLogging.withAttributionTags(UsageLogging.scala:472)\n",
       "\tat com.databricks.logging.UsageLogging.withAttributionTags$(UsageLogging.scala:455)\n",
       "\tat com.databricks.backend.daemon.driver.DriverLocal.withAttributionTags(DriverLocal.scala:100)\n",
       "\tat com.databricks.backend.daemon.driver.DriverLocal.$anonfun$execute$1(DriverLocal.scala:1096)\n",
       "\tat com.databricks.backend.daemon.driver.DriverLocal$.$anonfun$maybeSynchronizeExecution$4(DriverLocal.scala:1557)\n",
       "\tat com.databricks.backend.daemon.driver.DriverLocal.execute(DriverLocal.scala:773)\n",
       "\tat com.databricks.backend.daemon.driver.DriverWrapper.$anonfun$tryExecutingCommand$2(DriverWrapper.scala:786)\n",
       "\tat scala.util.Try$.apply(Try.scala:213)\n",
       "\tat com.databricks.backend.daemon.driver.DriverWrapper.$anonfun$tryExecutingCommand$1(DriverWrapper.scala:778)\n",
       "\tat com.databricks.backend.daemon.driver.DriverWrapper.tryExecutingCommand(DriverWrapper.scala:806)\n",
       "\tat com.databricks.backend.daemon.driver.DriverWrapper.executeCommandAndGetError(DriverWrapper.scala:685)\n",
       "\tat com.databricks.backend.daemon.driver.DriverWrapper.executeCommand(DriverWrapper.scala:730)\n",
       "\tat com.databricks.backend.daemon.driver.DriverWrapper.runInnerLoop(DriverWrapper.scala:556)\n",
       "\tat com.databricks.backend.daemon.driver.DriverWrapper.runInner(DriverWrapper.scala:482)\n",
       "\tat com.databricks.backend.daemon.driver.DriverWrapper.run(DriverWrapper.scala:290)\n",
       "\tat java.lang.Thread.run(Thread.java:750)\n"
      ]
     },
     "metadata": {
      "application/vnd.databricks.v1+output": {
       "addedWidgets": {},
       "arguments": {},
       "datasetInfos": [],
       "jupyterProps": null,
       "metadata": {
        "errorSummary": "[TABLE_OR_VIEW_NOT_FOUND] The table or view `spark_catalog`.`default`.`orders` cannot be found. Verify the spelling and correctness of the schema and catalog.\nIf you did not qualify the name with a schema, verify the current_schema() output, or qualify the name with the correct schema and catalog.\nTo tolerate the error on drop use DROP VIEW IF EXISTS or DROP TABLE IF EXISTS. SQLSTATE: 42P01"
       },
       "removedWidgets": [],
       "sqlProps": {
        "errorClass": "TABLE_OR_VIEW_NOT_FOUND",
        "pysparkCallSite": null,
        "pysparkFragment": null,
        "pysparkSummary": null,
        "sqlState": "42P01",
        "stackTrace": null,
        "startIndex": null,
        "stopIndex": null
       },
       "stackFrames": [
        "org.apache.spark.sql.catalyst.analysis.NoSuchTableException: [TABLE_OR_VIEW_NOT_FOUND] The table or view `spark_catalog`.`default`.`orders` cannot be found. Verify the spelling and correctness of the schema and catalog.\nIf you did not qualify the name with a schema, verify the current_schema() output, or qualify the name with the correct schema and catalog.\nTo tolerate the error on drop use DROP VIEW IF EXISTS or DROP TABLE IF EXISTS. SQLSTATE: 42P01\n\tat org.apache.spark.sql.errors.QueryCompilationErrors$.noSuchTableError(QueryCompilationErrors.scala:1673)\n\tat org.apache.spark.sql.execution.datasources.v2.DropTableExec.run(DropTableExec.scala:42)\n\tat org.apache.spark.sql.execution.datasources.v2.V2CommandExec.$anonfun$result$2(V2CommandExec.scala:48)\n\tat org.apache.spark.sql.execution.SparkPlan.runCommandWithAetherOff(SparkPlan.scala:178)\n\tat org.apache.spark.sql.execution.SparkPlan.runCommandInAetherOrSpark(SparkPlan.scala:189)\n\tat org.apache.spark.sql.execution.datasources.v2.V2CommandExec.$anonfun$result$1(V2CommandExec.scala:48)\n\tat com.databricks.spark.util.FrameProfiler$.record(FrameProfiler.scala:94)\n\tat org.apache.spark.sql.execution.datasources.v2.V2CommandExec.result$lzycompute(V2CommandExec.scala:47)\n\tat org.apache.spark.sql.execution.datasources.v2.V2CommandExec.result(V2CommandExec.scala:45)\n\tat org.apache.spark.sql.execution.datasources.v2.V2CommandExec.executeCollect(V2CommandExec.scala:56)\n\tat org.apache.spark.sql.execution.QueryExecution$$anonfun$$nestedInanonfun$eagerlyExecuteCommands$1$1.$anonfun$applyOrElse$4(QueryExecution.scala:381)\n\tat org.apache.spark.sql.catalyst.QueryPlanningTracker$.withTracker(QueryPlanningTracker.scala:168)\n\tat org.apache.spark.sql.execution.QueryExecution$$anonfun$$nestedInanonfun$eagerlyExecuteCommands$1$1.$anonfun$applyOrElse$3(QueryExecution.scala:381)\n\tat org.apache.spark.sql.execution.SQLExecution$.$anonfun$withNewExecutionId0$9(SQLExecution.scala:406)\n\tat org.apache.spark.sql.execution.SQLExecution$.withSQLConfPropagated(SQLExecution.scala:725)\n\tat org.apache.spark.sql.execution.SQLExecution$.$anonfun$withNewExecutionId0$1(SQLExecution.scala:278)\n\tat org.apache.spark.sql.SparkSession.withActive(SparkSession.scala:1175)\n\tat org.apache.spark.sql.execution.SQLExecution$.withNewExecutionId0(SQLExecution.scala:167)\n\tat org.apache.spark.sql.execution.SQLExecution$.withNewExecutionId(SQLExecution.scala:662)\n\tat org.apache.spark.sql.execution.QueryExecution$$anonfun$$nestedInanonfun$eagerlyExecuteCommands$1$1.$anonfun$applyOrElse$2(QueryExecution.scala:380)\n\tat org.apache.spark.sql.execution.QueryExecution$.withInternalError(QueryExecution.scala:1135)\n\tat org.apache.spark.sql.execution.QueryExecution$$anonfun$$nestedInanonfun$eagerlyExecuteCommands$1$1.$anonfun$applyOrElse$1(QueryExecution.scala:376)\n\tat org.apache.spark.sql.execution.QueryExecution.org$apache$spark$sql$execution$QueryExecution$$withMVTagsIfNecessary(QueryExecution.scala:324)\n\tat org.apache.spark.sql.execution.QueryExecution$$anonfun$$nestedInanonfun$eagerlyExecuteCommands$1$1.applyOrElse(QueryExecution.scala:373)\n\tat org.apache.spark.sql.execution.QueryExecution$$anonfun$$nestedInanonfun$eagerlyExecuteCommands$1$1.applyOrElse(QueryExecution.scala:357)\n\tat org.apache.spark.sql.catalyst.trees.TreeNode.$anonfun$transformDownWithPruning$1(TreeNode.scala:505)\n\tat org.apache.spark.sql.catalyst.trees.CurrentOrigin$.withOrigin(origin.scala:83)\n\tat org.apache.spark.sql.catalyst.trees.TreeNode.transformDownWithPruning(TreeNode.scala:505)\n\tat org.apache.spark.sql.catalyst.plans.logical.LogicalPlan.org$apache$spark$sql$catalyst$plans$logical$AnalysisHelper$$super$transformDownWithPruning(LogicalPlan.scala:39)\n\tat org.apache.spark.sql.catalyst.plans.logical.AnalysisHelper.transformDownWithPruning(AnalysisHelper.scala:343)\n\tat org.apache.spark.sql.catalyst.plans.logical.AnalysisHelper.transformDownWithPruning$(AnalysisHelper.scala:339)\n\tat org.apache.spark.sql.catalyst.plans.logical.LogicalPlan.transformDownWithPruning(LogicalPlan.scala:39)\n\tat org.apache.spark.sql.catalyst.plans.logical.LogicalPlan.transformDownWithPruning(LogicalPlan.scala:39)\n\tat org.apache.spark.sql.catalyst.trees.TreeNode.transformDown(TreeNode.scala:481)\n\tat org.apache.spark.sql.execution.QueryExecution.$anonfun$eagerlyExecuteCommands$1(QueryExecution.scala:357)\n\tat org.apache.spark.sql.catalyst.plans.logical.AnalysisHelper$.allowInvokingTransformsInAnalyzer(AnalysisHelper.scala:400)\n\tat org.apache.spark.sql.execution.QueryExecution.eagerlyExecuteCommands(QueryExecution.scala:357)\n\tat org.apache.spark.sql.execution.QueryExecution.commandExecuted$lzycompute(QueryExecution.scala:283)\n\tat org.apache.spark.sql.execution.QueryExecution.commandExecuted(QueryExecution.scala:280)\n\tat org.apache.spark.sql.Dataset.<init>(Dataset.scala:289)\n\tat org.apache.spark.sql.Dataset$.$anonfun$ofRows$2(Dataset.scala:127)\n\tat org.apache.spark.sql.SparkSession.withActive(SparkSession.scala:1175)\n\tat org.apache.spark.sql.SparkSession.$anonfun$withActiveAndFrameProfiler$1(SparkSession.scala:1182)\n\tat com.databricks.spark.util.FrameProfiler$.record(FrameProfiler.scala:94)\n\tat org.apache.spark.sql.SparkSession.withActiveAndFrameProfiler(SparkSession.scala:1182)\n\tat org.apache.spark.sql.Dataset$.ofRows(Dataset.scala:116)\n\tat org.apache.spark.sql.SparkSession.$anonfun$sql$4(SparkSession.scala:954)\n\tat org.apache.spark.sql.SparkSession.withActive(SparkSession.scala:1175)\n\tat org.apache.spark.sql.SparkSession.sql(SparkSession.scala:942)\n\tat org.apache.spark.sql.SparkSession.sql(SparkSession.scala:977)\n\tat org.apache.spark.sql.SparkSession.sql(SparkSession.scala:1010)\n\tat org.apache.spark.sql.SQLContext.sql(SQLContext.scala:696)\n\tat com.databricks.backend.daemon.driver.DriverLocal$DbClassicStrategy.executeSQLQuery(DriverLocal.scala:312)\n\tat com.databricks.backend.daemon.driver.DriverLocal.executeSQLSubCommand(DriverLocal.scala:402)\n\tat com.databricks.backend.daemon.driver.DriverLocal.$anonfun$executeSql$1(DriverLocal.scala:423)\n\tat scala.collection.immutable.List.map(List.scala:293)\n\tat com.databricks.backend.daemon.driver.DriverLocal.executeSql(DriverLocal.scala:418)\n\tat com.databricks.backend.daemon.driver.JupyterDriverLocal.repl(JupyterDriverLocal.scala:1058)\n\tat com.databricks.backend.daemon.driver.DriverLocal.$anonfun$execute$33(DriverLocal.scala:1169)\n\tat com.databricks.unity.EmptyHandle$.runWith(UCSHandle.scala:133)\n\tat com.databricks.backend.daemon.driver.DriverLocal.$anonfun$execute$28(DriverLocal.scala:1160)\n\tat com.databricks.logging.UsageLogging.$anonfun$withAttributionContext$1(UsageLogging.scala:426)\n\tat scala.util.DynamicVariable.withValue(DynamicVariable.scala:62)\n\tat com.databricks.logging.AttributionContext$.withValue(AttributionContext.scala:216)\n\tat com.databricks.logging.UsageLogging.withAttributionContext(UsageLogging.scala:424)\n\tat com.databricks.logging.UsageLogging.withAttributionContext$(UsageLogging.scala:418)\n\tat com.databricks.backend.daemon.driver.DriverLocal.withAttributionContext(DriverLocal.scala:100)\n\tat com.databricks.logging.UsageLogging.withAttributionTags(UsageLogging.scala:472)\n\tat com.databricks.logging.UsageLogging.withAttributionTags$(UsageLogging.scala:455)\n\tat com.databricks.backend.daemon.driver.DriverLocal.withAttributionTags(DriverLocal.scala:100)\n\tat com.databricks.backend.daemon.driver.DriverLocal.$anonfun$execute$1(DriverLocal.scala:1096)\n\tat com.databricks.backend.daemon.driver.DriverLocal$.$anonfun$maybeSynchronizeExecution$4(DriverLocal.scala:1557)\n\tat com.databricks.backend.daemon.driver.DriverLocal.execute(DriverLocal.scala:773)\n\tat com.databricks.backend.daemon.driver.DriverWrapper.$anonfun$tryExecutingCommand$2(DriverWrapper.scala:786)\n\tat scala.util.Try$.apply(Try.scala:213)\n\tat com.databricks.backend.daemon.driver.DriverWrapper.$anonfun$tryExecutingCommand$1(DriverWrapper.scala:778)\n\tat com.databricks.backend.daemon.driver.DriverWrapper.tryExecutingCommand(DriverWrapper.scala:806)\n\tat com.databricks.backend.daemon.driver.DriverWrapper.executeCommandAndGetError(DriverWrapper.scala:685)\n\tat com.databricks.backend.daemon.driver.DriverWrapper.executeCommand(DriverWrapper.scala:730)\n\tat com.databricks.backend.daemon.driver.DriverWrapper.runInnerLoop(DriverWrapper.scala:556)\n\tat com.databricks.backend.daemon.driver.DriverWrapper.runInner(DriverWrapper.scala:482)\n\tat com.databricks.backend.daemon.driver.DriverWrapper.run(DriverWrapper.scala:290)\n\tat java.lang.Thread.run(Thread.java:750)\n"
       ],
       "type": "baseError"
      }
     },
     "output_type": "display_data"
    }
   ],
   "source": [
    "%sql\n",
    "drop  table orders"
   ]
  },
  {
   "cell_type": "code",
   "execution_count": 0,
   "metadata": {
    "application/vnd.databricks.v1+cell": {
     "cellMetadata": {
      "byteLimit": 2048000,
      "implicitDf": true,
      "rowLimit": 10000
     },
     "inputWidgets": {},
     "nuid": "3186aadf-ee0b-40dd-9797-a2864b81c60a",
     "showTitle": false,
     "tableResultSettingsMap": {},
     "title": ""
    }
   },
   "outputs": [
    {
     "output_type": "display_data",
     "data": {
      "text/html": [
       "<style scoped>\n",
       "  .table-result-container {\n",
       "    max-height: 300px;\n",
       "    overflow: auto;\n",
       "  }\n",
       "  table, th, td {\n",
       "    border: 1px solid black;\n",
       "    border-collapse: collapse;\n",
       "  }\n",
       "  th, td {\n",
       "    padding: 5px;\n",
       "  }\n",
       "  th {\n",
       "    text-align: left;\n",
       "  }\n",
       "</style><div class='table-result-container'><table class='table-result'><thead style='background-color: white'><tr></tr></thead><tbody></tbody></table></div>"
      ]
     },
     "metadata": {
      "application/vnd.databricks.v1+output": {
       "addedWidgets": {},
       "aggData": [],
       "aggError": "",
       "aggOverflow": false,
       "aggSchema": [],
       "aggSeriesLimitReached": false,
       "aggType": "",
       "arguments": {},
       "columnCustomDisplayInfos": {},
       "data": [],
       "datasetInfos": [],
       "dbfsResultPath": null,
       "isJsonSchema": true,
       "metadata": {
        "dataframeName": null
       },
       "overflow": false,
       "plotOptions": {
        "customPlotOptions": {},
        "displayType": "table",
        "pivotAggregation": null,
        "pivotColumns": null,
        "xColumns": null,
        "yColumns": null
       },
       "removedWidgets": [],
       "schema": [],
       "type": "table"
      }
     },
     "output_type": "display_data"
    }
   ],
   "source": [
    "%sql\n",
    "create table orders(\n",
    "  order_id string,\n",
    "  order_date string,\n",
    "  order_customer_id string,\n",
    "  order_status string \n",
    ")using delta \n",
    "\n",
    "\n"
   ]
  },
  {
   "cell_type": "code",
   "execution_count": 0,
   "metadata": {
    "application/vnd.databricks.v1+cell": {
     "cellMetadata": {
      "byteLimit": 2048000,
      "implicitDf": true,
      "rowLimit": 10000
     },
     "inputWidgets": {},
     "nuid": "ad981c4e-4655-4cb6-a414-3ea9c6af695f",
     "showTitle": false,
     "tableResultSettingsMap": {},
     "title": ""
    }
   },
   "outputs": [
    {
     "output_type": "display_data",
     "data": {
      "text/html": [
       "<style scoped>\n",
       "  .table-result-container {\n",
       "    max-height: 300px;\n",
       "    overflow: auto;\n",
       "  }\n",
       "  table, th, td {\n",
       "    border: 1px solid black;\n",
       "    border-collapse: collapse;\n",
       "  }\n",
       "  th, td {\n",
       "    padding: 5px;\n",
       "  }\n",
       "  th {\n",
       "    text-align: left;\n",
       "  }\n",
       "</style><div class='table-result-container'><table class='table-result'><thead style='background-color: white'><tr></tr></thead><tbody></tbody></table></div>"
      ]
     },
     "metadata": {
      "application/vnd.databricks.v1+output": {
       "addedWidgets": {},
       "aggData": [],
       "aggError": "",
       "aggOverflow": false,
       "aggSchema": [],
       "aggSeriesLimitReached": false,
       "aggType": "",
       "arguments": {},
       "columnCustomDisplayInfos": {},
       "data": [],
       "datasetInfos": [],
       "dbfsResultPath": null,
       "isJsonSchema": true,
       "metadata": {
        "dataframeName": null
       },
       "overflow": false,
       "plotOptions": {
        "customPlotOptions": {},
        "displayType": "table",
        "pivotAggregation": null,
        "pivotColumns": null,
        "xColumns": null,
        "yColumns": null
       },
       "removedWidgets": [],
       "schema": [],
       "type": "table"
      }
     },
     "output_type": "display_data"
    }
   ],
   "source": []
  },
  {
   "cell_type": "code",
   "execution_count": 0,
   "metadata": {
    "application/vnd.databricks.v1+cell": {
     "cellMetadata": {
      "byteLimit": 2048000,
      "rowLimit": 10000
     },
     "inputWidgets": {},
     "nuid": "af00513a-6188-4877-b24a-d5a0f4dbc665",
     "showTitle": false,
     "tableResultSettingsMap": {},
     "title": ""
    }
   },
   "outputs": [
    {
     "output_type": "display_data",
     "data": {
      "text/plain": [
       "\u001B[0;31m---------------------------------------------------------------------------\u001B[0m\n",
       "\u001B[0;31mExecutionError\u001B[0m                            Traceback (most recent call last)\n",
       "File \u001B[0;32m<command-2483991118844509>, line 1\u001B[0m\n",
       "\u001B[0;32m----> 1\u001B[0m \u001B[43mdbutils\u001B[49m\u001B[38;5;241;43m.\u001B[39;49m\u001B[43mfs\u001B[49m\u001B[38;5;241;43m.\u001B[39;49m\u001B[43mls\u001B[49m\u001B[43m(\u001B[49m\u001B[38;5;124;43m\"\u001B[39;49m\u001B[38;5;124;43mdbfs:/user/hive/warehouse/orders/_delta_log/_copy_into_log\u001B[39;49m\u001B[38;5;124;43m\"\u001B[39;49m\u001B[43m)\u001B[49m\n",
       "\n",
       "File \u001B[0;32m/databricks/python_shell/lib/dbruntime/dbutils.py:380\u001B[0m, in \u001B[0;36mDBUtils.FSHandler.prettify_exception_message.<locals>.f_with_exception_handling\u001B[0;34m(*args, **kwargs)\u001B[0m\n",
       "\u001B[1;32m    378\u001B[0m exc\u001B[38;5;241m.\u001B[39m__context__ \u001B[38;5;241m=\u001B[39m \u001B[38;5;28;01mNone\u001B[39;00m\n",
       "\u001B[1;32m    379\u001B[0m exc\u001B[38;5;241m.\u001B[39m__cause__ \u001B[38;5;241m=\u001B[39m \u001B[38;5;28;01mNone\u001B[39;00m\n",
       "\u001B[0;32m--> 380\u001B[0m \u001B[38;5;28;01mraise\u001B[39;00m exc\n",
       "\n",
       "\u001B[0;31mExecutionError\u001B[0m: An error occurred while calling o406.ls.\n",
       ": java.io.FileNotFoundException: /user/hive/warehouse/orders/_delta_log/_copy_into_log\n",
       "\tat com.databricks.backend.daemon.data.client.DbfsClient.send0(DbfsClient.scala:126)\n",
       "\tat com.databricks.backend.daemon.data.client.DbfsClient.sendIdempotent(DbfsClient.scala:74)\n",
       "\tat com.databricks.backend.daemon.data.client.DatabricksFileSystemV1.listStatus(DatabricksFileSystemV1.scala:179)\n",
       "\tat com.databricks.backend.daemon.data.client.DatabricksFileSystem.listStatus(DatabricksFileSystem.scala:164)\n",
       "\tat com.databricks.backend.daemon.dbutils.FSUtils.lsWithLimit(DBUtilsCore.scala:295)\n",
       "\tat com.databricks.backend.daemon.dbutils.FSUtils.$anonfun$lsImpl$4(DBUtilsCore.scala:264)\n",
       "\tat com.databricks.backend.daemon.dbutils.FSUtils.withFsSafetyCheck(DBUtilsCore.scala:151)\n",
       "\tat com.databricks.backend.daemon.dbutils.FSUtils.$anonfun$lsImpl$3(DBUtilsCore.scala:264)\n",
       "\tat com.databricks.backend.daemon.dbutils.FSUtils.checkPermission(DBUtilsCore.scala:146)\n",
       "\tat com.databricks.backend.daemon.dbutils.FSUtils.lsImpl(DBUtilsCore.scala:263)\n",
       "\tat com.databricks.backend.daemon.dbutils.FSUtils.$anonfun$ls$1(DBUtilsCore.scala:236)\n",
       "\tat com.databricks.logging.UsageLogging.$anonfun$recordOperation$1(UsageLogging.scala:573)\n",
       "\tat com.databricks.logging.UsageLogging.executeThunkAndCaptureResultTags$1(UsageLogging.scala:669)\n",
       "\tat com.databricks.logging.UsageLogging.$anonfun$recordOperationWithResultTags$4(UsageLogging.scala:687)\n",
       "\tat com.databricks.logging.UsageLogging.$anonfun$withAttributionContext$1(UsageLogging.scala:426)\n",
       "\tat scala.util.DynamicVariable.withValue(DynamicVariable.scala:62)\n",
       "\tat com.databricks.logging.AttributionContext$.withValue(AttributionContext.scala:216)\n",
       "\tat com.databricks.logging.UsageLogging.withAttributionContext(UsageLogging.scala:424)\n",
       "\tat com.databricks.logging.UsageLogging.withAttributionContext$(UsageLogging.scala:418)\n",
       "\tat com.databricks.backend.daemon.dbutils.FSUtils.withAttributionContext(DBUtilsCore.scala:73)\n",
       "\tat com.databricks.logging.UsageLogging.withAttributionTags(UsageLogging.scala:472)\n",
       "\tat com.databricks.logging.UsageLogging.withAttributionTags$(UsageLogging.scala:455)\n",
       "\tat com.databricks.backend.daemon.dbutils.FSUtils.withAttributionTags(DBUtilsCore.scala:73)\n",
       "\tat com.databricks.logging.UsageLogging.recordOperationWithResultTags(UsageLogging.scala:664)\n",
       "\tat com.databricks.logging.UsageLogging.recordOperationWithResultTags$(UsageLogging.scala:582)\n",
       "\tat com.databricks.backend.daemon.dbutils.FSUtils.recordOperationWithResultTags(DBUtilsCore.scala:73)\n",
       "\tat com.databricks.logging.UsageLogging.recordOperation(UsageLogging.scala:573)\n",
       "\tat com.databricks.logging.UsageLogging.recordOperation$(UsageLogging.scala:542)\n",
       "\tat com.databricks.backend.daemon.dbutils.FSUtils.recordOperation(DBUtilsCore.scala:73)\n",
       "\tat com.databricks.backend.daemon.dbutils.FSUtils.recordDbutilsFsOp(DBUtilsCore.scala:137)\n",
       "\tat com.databricks.backend.daemon.dbutils.FSUtils.ls(DBUtilsCore.scala:236)\n",
       "\tat sun.reflect.NativeMethodAccessorImpl.invoke0(Native Method)\n",
       "\tat sun.reflect.NativeMethodAccessorImpl.invoke(NativeMethodAccessorImpl.java:62)\n",
       "\tat sun.reflect.DelegatingMethodAccessorImpl.invoke(DelegatingMethodAccessorImpl.java:43)\n",
       "\tat java.lang.reflect.Method.invoke(Method.java:498)\n",
       "\tat py4j.reflection.MethodInvoker.invoke(MethodInvoker.java:244)\n",
       "\tat py4j.reflection.ReflectionEngine.invoke(ReflectionEngine.java:397)\n",
       "\tat py4j.Gateway.invoke(Gateway.java:306)\n",
       "\tat py4j.commands.AbstractCommand.invokeMethod(AbstractCommand.java:132)\n",
       "\tat py4j.commands.CallCommand.execute(CallCommand.java:79)\n",
       "\tat py4j.ClientServerConnection.waitForCommands(ClientServerConnection.java:199)\n",
       "\tat py4j.ClientServerConnection.run(ClientServerConnection.java:119)\n",
       "\tat java.lang.Thread.run(Thread.java:750)\n"
      ]
     },
     "metadata": {
      "application/vnd.databricks.v1+output": {
       "addedWidgets": {},
       "arguments": {},
       "datasetInfos": [],
       "jupyterProps": {
        "ename": "ExecutionError",
        "evalue": "An error occurred while calling o406.ls.\n: java.io.FileNotFoundException: /user/hive/warehouse/orders/_delta_log/_copy_into_log\n\tat com.databricks.backend.daemon.data.client.DbfsClient.send0(DbfsClient.scala:126)\n\tat com.databricks.backend.daemon.data.client.DbfsClient.sendIdempotent(DbfsClient.scala:74)\n\tat com.databricks.backend.daemon.data.client.DatabricksFileSystemV1.listStatus(DatabricksFileSystemV1.scala:179)\n\tat com.databricks.backend.daemon.data.client.DatabricksFileSystem.listStatus(DatabricksFileSystem.scala:164)\n\tat com.databricks.backend.daemon.dbutils.FSUtils.lsWithLimit(DBUtilsCore.scala:295)\n\tat com.databricks.backend.daemon.dbutils.FSUtils.$anonfun$lsImpl$4(DBUtilsCore.scala:264)\n\tat com.databricks.backend.daemon.dbutils.FSUtils.withFsSafetyCheck(DBUtilsCore.scala:151)\n\tat com.databricks.backend.daemon.dbutils.FSUtils.$anonfun$lsImpl$3(DBUtilsCore.scala:264)\n\tat com.databricks.backend.daemon.dbutils.FSUtils.checkPermission(DBUtilsCore.scala:146)\n\tat com.databricks.backend.daemon.dbutils.FSUtils.lsImpl(DBUtilsCore.scala:263)\n\tat com.databricks.backend.daemon.dbutils.FSUtils.$anonfun$ls$1(DBUtilsCore.scala:236)\n\tat com.databricks.logging.UsageLogging.$anonfun$recordOperation$1(UsageLogging.scala:573)\n\tat com.databricks.logging.UsageLogging.executeThunkAndCaptureResultTags$1(UsageLogging.scala:669)\n\tat com.databricks.logging.UsageLogging.$anonfun$recordOperationWithResultTags$4(UsageLogging.scala:687)\n\tat com.databricks.logging.UsageLogging.$anonfun$withAttributionContext$1(UsageLogging.scala:426)\n\tat scala.util.DynamicVariable.withValue(DynamicVariable.scala:62)\n\tat com.databricks.logging.AttributionContext$.withValue(AttributionContext.scala:216)\n\tat com.databricks.logging.UsageLogging.withAttributionContext(UsageLogging.scala:424)\n\tat com.databricks.logging.UsageLogging.withAttributionContext$(UsageLogging.scala:418)\n\tat com.databricks.backend.daemon.dbutils.FSUtils.withAttributionContext(DBUtilsCore.scala:73)\n\tat com.databricks.logging.UsageLogging.withAttributionTags(UsageLogging.scala:472)\n\tat com.databricks.logging.UsageLogging.withAttributionTags$(UsageLogging.scala:455)\n\tat com.databricks.backend.daemon.dbutils.FSUtils.withAttributionTags(DBUtilsCore.scala:73)\n\tat com.databricks.logging.UsageLogging.recordOperationWithResultTags(UsageLogging.scala:664)\n\tat com.databricks.logging.UsageLogging.recordOperationWithResultTags$(UsageLogging.scala:582)\n\tat com.databricks.backend.daemon.dbutils.FSUtils.recordOperationWithResultTags(DBUtilsCore.scala:73)\n\tat com.databricks.logging.UsageLogging.recordOperation(UsageLogging.scala:573)\n\tat com.databricks.logging.UsageLogging.recordOperation$(UsageLogging.scala:542)\n\tat com.databricks.backend.daemon.dbutils.FSUtils.recordOperation(DBUtilsCore.scala:73)\n\tat com.databricks.backend.daemon.dbutils.FSUtils.recordDbutilsFsOp(DBUtilsCore.scala:137)\n\tat com.databricks.backend.daemon.dbutils.FSUtils.ls(DBUtilsCore.scala:236)\n\tat sun.reflect.NativeMethodAccessorImpl.invoke0(Native Method)\n\tat sun.reflect.NativeMethodAccessorImpl.invoke(NativeMethodAccessorImpl.java:62)\n\tat sun.reflect.DelegatingMethodAccessorImpl.invoke(DelegatingMethodAccessorImpl.java:43)\n\tat java.lang.reflect.Method.invoke(Method.java:498)\n\tat py4j.reflection.MethodInvoker.invoke(MethodInvoker.java:244)\n\tat py4j.reflection.ReflectionEngine.invoke(ReflectionEngine.java:397)\n\tat py4j.Gateway.invoke(Gateway.java:306)\n\tat py4j.commands.AbstractCommand.invokeMethod(AbstractCommand.java:132)\n\tat py4j.commands.CallCommand.execute(CallCommand.java:79)\n\tat py4j.ClientServerConnection.waitForCommands(ClientServerConnection.java:199)\n\tat py4j.ClientServerConnection.run(ClientServerConnection.java:119)\n\tat java.lang.Thread.run(Thread.java:750)\n"
       },
       "metadata": {
        "errorSummary": "<span class='ansi-red-fg'>ExecutionError</span>: An error occurred while calling o406.ls.\n: java.io.FileNotFoundException: /user/hive/warehouse/orders/_delta_log/_copy_into_log\n\tat com.databricks.backend.daemon.data.client.DbfsClient.send0(DbfsClient.scala:126)\n\tat com.databricks.backend.daemon.data.client.DbfsClient.sendIdempotent(DbfsClient.scala:74)\n\tat com.databricks.backend.daemon.data.client.DatabricksFileSystemV1.listStatus(DatabricksFileSystemV1.scala:179)\n\tat com.databricks.backend.daemon.data.client.DatabricksFileSystem.listStatus(DatabricksFileSystem.scala:164)\n\tat com.databricks.backend.daemon.dbutils.FSUtils.lsWithLimit(DBUtilsCore.scala:295)\n\tat com.databricks.backend.daemon.dbutils.FSUtils.$anonfun$lsImpl$4(DBUtilsCore.scala:264)\n\tat com.databricks.backend.daemon.dbutils.FSUtils.withFsSafetyCheck(DBUtilsCore.scala:151)\n\tat com.databricks.backend.daemon.dbutils.FSUtils.$anonfun$lsImpl$3(DBUtilsCore.scala:264)\n\tat com.databricks.backend.daemon.dbutils.FSUtils.checkPermission(DBUtilsCore.scala:146)\n\tat com.databricks.backend.daemon.dbutils.FSUtils.lsImpl(DBUtilsCore.scala:263)\n\tat com.databricks.backend.daemon.dbutils.FSUtils.$anonfun$ls$1(DBUtilsCore.scala:236)\n\tat com.databricks.logging.UsageLogging.$anonfun$recordOperation$1(UsageLogging.scala:573)\n\tat com.databricks.logging.UsageLogging.executeThunkAndCaptureResultTags$1(UsageLogging.scala:669)\n\tat com.databricks.logging.UsageLogging.$anonfun$recordOperationWithResultTags$4(UsageLogging.scala:687)\n\tat com.databricks.logging.UsageLogging.$anonfun$withAttributionContext$1(UsageLogging.scala:426)\n\tat scala.util.DynamicVariable.withValue(DynamicVariable.scala:62)\n\tat com.databricks.logging.AttributionContext$.withValue(AttributionContext.scala:216)\n\tat com.databricks.logging.UsageLogging.withAttributionContext(UsageLogging.scala:424)\n\tat com.databricks.logging.UsageLogging.withAttributionContext$(UsageLogging.scala:418)\n\tat com.databricks.backend.daemon.dbutils.FSUtils.withAttributionContext(DBUtilsCore.scala:73)\n\tat com.databricks.logging.UsageLogging.withAttributionTags(UsageLogging.scala:472)\n\tat com.databricks.logging.UsageLogging.withAttributionTags$(UsageLogging.scala:455)\n\tat com.databricks.backend.daemon.dbutils.FSUtils.withAttributionTags(DBUtilsCore.scala:73)\n\tat com.databricks.logging.UsageLogging.recordOperationWithResultTags(UsageLogging.scala:664)\n\tat com.databricks.logging.UsageLogging.recordOperationWithResultTags$(UsageLogging.scala:582)\n\tat com.databricks.backend.daemon.dbutils.FSUtils.recordOperationWithResultTags(DBUtilsCore.scala:73)\n\tat com.databricks.logging.UsageLogging.recordOperation(UsageLogging.scala:573)\n\tat com.databricks.logging.UsageLogging.recordOperation$(UsageLogging.scala:542)\n\tat com.databricks.backend.daemon.dbutils.FSUtils.recordOperation(DBUtilsCore.scala:73)\n\tat com.databricks.backend.daemon.dbutils.FSUtils.recordDbutilsFsOp(DBUtilsCore.scala:137)\n\tat com.databricks.backend.daemon.dbutils.FSUtils.ls(DBUtilsCore.scala:236)\n\tat sun.reflect.NativeMethodAccessorImpl.invoke0(Native Method)\n\tat sun.reflect.NativeMethodAccessorImpl.invoke(NativeMethodAccessorImpl.java:62)\n\tat sun.reflect.DelegatingMethodAccessorImpl.invoke(DelegatingMethodAccessorImpl.java:43)\n\tat java.lang.reflect.Method.invoke(Method.java:498)\n\tat py4j.reflection.MethodInvoker.invoke(MethodInvoker.java:244)\n\tat py4j.reflection.ReflectionEngine.invoke(ReflectionEngine.java:397)\n\tat py4j.Gateway.invoke(Gateway.java:306)\n\tat py4j.commands.AbstractCommand.invokeMethod(AbstractCommand.java:132)\n\tat py4j.commands.CallCommand.execute(CallCommand.java:79)\n\tat py4j.ClientServerConnection.waitForCommands(ClientServerConnection.java:199)\n\tat py4j.ClientServerConnection.run(ClientServerConnection.java:119)\n\tat java.lang.Thread.run(Thread.java:750)\n"
       },
       "removedWidgets": [],
       "sqlProps": null,
       "stackFrames": [
        "\u001B[0;31m---------------------------------------------------------------------------\u001B[0m",
        "\u001B[0;31mExecutionError\u001B[0m                            Traceback (most recent call last)",
        "File \u001B[0;32m<command-2483991118844509>, line 1\u001B[0m\n\u001B[0;32m----> 1\u001B[0m \u001B[43mdbutils\u001B[49m\u001B[38;5;241;43m.\u001B[39;49m\u001B[43mfs\u001B[49m\u001B[38;5;241;43m.\u001B[39;49m\u001B[43mls\u001B[49m\u001B[43m(\u001B[49m\u001B[38;5;124;43m\"\u001B[39;49m\u001B[38;5;124;43mdbfs:/user/hive/warehouse/orders/_delta_log/_copy_into_log\u001B[39;49m\u001B[38;5;124;43m\"\u001B[39;49m\u001B[43m)\u001B[49m\n",
        "File \u001B[0;32m/databricks/python_shell/lib/dbruntime/dbutils.py:380\u001B[0m, in \u001B[0;36mDBUtils.FSHandler.prettify_exception_message.<locals>.f_with_exception_handling\u001B[0;34m(*args, **kwargs)\u001B[0m\n\u001B[1;32m    378\u001B[0m exc\u001B[38;5;241m.\u001B[39m__context__ \u001B[38;5;241m=\u001B[39m \u001B[38;5;28;01mNone\u001B[39;00m\n\u001B[1;32m    379\u001B[0m exc\u001B[38;5;241m.\u001B[39m__cause__ \u001B[38;5;241m=\u001B[39m \u001B[38;5;28;01mNone\u001B[39;00m\n\u001B[0;32m--> 380\u001B[0m \u001B[38;5;28;01mraise\u001B[39;00m exc\n",
        "\u001B[0;31mExecutionError\u001B[0m: An error occurred while calling o406.ls.\n: java.io.FileNotFoundException: /user/hive/warehouse/orders/_delta_log/_copy_into_log\n\tat com.databricks.backend.daemon.data.client.DbfsClient.send0(DbfsClient.scala:126)\n\tat com.databricks.backend.daemon.data.client.DbfsClient.sendIdempotent(DbfsClient.scala:74)\n\tat com.databricks.backend.daemon.data.client.DatabricksFileSystemV1.listStatus(DatabricksFileSystemV1.scala:179)\n\tat com.databricks.backend.daemon.data.client.DatabricksFileSystem.listStatus(DatabricksFileSystem.scala:164)\n\tat com.databricks.backend.daemon.dbutils.FSUtils.lsWithLimit(DBUtilsCore.scala:295)\n\tat com.databricks.backend.daemon.dbutils.FSUtils.$anonfun$lsImpl$4(DBUtilsCore.scala:264)\n\tat com.databricks.backend.daemon.dbutils.FSUtils.withFsSafetyCheck(DBUtilsCore.scala:151)\n\tat com.databricks.backend.daemon.dbutils.FSUtils.$anonfun$lsImpl$3(DBUtilsCore.scala:264)\n\tat com.databricks.backend.daemon.dbutils.FSUtils.checkPermission(DBUtilsCore.scala:146)\n\tat com.databricks.backend.daemon.dbutils.FSUtils.lsImpl(DBUtilsCore.scala:263)\n\tat com.databricks.backend.daemon.dbutils.FSUtils.$anonfun$ls$1(DBUtilsCore.scala:236)\n\tat com.databricks.logging.UsageLogging.$anonfun$recordOperation$1(UsageLogging.scala:573)\n\tat com.databricks.logging.UsageLogging.executeThunkAndCaptureResultTags$1(UsageLogging.scala:669)\n\tat com.databricks.logging.UsageLogging.$anonfun$recordOperationWithResultTags$4(UsageLogging.scala:687)\n\tat com.databricks.logging.UsageLogging.$anonfun$withAttributionContext$1(UsageLogging.scala:426)\n\tat scala.util.DynamicVariable.withValue(DynamicVariable.scala:62)\n\tat com.databricks.logging.AttributionContext$.withValue(AttributionContext.scala:216)\n\tat com.databricks.logging.UsageLogging.withAttributionContext(UsageLogging.scala:424)\n\tat com.databricks.logging.UsageLogging.withAttributionContext$(UsageLogging.scala:418)\n\tat com.databricks.backend.daemon.dbutils.FSUtils.withAttributionContext(DBUtilsCore.scala:73)\n\tat com.databricks.logging.UsageLogging.withAttributionTags(UsageLogging.scala:472)\n\tat com.databricks.logging.UsageLogging.withAttributionTags$(UsageLogging.scala:455)\n\tat com.databricks.backend.daemon.dbutils.FSUtils.withAttributionTags(DBUtilsCore.scala:73)\n\tat com.databricks.logging.UsageLogging.recordOperationWithResultTags(UsageLogging.scala:664)\n\tat com.databricks.logging.UsageLogging.recordOperationWithResultTags$(UsageLogging.scala:582)\n\tat com.databricks.backend.daemon.dbutils.FSUtils.recordOperationWithResultTags(DBUtilsCore.scala:73)\n\tat com.databricks.logging.UsageLogging.recordOperation(UsageLogging.scala:573)\n\tat com.databricks.logging.UsageLogging.recordOperation$(UsageLogging.scala:542)\n\tat com.databricks.backend.daemon.dbutils.FSUtils.recordOperation(DBUtilsCore.scala:73)\n\tat com.databricks.backend.daemon.dbutils.FSUtils.recordDbutilsFsOp(DBUtilsCore.scala:137)\n\tat com.databricks.backend.daemon.dbutils.FSUtils.ls(DBUtilsCore.scala:236)\n\tat sun.reflect.NativeMethodAccessorImpl.invoke0(Native Method)\n\tat sun.reflect.NativeMethodAccessorImpl.invoke(NativeMethodAccessorImpl.java:62)\n\tat sun.reflect.DelegatingMethodAccessorImpl.invoke(DelegatingMethodAccessorImpl.java:43)\n\tat java.lang.reflect.Method.invoke(Method.java:498)\n\tat py4j.reflection.MethodInvoker.invoke(MethodInvoker.java:244)\n\tat py4j.reflection.ReflectionEngine.invoke(ReflectionEngine.java:397)\n\tat py4j.Gateway.invoke(Gateway.java:306)\n\tat py4j.commands.AbstractCommand.invokeMethod(AbstractCommand.java:132)\n\tat py4j.commands.CallCommand.execute(CallCommand.java:79)\n\tat py4j.ClientServerConnection.waitForCommands(ClientServerConnection.java:199)\n\tat py4j.ClientServerConnection.run(ClientServerConnection.java:119)\n\tat java.lang.Thread.run(Thread.java:750)\n"
       ],
       "type": "baseError"
      }
     },
     "output_type": "display_data"
    }
   ],
   "source": [
    "dbutils.fs.ls(\"dbfs:/user/hive/warehouse/orders/_delta_log/_copy_into_log\")"
   ]
  },
  {
   "cell_type": "code",
   "execution_count": 0,
   "metadata": {
    "application/vnd.databricks.v1+cell": {
     "cellMetadata": {
      "byteLimit": 2048000,
      "rowLimit": 10000
     },
     "inputWidgets": {},
     "nuid": "7c649ad2-d426-4d32-b457-bb3b6d9f7803",
     "showTitle": false,
     "tableResultSettingsMap": {},
     "title": ""
    }
   },
   "outputs": [
    {
     "output_type": "execute_result",
     "data": {
      "text/plain": [
       "True"
      ]
     },
     "execution_count": 2,
     "metadata": {},
     "output_type": "execute_result"
    }
   ],
   "source": []
  },
  {
   "cell_type": "code",
   "execution_count": 0,
   "metadata": {
    "application/vnd.databricks.v1+cell": {
     "cellMetadata": {
      "byteLimit": 2048000,
      "implicitDf": true,
      "rowLimit": 10000
     },
     "inputWidgets": {},
     "nuid": "6d8ae218-abd9-44a1-b197-69740f8b39e2",
     "showTitle": false,
     "tableResultSettingsMap": {},
     "title": ""
    }
   },
   "outputs": [
    {
     "output_type": "display_data",
     "data": {
      "text/html": [
       "<style scoped>\n",
       "  .table-result-container {\n",
       "    max-height: 300px;\n",
       "    overflow: auto;\n",
       "  }\n",
       "  table, th, td {\n",
       "    border: 1px solid black;\n",
       "    border-collapse: collapse;\n",
       "  }\n",
       "  th, td {\n",
       "    padding: 5px;\n",
       "  }\n",
       "  th {\n",
       "    text-align: left;\n",
       "  }\n",
       "</style><div class='table-result-container'><table class='table-result'><thead style='background-color: white'><tr><th>format</th><th>id</th><th>name</th><th>description</th><th>location</th><th>createdAt</th><th>lastModified</th><th>partitionColumns</th><th>clusteringColumns</th><th>numFiles</th><th>sizeInBytes</th><th>properties</th><th>minReaderVersion</th><th>minWriterVersion</th><th>tableFeatures</th><th>statistics</th></tr></thead><tbody><tr><td>delta</td><td>9beed443-edc5-4a11-8eaf-264666e33c31</td><td>spark_catalog.default.orders</td><td>null</td><td>dbfs:/user/hive/warehouse/orders</td><td>2025-07-07T14:26:06.708Z</td><td>2025-07-07T14:26:09Z</td><td>List()</td><td>List()</td><td>0</td><td>0</td><td>Map()</td><td>1</td><td>2</td><td>List(appendOnly, invariants)</td><td>Map()</td></tr></tbody></table></div>"
      ]
     },
     "metadata": {
      "application/vnd.databricks.v1+output": {
       "addedWidgets": {},
       "aggData": [],
       "aggError": "",
       "aggOverflow": false,
       "aggSchema": [],
       "aggSeriesLimitReached": false,
       "aggType": "",
       "arguments": {},
       "columnCustomDisplayInfos": {},
       "data": [
        [
         "delta",
         "9beed443-edc5-4a11-8eaf-264666e33c31",
         "spark_catalog.default.orders",
         null,
         "dbfs:/user/hive/warehouse/orders",
         "2025-07-07T14:26:06.708Z",
         "2025-07-07T14:26:09Z",
         [],
         [],
         0,
         0,
         {},
         1,
         2,
         [
          "appendOnly",
          "invariants"
         ],
         {}
        ]
       ],
       "datasetInfos": [],
       "dbfsResultPath": null,
       "isJsonSchema": true,
       "metadata": {
        "dataframeName": "_sqldf",
        "executionCount": 3
       },
       "overflow": false,
       "plotOptions": {
        "customPlotOptions": {},
        "displayType": "table",
        "pivotAggregation": null,
        "pivotColumns": null,
        "xColumns": null,
        "yColumns": null
       },
       "removedWidgets": [],
       "schema": [
        {
         "metadata": "{}",
         "name": "format",
         "type": "\"string\""
        },
        {
         "metadata": "{}",
         "name": "id",
         "type": "\"string\""
        },
        {
         "metadata": "{}",
         "name": "name",
         "type": "\"string\""
        },
        {
         "metadata": "{}",
         "name": "description",
         "type": "\"string\""
        },
        {
         "metadata": "{}",
         "name": "location",
         "type": "\"string\""
        },
        {
         "metadata": "{}",
         "name": "createdAt",
         "type": "\"timestamp\""
        },
        {
         "metadata": "{}",
         "name": "lastModified",
         "type": "\"timestamp\""
        },
        {
         "metadata": "{}",
         "name": "partitionColumns",
         "type": "{\"type\":\"array\",\"elementType\":\"string\",\"containsNull\":true}"
        },
        {
         "metadata": "{}",
         "name": "clusteringColumns",
         "type": "{\"type\":\"array\",\"elementType\":\"string\",\"containsNull\":true}"
        },
        {
         "metadata": "{}",
         "name": "numFiles",
         "type": "\"long\""
        },
        {
         "metadata": "{}",
         "name": "sizeInBytes",
         "type": "\"long\""
        },
        {
         "metadata": "{}",
         "name": "properties",
         "type": "{\"type\":\"map\",\"keyType\":\"string\",\"valueType\":\"string\",\"valueContainsNull\":true}"
        },
        {
         "metadata": "{}",
         "name": "minReaderVersion",
         "type": "\"integer\""
        },
        {
         "metadata": "{}",
         "name": "minWriterVersion",
         "type": "\"integer\""
        },
        {
         "metadata": "{}",
         "name": "tableFeatures",
         "type": "{\"type\":\"array\",\"elementType\":\"string\",\"containsNull\":true}"
        },
        {
         "metadata": "{}",
         "name": "statistics",
         "type": "{\"type\":\"map\",\"keyType\":\"string\",\"valueType\":\"long\",\"valueContainsNull\":true}"
        }
       ],
       "type": "table"
      }
     },
     "output_type": "display_data"
    }
   ],
   "source": [
    "%sql\n",
    "describe detail orders"
   ]
  },
  {
   "cell_type": "code",
   "execution_count": 0,
   "metadata": {
    "application/vnd.databricks.v1+cell": {
     "cellMetadata": {
      "byteLimit": 2048000,
      "rowLimit": 10000
     },
     "inputWidgets": {},
     "nuid": "c77b80d5-6b88-4aab-a9e4-b00ed66a7eae",
     "showTitle": false,
     "tableResultSettingsMap": {},
     "title": ""
    }
   },
   "outputs": [
    {
     "output_type": "display_data",
     "data": {
      "text/html": [
       "<style scoped>\n",
       "  .table-result-container {\n",
       "    max-height: 300px;\n",
       "    overflow: auto;\n",
       "  }\n",
       "  table, th, td {\n",
       "    border: 1px solid black;\n",
       "    border-collapse: collapse;\n",
       "  }\n",
       "  th, td {\n",
       "    padding: 5px;\n",
       "  }\n",
       "  th {\n",
       "    text-align: left;\n",
       "  }\n",
       "</style><div class='table-result-container'><table class='table-result'><thead style='background-color: white'><tr><th>path</th><th>name</th><th>size</th><th>modificationTime</th></tr></thead><tbody><tr><td>dbfs:/FileStore/orders_csv.csv</td><td>orders_csv.csv</td><td>2999896</td><td>1751628328000</td></tr></tbody></table></div>"
      ]
     },
     "metadata": {
      "application/vnd.databricks.v1+output": {
       "addedWidgets": {},
       "aggData": [],
       "aggError": "",
       "aggOverflow": false,
       "aggSchema": [],
       "aggSeriesLimitReached": false,
       "aggType": "",
       "arguments": {},
       "columnCustomDisplayInfos": {},
       "data": [
        [
         "dbfs:/FileStore/orders_csv.csv",
         "orders_csv.csv",
         2999896,
         1751628328000
        ]
       ],
       "datasetInfos": [],
       "dbfsResultPath": null,
       "isJsonSchema": true,
       "metadata": {
        "isDbfsCommandResult": false
       },
       "overflow": false,
       "plotOptions": {
        "customPlotOptions": {},
        "displayType": "table",
        "pivotAggregation": null,
        "pivotColumns": null,
        "xColumns": null,
        "yColumns": null
       },
       "removedWidgets": [],
       "schema": [
        {
         "metadata": "{}",
         "name": "path",
         "type": "\"string\""
        },
        {
         "metadata": "{}",
         "name": "name",
         "type": "\"string\""
        },
        {
         "metadata": "{}",
         "name": "size",
         "type": "\"long\""
        },
        {
         "metadata": "{}",
         "name": "modificationTime",
         "type": "\"long\""
        }
       ],
       "type": "table"
      }
     },
     "output_type": "display_data"
    }
   ],
   "source": [
    "%fs \n",
    "\n",
    "ls /FileStore/orders_csv.csv\n"
   ]
  },
  {
   "cell_type": "code",
   "execution_count": 0,
   "metadata": {
    "application/vnd.databricks.v1+cell": {
     "cellMetadata": {
      "byteLimit": 2048000,
      "rowLimit": 10000
     },
     "inputWidgets": {},
     "nuid": "4add85ca-508c-4f70-bfac-e09994206814",
     "showTitle": false,
     "tableResultSettingsMap": {},
     "title": ""
    }
   },
   "outputs": [
    {
     "output_type": "stream",
     "name": "stdout",
     "output_type": "stream",
     "text": [
      "[Truncated to first 1000 bytes]\norder_id,order_date,order_customer_id,order_status\n1,2013-07-25 00:00:00.0,11599,CLOSED\n2,2013-07-25 00:00:00.0,256,PENDING_PAYMENT\n3,2013-07-25 00:00:00.0,12111,COMPLETE\n4,2013-07-25 00:00:00.0,8827,CLOSED\n5,2013-07-25 00:00:00.0,11318,COMPLETE\n6,2013-07-25 00:00:00.0,7130,COMPLETE\n7,2013-07-25 00:00:00.0,4530,COMPLETE\n8,2013-07-25 00:00:00.0,2911,PROCESSING\n9,2013-07-25 00:00:00.0,5657,PENDING_PAYMENT\n10,2013-07-25 00:00:00.0,5648,PENDING_PAYMENT\n11,2013-07-25 00:00:00.0,918,PAYMENT_REVIEW\n12,2013-07-25 00:00:00.0,1837,CLOSED\n13,2013-07-25 00:00:00.0,9149,PENDING_PAYMENT\n14,2013-07-25 00:00:00.0,9842,PROCESSING\n15,2013-07-25 00:00:00.0,2568,COMPLETE\n16,2013-07-25 00:00:00.0,7276,PENDING_PAYMENT\n17,2013-07-25 00:00:00.0,2667,COMPLETE\n18,2013-07-25 00:00:00.0,1205,CLOSED\n19,2013-07-25 00:00:00.0,9488,PENDING_PAYMENT\n20,2013-07-25 00:00:00.0,9198,PROCESSING\n21,2013-07-25 00:00:00.0,2711,PENDING\n22,2013-07-25 00:00:00.0,333,COMPLETE\n23,2013-07-25 00:00:00.0,4367,PENDING_PAYMENT\n24,2013-0\n"
     ]
    }
   ],
   "source": [
    "print(dbutils.fs.head(\"/FileStore/orders_csv.csv\",1000))"
   ]
  },
  {
   "cell_type": "code",
   "execution_count": 0,
   "metadata": {
    "application/vnd.databricks.v1+cell": {
     "cellMetadata": {
      "byteLimit": 2048000,
      "implicitDf": true,
      "rowLimit": 10000
     },
     "inputWidgets": {},
     "nuid": "c71e49e6-0b1e-4aaa-9628-796bcce73f24",
     "showTitle": false,
     "tableResultSettingsMap": {},
     "title": ""
    }
   },
   "outputs": [
    {
     "output_type": "display_data",
     "data": {
      "text/html": [
       "<style scoped>\n",
       "  .table-result-container {\n",
       "    max-height: 300px;\n",
       "    overflow: auto;\n",
       "  }\n",
       "  table, th, td {\n",
       "    border: 1px solid black;\n",
       "    border-collapse: collapse;\n",
       "  }\n",
       "  th, td {\n",
       "    padding: 5px;\n",
       "  }\n",
       "  th {\n",
       "    text-align: left;\n",
       "  }\n",
       "</style><div class='table-result-container'><table class='table-result'><thead style='background-color: white'><tr><th>num_affected_rows</th><th>num_inserted_rows</th><th>num_skipped_corrupt_files</th></tr></thead><tbody><tr><td>68881</td><td>68881</td><td>0</td></tr></tbody></table></div>"
      ]
     },
     "metadata": {
      "application/vnd.databricks.v1+output": {
       "addedWidgets": {},
       "aggData": [],
       "aggError": "",
       "aggOverflow": false,
       "aggSchema": [],
       "aggSeriesLimitReached": false,
       "aggType": "",
       "arguments": {},
       "columnCustomDisplayInfos": {},
       "data": [
        [
         68881,
         68881,
         0
        ]
       ],
       "datasetInfos": [],
       "dbfsResultPath": null,
       "isJsonSchema": true,
       "metadata": {
        "dataframeName": "_sqldf",
        "executionCount": 8
       },
       "overflow": false,
       "plotOptions": {
        "customPlotOptions": {},
        "displayType": "table",
        "pivotAggregation": null,
        "pivotColumns": null,
        "xColumns": null,
        "yColumns": null
       },
       "removedWidgets": [],
       "schema": [
        {
         "metadata": "{}",
         "name": "num_affected_rows",
         "type": "\"long\""
        },
        {
         "metadata": "{}",
         "name": "num_inserted_rows",
         "type": "\"long\""
        },
        {
         "metadata": "{}",
         "name": "num_skipped_corrupt_files",
         "type": "\"integer\""
        }
       ],
       "type": "table"
      }
     },
     "output_type": "display_data"
    }
   ],
   "source": [
    "%sql\n",
    "COPY INTO orders\n",
    "FROM 'dbfs:/FileStore/orders_csv.csv'\n",
    "FILEFORMAT = CSV\n",
    "FORMAT_OPTIONS ('header' = 'true')\n"
   ]
  },
  {
   "cell_type": "code",
   "execution_count": 0,
   "metadata": {
    "application/vnd.databricks.v1+cell": {
     "cellMetadata": {
      "byteLimit": 2048000,
      "implicitDf": true,
      "rowLimit": 10000
     },
     "inputWidgets": {},
     "nuid": "7c5ead23-7af4-4b68-bbf6-8f2b245fea6d",
     "showTitle": false,
     "tableResultSettingsMap": {},
     "title": ""
    }
   },
   "outputs": [
    {
     "output_type": "display_data",
     "data": {
      "text/html": [
       "<style scoped>\n",
       "  .table-result-container {\n",
       "    max-height: 300px;\n",
       "    overflow: auto;\n",
       "  }\n",
       "  table, th, td {\n",
       "    border: 1px solid black;\n",
       "    border-collapse: collapse;\n",
       "  }\n",
       "  th, td {\n",
       "    padding: 5px;\n",
       "  }\n",
       "  th {\n",
       "    text-align: left;\n",
       "  }\n",
       "</style><div class='table-result-container'><table class='table-result'><thead style='background-color: white'><tr><th>count(1)</th></tr></thead><tbody><tr><td>68881</td></tr></tbody></table></div>"
      ]
     },
     "metadata": {
      "application/vnd.databricks.v1+output": {
       "addedWidgets": {},
       "aggData": [],
       "aggError": "",
       "aggOverflow": false,
       "aggSchema": [],
       "aggSeriesLimitReached": false,
       "aggType": "",
       "arguments": {},
       "columnCustomDisplayInfos": {},
       "data": [
        [
         68881
        ]
       ],
       "datasetInfos": [],
       "dbfsResultPath": null,
       "isJsonSchema": true,
       "metadata": {
        "dataframeName": "_sqldf",
        "executionCount": 31
       },
       "overflow": false,
       "plotOptions": {
        "customPlotOptions": {},
        "displayType": "table",
        "pivotAggregation": null,
        "pivotColumns": null,
        "xColumns": null,
        "yColumns": null
       },
       "removedWidgets": [],
       "schema": [
        {
         "metadata": "{\"__autoGeneratedAlias\":\"true\"}",
         "name": "count(1)",
         "type": "\"long\""
        }
       ],
       "type": "table"
      }
     },
     "output_type": "display_data"
    }
   ],
   "source": [
    "%sql\n",
    "\n",
    "select count(*) from orders"
   ]
  },
  {
   "cell_type": "code",
   "execution_count": 0,
   "metadata": {
    "application/vnd.databricks.v1+cell": {
     "cellMetadata": {
      "byteLimit": 2048000,
      "rowLimit": 10000
     },
     "inputWidgets": {},
     "nuid": "2ea709f2-22c7-4c47-bf87-41f992b9182e",
     "showTitle": false,
     "tableResultSettingsMap": {},
     "title": ""
    }
   },
   "outputs": [
    {
     "output_type": "execute_result",
     "data": {
      "text/plain": [
       "True"
      ]
     },
     "execution_count": 16,
     "metadata": {},
     "output_type": "execute_result"
    }
   ],
   "source": [
    "dbutils.fs.mkdirs(\"dbfs:/FileStore/retail-data\")\n",
    "dbutils.fs.mkdirs(\"dbfs:/FileStore/retail-data/orders_data\")\n",
    "dbutils.fs.mkdirs(\"dbfs:/FileStore/retail-data/orders_checkpoint\")"
   ]
  },
  {
   "cell_type": "code",
   "execution_count": 0,
   "metadata": {
    "application/vnd.databricks.v1+cell": {
     "cellMetadata": {
      "byteLimit": 2048000,
      "rowLimit": 10000
     },
     "inputWidgets": {},
     "nuid": "26460219-ad63-468b-aabf-aa4966eb9bc3",
     "showTitle": false,
     "tableResultSettingsMap": {},
     "title": ""
    }
   },
   "outputs": [],
   "source": [
    "landing_zone = \"dbfs:/FileStore/retail-data\"\n",
    "orders_data = landing_zone + \"/orders_data\"\n",
    "checkpoint_path = landing_zone + \"/orders_checkpoint\""
   ]
  },
  {
   "cell_type": "code",
   "execution_count": 0,
   "metadata": {
    "application/vnd.databricks.v1+cell": {
     "cellMetadata": {
      "byteLimit": 2048000,
      "rowLimit": 10000
     },
     "inputWidgets": {},
     "nuid": "8952b716-d3f9-4425-8a38-40abb6c9a85e",
     "showTitle": false,
     "tableResultSettingsMap": {},
     "title": ""
    }
   },
   "outputs": [],
   "source": [
    "orders_df = spark.readStream \\\n",
    "    .format(\"cloudfiles\") \\\n",
    "        .option(\"cloudfiles.format\",\"csv\") \\\n",
    "            .option(\"cloudfiles.inferschema\",'True') \\\n",
    "                .option(\"cloudfiles.inferColumnTypes\",\"True\") \\\n",
    "                    .option(\"cloudfiles.SchemaLocation\",checkpoint_path) \\\n",
    "                        .load(orders_data)"
   ]
  },
  {
   "cell_type": "markdown",
   "metadata": {
    "application/vnd.databricks.v1+cell": {
     "cellMetadata": {},
     "inputWidgets": {},
     "nuid": "3cc834fa-4d83-4ac4-a241-a1faf0e7aae4",
     "showTitle": false,
     "tableResultSettingsMap": {},
     "title": ""
    }
   },
   "source": [
    "# Here you cannot start streaming without uploading the files\n",
    "\n",
    "-  either you can manually define the schema\n",
    "- otherewise make sure there is a file in the folder\n"
   ]
  },
  {
   "cell_type": "code",
   "execution_count": 0,
   "metadata": {
    "application/vnd.databricks.v1+cell": {
     "cellMetadata": {},
     "inputWidgets": {},
     "nuid": "bdbe1c05-f5c6-4f24-a13f-05dbb77ca30d",
     "showTitle": false,
     "tableResultSettingsMap": {},
     "title": ""
    }
   },
   "outputs": [],
   "source": [
    "orders_df.display()"
   ]
  },
  {
   "cell_type": "code",
   "execution_count": 0,
   "metadata": {
    "application/vnd.databricks.v1+cell": {
     "cellMetadata": {},
     "inputWidgets": {},
     "nuid": "5b92cdf9-eac9-400e-b5b4-c0c52ce70150",
     "showTitle": false,
     "tableResultSettingsMap": {},
     "title": ""
    }
   },
   "outputs": [],
   "source": [
    "%sql\n",
    "describe detail orders"
   ]
  },
  {
   "cell_type": "code",
   "execution_count": 0,
   "metadata": {
    "application/vnd.databricks.v1+cell": {
     "cellMetadata": {
      "byteLimit": 2048000,
      "rowLimit": 10000
     },
     "inputWidgets": {},
     "nuid": "2edc3f4e-7332-4cc5-8329-069c8e561630",
     "showTitle": false,
     "tableResultSettingsMap": {},
     "title": ""
    }
   },
   "outputs": [
    {
     "output_type": "execute_result",
     "data": {
      "text/plain": [
       "<pyspark.sql.streaming.query.StreamingQuery at 0x7f3413f1a1a0>"
      ]
     },
     "execution_count": 24,
     "metadata": {},
     "output_type": "execute_result"
    }
   ],
   "source": [
    "orders_df.writeStream \\\n",
    "    .format(\"delta\") \\\n",
    "        .option(\"checkpointLocation\",checkpoint_path) \\\n",
    "            .outputMode(\"append\") \\\n",
    "                .toTable(\"ordersdelta\")\n"
   ]
  },
  {
   "cell_type": "code",
   "execution_count": 0,
   "metadata": {
    "application/vnd.databricks.v1+cell": {
     "cellMetadata": {
      "byteLimit": 2048000,
      "implicitDf": true,
      "rowLimit": 10000
     },
     "inputWidgets": {},
     "nuid": "ced3cbad-a44b-411f-bb75-e36e7d1634c0",
     "showTitle": false,
     "tableResultSettingsMap": {},
     "title": ""
    }
   },
   "outputs": [
    {
     "output_type": "display_data",
     "data": {
      "text/html": [
       "<style scoped>\n",
       "  .table-result-container {\n",
       "    max-height: 300px;\n",
       "    overflow: auto;\n",
       "  }\n",
       "  table, th, td {\n",
       "    border: 1px solid black;\n",
       "    border-collapse: collapse;\n",
       "  }\n",
       "  th, td {\n",
       "    padding: 5px;\n",
       "  }\n",
       "  th {\n",
       "    text-align: left;\n",
       "  }\n",
       "</style><div class='table-result-container'><table class='table-result'><thead style='background-color: white'><tr><th>database</th><th>tableName</th><th>isTemporary</th></tr></thead><tbody><tr><td>default</td><td>orders</td><td>false</td></tr><tr><td>default</td><td>ordersdelta</td><td>false</td></tr></tbody></table></div>"
      ]
     },
     "metadata": {
      "application/vnd.databricks.v1+output": {
       "addedWidgets": {},
       "aggData": [],
       "aggError": "",
       "aggOverflow": false,
       "aggSchema": [],
       "aggSeriesLimitReached": false,
       "aggType": "",
       "arguments": {},
       "columnCustomDisplayInfos": {},
       "data": [
        [
         "default",
         "orders",
         false
        ],
        [
         "default",
         "ordersdelta",
         false
        ]
       ],
       "datasetInfos": [],
       "dbfsResultPath": null,
       "isJsonSchema": true,
       "metadata": {
        "dataframeName": "_sqldf",
        "executionCount": 25
       },
       "overflow": false,
       "plotOptions": {
        "customPlotOptions": {},
        "displayType": "table",
        "pivotAggregation": null,
        "pivotColumns": null,
        "xColumns": null,
        "yColumns": null
       },
       "removedWidgets": [],
       "schema": [
        {
         "metadata": "{}",
         "name": "database",
         "type": "\"string\""
        },
        {
         "metadata": "{}",
         "name": "tableName",
         "type": "\"string\""
        },
        {
         "metadata": "{}",
         "name": "isTemporary",
         "type": "\"boolean\""
        }
       ],
       "type": "table"
      }
     },
     "output_type": "display_data"
    }
   ],
   "source": [
    "%sql\n",
    "\n",
    "show tables"
   ]
  },
  {
   "cell_type": "code",
   "execution_count": 0,
   "metadata": {
    "application/vnd.databricks.v1+cell": {
     "cellMetadata": {
      "byteLimit": 2048000,
      "implicitDf": true,
      "rowLimit": 10000
     },
     "inputWidgets": {},
     "nuid": "febd1152-4b28-400a-9462-7fc86115e255",
     "showTitle": false,
     "tableResultSettingsMap": {},
     "title": ""
    }
   },
   "outputs": [
    {
     "output_type": "display_data",
     "data": {
      "text/html": [
       "<style scoped>\n",
       "  .table-result-container {\n",
       "    max-height: 300px;\n",
       "    overflow: auto;\n",
       "  }\n",
       "  table, th, td {\n",
       "    border: 1px solid black;\n",
       "    border-collapse: collapse;\n",
       "  }\n",
       "  th, td {\n",
       "    padding: 5px;\n",
       "  }\n",
       "  th {\n",
       "    text-align: left;\n",
       "  }\n",
       "</style><div class='table-result-container'><table class='table-result'><thead style='background-color: white'><tr><th>count(1)</th></tr></thead><tbody><tr><td>400</td></tr></tbody></table></div>"
      ]
     },
     "metadata": {
      "application/vnd.databricks.v1+output": {
       "addedWidgets": {},
       "aggData": [],
       "aggError": "",
       "aggOverflow": false,
       "aggSchema": [],
       "aggSeriesLimitReached": false,
       "aggType": "",
       "arguments": {},
       "columnCustomDisplayInfos": {},
       "data": [
        [
         400
        ]
       ],
       "datasetInfos": [],
       "dbfsResultPath": null,
       "isJsonSchema": true,
       "metadata": {
        "dataframeName": "_sqldf",
        "executionCount": 27
       },
       "overflow": false,
       "plotOptions": {
        "customPlotOptions": {},
        "displayType": "table",
        "pivotAggregation": null,
        "pivotColumns": null,
        "xColumns": null,
        "yColumns": null
       },
       "removedWidgets": [],
       "schema": [
        {
         "metadata": "{\"__autoGeneratedAlias\":\"true\"}",
         "name": "count(1)",
         "type": "\"long\""
        }
       ],
       "type": "table"
      }
     },
     "output_type": "display_data"
    }
   ],
   "source": [
    "%sql\n",
    "select count(*) from ordersdelta"
   ]
  },
  {
   "cell_type": "code",
   "execution_count": 0,
   "metadata": {
    "application/vnd.databricks.v1+cell": {
     "cellMetadata": {
      "byteLimit": 2048000,
      "implicitDf": true,
      "rowLimit": 10000
     },
     "inputWidgets": {},
     "nuid": "1d78278c-0f9f-4b94-9bc9-05553d150dea",
     "showTitle": false,
     "tableResultSettingsMap": {},
     "title": ""
    }
   },
   "outputs": [
    {
     "output_type": "display_data",
     "data": {
      "text/html": [
       "<style scoped>\n",
       "  .table-result-container {\n",
       "    max-height: 300px;\n",
       "    overflow: auto;\n",
       "  }\n",
       "  table, th, td {\n",
       "    border: 1px solid black;\n",
       "    border-collapse: collapse;\n",
       "  }\n",
       "  th, td {\n",
       "    padding: 5px;\n",
       "  }\n",
       "  th {\n",
       "    text-align: left;\n",
       "  }\n",
       "</style><div class='table-result-container'><table class='table-result'><thead style='background-color: white'><tr><th>OrderID</th><th>OrderDate</th><th>CustomerID</th><th>TotalAmount</th><th>Status</th><th>_rescued_data</th></tr></thead><tbody><tr><td>1</td><td>2023-01-01</td><td>25</td><td>6202.83</td><td>Cancelled</td><td>null</td></tr><tr><td>2</td><td>2023-01-02</td><td>32</td><td>9871.87</td><td>Cancelled</td><td>null</td></tr><tr><td>3</td><td>2023-01-03</td><td>78</td><td>6814.71</td><td>Completed</td><td>null</td></tr><tr><td>4</td><td>2023-01-04</td><td>89</td><td>4972.72</td><td>Pending</td><td>null</td></tr><tr><td>5</td><td>2023-01-05</td><td>91</td><td>5150.9</td><td>Pending</td><td>null</td></tr><tr><td>6</td><td>2023-01-06</td><td>6</td><td>6603.76</td><td>Pending</td><td>null</td></tr><tr><td>7</td><td>2023-01-07</td><td>20</td><td>7080.93</td><td>Cancelled</td><td>null</td></tr><tr><td>8</td><td>2023-01-08</td><td>15</td><td>4101.39</td><td>Cancelled</td><td>null</td></tr><tr><td>9</td><td>2023-01-09</td><td>16</td><td>1755.19</td><td>Pending</td><td>null</td></tr><tr><td>10</td><td>2023-01-10</td><td>34</td><td>4953.16</td><td>Pending</td><td>null</td></tr><tr><td>11</td><td>2023-01-11</td><td>49</td><td>7449.77</td><td>Cancelled</td><td>null</td></tr><tr><td>12</td><td>2023-01-12</td><td>76</td><td>9997.49</td><td>Cancelled</td><td>null</td></tr><tr><td>13</td><td>2023-01-13</td><td>38</td><td>8166.68</td><td>Cancelled</td><td>null</td></tr><tr><td>14</td><td>2023-01-14</td><td>98</td><td>605.24</td><td>Cancelled</td><td>null</td></tr><tr><td>15</td><td>2023-01-15</td><td>48</td><td>2758.82</td><td>Cancelled</td><td>null</td></tr><tr><td>16</td><td>2023-01-16</td><td>47</td><td>9969.86</td><td>Cancelled</td><td>null</td></tr><tr><td>17</td><td>2023-01-17</td><td>58</td><td>1077.43</td><td>Pending</td><td>null</td></tr><tr><td>18</td><td>2023-01-18</td><td>1</td><td>6506.6</td><td>Pending</td><td>null</td></tr><tr><td>19</td><td>2023-01-19</td><td>36</td><td>1548.39</td><td>Completed</td><td>null</td></tr><tr><td>20</td><td>2023-01-20</td><td>23</td><td>9254.6</td><td>Cancelled</td><td>null</td></tr><tr><td>21</td><td>2023-01-21</td><td>74</td><td>6965.34</td><td>Cancelled</td><td>null</td></tr><tr><td>22</td><td>2023-01-22</td><td>10</td><td>9044.64</td><td>Completed</td><td>null</td></tr><tr><td>23</td><td>2023-01-23</td><td>93</td><td>1355.14</td><td>Completed</td><td>null</td></tr><tr><td>24</td><td>2023-01-24</td><td>60</td><td>2319.98</td><td>Pending</td><td>null</td></tr><tr><td>25</td><td>2023-01-25</td><td>51</td><td>9004.92</td><td>Cancelled</td><td>null</td></tr><tr><td>26</td><td>2023-01-26</td><td>89</td><td>7869.59</td><td>Pending</td><td>null</td></tr><tr><td>27</td><td>2023-01-27</td><td>37</td><td>7486.4</td><td>Cancelled</td><td>null</td></tr><tr><td>28</td><td>2023-01-28</td><td>57</td><td>335.13</td><td>Completed</td><td>null</td></tr><tr><td>29</td><td>2023-01-29</td><td>3</td><td>2440.15</td><td>Cancelled</td><td>null</td></tr><tr><td>30</td><td>2023-01-30</td><td>74</td><td>5047.42</td><td>Cancelled</td><td>null</td></tr><tr><td>31</td><td>2023-01-31</td><td>50</td><td>8644.51</td><td>Pending</td><td>null</td></tr><tr><td>32</td><td>2023-02-01</td><td>17</td><td>1638.48</td><td>Completed</td><td>null</td></tr><tr><td>33</td><td>2023-02-02</td><td>8</td><td>6941.56</td><td>Pending</td><td>null</td></tr><tr><td>34</td><td>2023-02-03</td><td>51</td><td>5311.68</td><td>Cancelled</td><td>null</td></tr><tr><td>35</td><td>2023-02-04</td><td>69</td><td>688.77</td><td>Pending</td><td>null</td></tr><tr><td>36</td><td>2023-02-05</td><td>27</td><td>2205.99</td><td>Completed</td><td>null</td></tr><tr><td>37</td><td>2023-02-06</td><td>2</td><td>9628.26</td><td>Pending</td><td>null</td></tr><tr><td>38</td><td>2023-02-07</td><td>87</td><td>2106.5</td><td>Cancelled</td><td>null</td></tr><tr><td>39</td><td>2023-02-08</td><td>58</td><td>5739.66</td><td>Completed</td><td>null</td></tr><tr><td>40</td><td>2023-02-09</td><td>95</td><td>9646.55</td><td>Pending</td><td>null</td></tr><tr><td>41</td><td>2023-02-10</td><td>80</td><td>6569.68</td><td>Cancelled</td><td>null</td></tr><tr><td>42</td><td>2023-02-11</td><td>6</td><td>2379.75</td><td>Cancelled</td><td>null</td></tr><tr><td>43</td><td>2023-02-12</td><td>1</td><td>2818.2</td><td>Completed</td><td>null</td></tr><tr><td>44</td><td>2023-02-13</td><td>67</td><td>9915.55</td><td>Completed</td><td>null</td></tr><tr><td>45</td><td>2023-02-14</td><td>36</td><td>1254.53</td><td>Cancelled</td><td>null</td></tr><tr><td>46</td><td>2023-02-15</td><td>94</td><td>9313.24</td><td>Cancelled</td><td>null</td></tr><tr><td>47</td><td>2023-02-16</td><td>76</td><td>9624.88</td><td>Cancelled</td><td>null</td></tr><tr><td>48</td><td>2023-02-17</td><td>90</td><td>4001.2</td><td>Pending</td><td>null</td></tr><tr><td>49</td><td>2023-02-18</td><td>51</td><td>8863.17</td><td>Completed</td><td>null</td></tr><tr><td>50</td><td>2023-02-19</td><td>81</td><td>5596.78</td><td>Cancelled</td><td>null</td></tr><tr><td>51</td><td>2023-02-20</td><td>68</td><td>3254.91</td><td>Completed</td><td>null</td></tr><tr><td>52</td><td>2023-02-21</td><td>76</td><td>9684.27</td><td>Completed</td><td>null</td></tr><tr><td>53</td><td>2023-02-22</td><td>100</td><td>998.33</td><td>Pending</td><td>null</td></tr><tr><td>54</td><td>2023-02-23</td><td>33</td><td>3262.21</td><td>Pending</td><td>null</td></tr><tr><td>55</td><td>2023-02-24</td><td>77</td><td>4206.9</td><td>Cancelled</td><td>null</td></tr><tr><td>56</td><td>2023-02-25</td><td>90</td><td>4729.67</td><td>Completed</td><td>null</td></tr><tr><td>57</td><td>2023-02-26</td><td>56</td><td>7448.92</td><td>Pending</td><td>null</td></tr><tr><td>58</td><td>2023-02-27</td><td>63</td><td>3656.16</td><td>Completed</td><td>null</td></tr><tr><td>59</td><td>2023-02-28</td><td>30</td><td>4863.75</td><td>Cancelled</td><td>null</td></tr><tr><td>60</td><td>2023-03-01</td><td>54</td><td>3875.76</td><td>Pending</td><td>null</td></tr><tr><td>61</td><td>2023-03-02</td><td>7</td><td>7062.08</td><td>Completed</td><td>null</td></tr><tr><td>62</td><td>2023-03-03</td><td>40</td><td>4433.78</td><td>Pending</td><td>null</td></tr><tr><td>63</td><td>2023-03-04</td><td>89</td><td>4029.11</td><td>Completed</td><td>null</td></tr><tr><td>64</td><td>2023-03-05</td><td>22</td><td>2093.56</td><td>Pending</td><td>null</td></tr><tr><td>65</td><td>2023-03-06</td><td>98</td><td>7663.36</td><td>Completed</td><td>null</td></tr><tr><td>66</td><td>2023-03-07</td><td>59</td><td>3243.49</td><td>Pending</td><td>null</td></tr><tr><td>67</td><td>2023-03-08</td><td>33</td><td>7656.12</td><td>Completed</td><td>null</td></tr><tr><td>68</td><td>2023-03-09</td><td>89</td><td>2396.88</td><td>Cancelled</td><td>null</td></tr><tr><td>69</td><td>2023-03-10</td><td>52</td><td>5495.81</td><td>Cancelled</td><td>null</td></tr><tr><td>70</td><td>2023-03-11</td><td>42</td><td>9389.62</td><td>Pending</td><td>null</td></tr><tr><td>71</td><td>2023-03-12</td><td>6</td><td>4813.79</td><td>Cancelled</td><td>null</td></tr><tr><td>72</td><td>2023-03-13</td><td>26</td><td>1556.17</td><td>Cancelled</td><td>null</td></tr><tr><td>73</td><td>2023-03-14</td><td>78</td><td>1575.43</td><td>Completed</td><td>null</td></tr><tr><td>74</td><td>2023-03-15</td><td>30</td><td>7530.86</td><td>Cancelled</td><td>null</td></tr><tr><td>75</td><td>2023-03-16</td><td>38</td><td>6556.43</td><td>Cancelled</td><td>null</td></tr><tr><td>76</td><td>2023-03-17</td><td>4</td><td>1567.39</td><td>Pending</td><td>null</td></tr><tr><td>77</td><td>2023-03-18</td><td>61</td><td>5517.63</td><td>Completed</td><td>null</td></tr><tr><td>78</td><td>2023-03-19</td><td>49</td><td>6621.72</td><td>Pending</td><td>null</td></tr><tr><td>79</td><td>2023-03-20</td><td>8</td><td>7400.71</td><td>Completed</td><td>null</td></tr><tr><td>80</td><td>2023-03-21</td><td>71</td><td>4685.35</td><td>Completed</td><td>null</td></tr><tr><td>81</td><td>2023-03-22</td><td>68</td><td>3568.06</td><td>Pending</td><td>null</td></tr><tr><td>82</td><td>2023-03-23</td><td>97</td><td>7164.62</td><td>Pending</td><td>null</td></tr><tr><td>83</td><td>2023-03-24</td><td>45</td><td>8019.19</td><td>Pending</td><td>null</td></tr><tr><td>84</td><td>2023-03-25</td><td>63</td><td>5679.81</td><td>Pending</td><td>null</td></tr><tr><td>85</td><td>2023-03-26</td><td>34</td><td>3296.12</td><td>Pending</td><td>null</td></tr><tr><td>86</td><td>2023-03-27</td><td>31</td><td>8469.51</td><td>Pending</td><td>null</td></tr><tr><td>87</td><td>2023-03-28</td><td>84</td><td>9641.95</td><td>Cancelled</td><td>null</td></tr><tr><td>88</td><td>2023-03-29</td><td>13</td><td>2426.68</td><td>Pending</td><td>null</td></tr><tr><td>89</td><td>2023-03-30</td><td>50</td><td>9882.5</td><td>Cancelled</td><td>null</td></tr><tr><td>90</td><td>2023-03-31</td><td>39</td><td>814.55</td><td>Completed</td><td>null</td></tr><tr><td>91</td><td>2023-04-01</td><td>19</td><td>7794.42</td><td>Pending</td><td>null</td></tr><tr><td>92</td><td>2023-04-02</td><td>91</td><td>490.38</td><td>Completed</td><td>null</td></tr><tr><td>93</td><td>2023-04-03</td><td>86</td><td>5396.44</td><td>Pending</td><td>null</td></tr><tr><td>94</td><td>2023-04-04</td><td>44</td><td>372.22</td><td>Cancelled</td><td>null</td></tr><tr><td>95</td><td>2023-04-05</td><td>98</td><td>8451.73</td><td>Completed</td><td>null</td></tr><tr><td>96</td><td>2023-04-06</td><td>26</td><td>9377.03</td><td>Cancelled</td><td>null</td></tr><tr><td>97</td><td>2023-04-07</td><td>88</td><td>4041.91</td><td>Completed</td><td>null</td></tr><tr><td>98</td><td>2023-04-08</td><td>2</td><td>8694.48</td><td>Completed</td><td>null</td></tr><tr><td>99</td><td>2023-04-09</td><td>82</td><td>6142.68</td><td>Pending</td><td>null</td></tr><tr><td>100</td><td>2023-04-10</td><td>1</td><td>2846.0</td><td>Cancelled</td><td>null</td></tr><tr><td>101</td><td>2023-04-11</td><td>25</td><td>4839.74</td><td>Completed</td><td>null</td></tr><tr><td>102</td><td>2023-04-12</td><td>87</td><td>347.71</td><td>Pending</td><td>null</td></tr><tr><td>103</td><td>2023-04-13</td><td>48</td><td>8376.08</td><td>Cancelled</td><td>null</td></tr><tr><td>104</td><td>2023-04-14</td><td>30</td><td>5154.98</td><td>Pending</td><td>null</td></tr><tr><td>105</td><td>2023-04-15</td><td>45</td><td>8543.29</td><td>Completed</td><td>null</td></tr><tr><td>106</td><td>2023-04-16</td><td>39</td><td>1609.23</td><td>Pending</td><td>null</td></tr><tr><td>107</td><td>2023-04-17</td><td>38</td><td>9624.55</td><td>Cancelled</td><td>null</td></tr><tr><td>108</td><td>2023-04-18</td><td>75</td><td>8757.71</td><td>Cancelled</td><td>null</td></tr><tr><td>109</td><td>2023-04-19</td><td>78</td><td>8279.51</td><td>Completed</td><td>null</td></tr><tr><td>110</td><td>2023-04-20</td><td>84</td><td>589.36</td><td>Pending</td><td>null</td></tr><tr><td>111</td><td>2023-04-21</td><td>81</td><td>814.61</td><td>Cancelled</td><td>null</td></tr><tr><td>112</td><td>2023-04-22</td><td>14</td><td>1167.34</td><td>Pending</td><td>null</td></tr><tr><td>113</td><td>2023-04-23</td><td>73</td><td>5315.1</td><td>Cancelled</td><td>null</td></tr><tr><td>114</td><td>2023-04-24</td><td>89</td><td>9997.83</td><td>Completed</td><td>null</td></tr><tr><td>115</td><td>2023-04-25</td><td>98</td><td>9665.24</td><td>Completed</td><td>null</td></tr><tr><td>116</td><td>2023-04-26</td><td>71</td><td>802.71</td><td>Completed</td><td>null</td></tr><tr><td>117</td><td>2023-04-27</td><td>1</td><td>2667.95</td><td>Completed</td><td>null</td></tr><tr><td>118</td><td>2023-04-28</td><td>79</td><td>4370.2</td><td>Completed</td><td>null</td></tr><tr><td>119</td><td>2023-04-29</td><td>97</td><td>3452.39</td><td>Cancelled</td><td>null</td></tr><tr><td>120</td><td>2023-04-30</td><td>3</td><td>6781.99</td><td>Cancelled</td><td>null</td></tr><tr><td>121</td><td>2023-05-01</td><td>85</td><td>2739.84</td><td>Cancelled</td><td>null</td></tr><tr><td>122</td><td>2023-05-02</td><td>38</td><td>7330.83</td><td>Completed</td><td>null</td></tr><tr><td>123</td><td>2023-05-03</td><td>53</td><td>4010.28</td><td>Cancelled</td><td>null</td></tr><tr><td>124</td><td>2023-05-04</td><td>71</td><td>2217.52</td><td>Completed</td><td>null</td></tr><tr><td>125</td><td>2023-05-05</td><td>46</td><td>9750.35</td><td>Cancelled</td><td>null</td></tr><tr><td>126</td><td>2023-05-06</td><td>55</td><td>2863.41</td><td>Pending</td><td>null</td></tr><tr><td>127</td><td>2023-05-07</td><td>88</td><td>396.2</td><td>Pending</td><td>null</td></tr><tr><td>128</td><td>2023-05-08</td><td>45</td><td>8256.23</td><td>Completed</td><td>null</td></tr><tr><td>129</td><td>2023-05-09</td><td>29</td><td>4608.84</td><td>Pending</td><td>null</td></tr><tr><td>130</td><td>2023-05-10</td><td>16</td><td>2266.32</td><td>Cancelled</td><td>null</td></tr><tr><td>131</td><td>2023-05-11</td><td>83</td><td>418.96</td><td>Cancelled</td><td>null</td></tr><tr><td>132</td><td>2023-05-12</td><td>88</td><td>5229.34</td><td>Pending</td><td>null</td></tr><tr><td>133</td><td>2023-05-13</td><td>14</td><td>2790.79</td><td>Cancelled</td><td>null</td></tr><tr><td>134</td><td>2023-05-14</td><td>72</td><td>2463.12</td><td>Completed</td><td>null</td></tr><tr><td>135</td><td>2023-05-15</td><td>47</td><td>4798.57</td><td>Pending</td><td>null</td></tr><tr><td>136</td><td>2023-05-16</td><td>54</td><td>8702.7</td><td>Pending</td><td>null</td></tr><tr><td>137</td><td>2023-05-17</td><td>14</td><td>7993.46</td><td>Pending</td><td>null</td></tr><tr><td>138</td><td>2023-05-18</td><td>46</td><td>5113.35</td><td>Cancelled</td><td>null</td></tr><tr><td>139</td><td>2023-05-19</td><td>57</td><td>2391.03</td><td>Cancelled</td><td>null</td></tr><tr><td>140</td><td>2023-05-20</td><td>37</td><td>9438.63</td><td>Pending</td><td>null</td></tr><tr><td>141</td><td>2023-05-21</td><td>93</td><td>3554.76</td><td>Pending</td><td>null</td></tr><tr><td>142</td><td>2023-05-22</td><td>9</td><td>1626.29</td><td>Cancelled</td><td>null</td></tr><tr><td>143</td><td>2023-05-23</td><td>78</td><td>6322.54</td><td>Completed</td><td>null</td></tr><tr><td>144</td><td>2023-05-24</td><td>57</td><td>529.28</td><td>Cancelled</td><td>null</td></tr><tr><td>145</td><td>2023-05-25</td><td>39</td><td>5480.52</td><td>Pending</td><td>null</td></tr><tr><td>146</td><td>2023-05-26</td><td>29</td><td>905.83</td><td>Completed</td><td>null</td></tr><tr><td>147</td><td>2023-05-27</td><td>4</td><td>8638.46</td><td>Cancelled</td><td>null</td></tr><tr><td>148</td><td>2023-05-28</td><td>93</td><td>2781.8</td><td>Completed</td><td>null</td></tr><tr><td>149</td><td>2023-05-29</td><td>99</td><td>7354.23</td><td>Cancelled</td><td>null</td></tr><tr><td>150</td><td>2023-05-30</td><td>95</td><td>9987.73</td><td>Cancelled</td><td>null</td></tr><tr><td>151</td><td>2023-05-31</td><td>55</td><td>5636.61</td><td>Cancelled</td><td>null</td></tr><tr><td>152</td><td>2023-06-01</td><td>18</td><td>4896.26</td><td>Completed</td><td>null</td></tr><tr><td>153</td><td>2023-06-02</td><td>55</td><td>8764.61</td><td>Completed</td><td>null</td></tr><tr><td>154</td><td>2023-06-03</td><td>93</td><td>3898.59</td><td>Pending</td><td>null</td></tr><tr><td>155</td><td>2023-06-04</td><td>72</td><td>2599.61</td><td>Pending</td><td>null</td></tr><tr><td>156</td><td>2023-06-05</td><td>64</td><td>4110.48</td><td>Pending</td><td>null</td></tr><tr><td>157</td><td>2023-06-06</td><td>95</td><td>1890.25</td><td>Cancelled</td><td>null</td></tr><tr><td>158</td><td>2023-06-07</td><td>13</td><td>7774.73</td><td>Cancelled</td><td>null</td></tr><tr><td>159</td><td>2023-06-08</td><td>7</td><td>1461.11</td><td>Completed</td><td>null</td></tr><tr><td>160</td><td>2023-06-09</td><td>56</td><td>4320.8</td><td>Cancelled</td><td>null</td></tr><tr><td>161</td><td>2023-06-10</td><td>68</td><td>4880.22</td><td>Completed</td><td>null</td></tr><tr><td>162</td><td>2023-06-11</td><td>29</td><td>2424.67</td><td>Pending</td><td>null</td></tr><tr><td>163</td><td>2023-06-12</td><td>88</td><td>7810.86</td><td>Completed</td><td>null</td></tr><tr><td>164</td><td>2023-06-13</td><td>8</td><td>5247.22</td><td>Completed</td><td>null</td></tr><tr><td>165</td><td>2023-06-14</td><td>51</td><td>6928.81</td><td>Completed</td><td>null</td></tr><tr><td>166</td><td>2023-06-15</td><td>50</td><td>3989.53</td><td>Pending</td><td>null</td></tr><tr><td>167</td><td>2023-06-16</td><td>41</td><td>991.57</td><td>Cancelled</td><td>null</td></tr><tr><td>168</td><td>2023-06-17</td><td>68</td><td>2355.44</td><td>Pending</td><td>null</td></tr><tr><td>169</td><td>2023-06-18</td><td>54</td><td>3895.21</td><td>Cancelled</td><td>null</td></tr><tr><td>170</td><td>2023-06-19</td><td>30</td><td>1470.39</td><td>Pending</td><td>null</td></tr><tr><td>171</td><td>2023-06-20</td><td>30</td><td>8297.64</td><td>Pending</td><td>null</td></tr><tr><td>172</td><td>2023-06-21</td><td>40</td><td>2942.66</td><td>Pending</td><td>null</td></tr><tr><td>173</td><td>2023-06-22</td><td>21</td><td>9844.01</td><td>Pending</td><td>null</td></tr><tr><td>174</td><td>2023-06-23</td><td>85</td><td>1907.59</td><td>Cancelled</td><td>null</td></tr><tr><td>175</td><td>2023-06-24</td><td>86</td><td>9533.22</td><td>Pending</td><td>null</td></tr><tr><td>176</td><td>2023-06-25</td><td>28</td><td>1618.64</td><td>Completed</td><td>null</td></tr><tr><td>177</td><td>2023-06-26</td><td>34</td><td>3392.49</td><td>Cancelled</td><td>null</td></tr><tr><td>178</td><td>2023-06-27</td><td>92</td><td>6590.0</td><td>Completed</td><td>null</td></tr><tr><td>179</td><td>2023-06-28</td><td>17</td><td>613.24</td><td>Pending</td><td>null</td></tr><tr><td>180</td><td>2023-06-29</td><td>3</td><td>8849.68</td><td>Cancelled</td><td>null</td></tr><tr><td>181</td><td>2023-06-30</td><td>22</td><td>6781.74</td><td>Cancelled</td><td>null</td></tr><tr><td>182</td><td>2023-07-01</td><td>61</td><td>5562.19</td><td>Cancelled</td><td>null</td></tr><tr><td>183</td><td>2023-07-02</td><td>53</td><td>7005.86</td><td>Cancelled</td><td>null</td></tr><tr><td>184</td><td>2023-07-03</td><td>51</td><td>1984.94</td><td>Cancelled</td><td>null</td></tr><tr><td>185</td><td>2023-07-04</td><td>12</td><td>5638.78</td><td>Completed</td><td>null</td></tr><tr><td>186</td><td>2023-07-05</td><td>39</td><td>7196.77</td><td>Completed</td><td>null</td></tr><tr><td>187</td><td>2023-07-06</td><td>84</td><td>4466.74</td><td>Pending</td><td>null</td></tr><tr><td>188</td><td>2023-07-07</td><td>35</td><td>141.43</td><td>Cancelled</td><td>null</td></tr><tr><td>189</td><td>2023-07-08</td><td>32</td><td>8840.35</td><td>Pending</td><td>null</td></tr><tr><td>190</td><td>2023-07-09</td><td>98</td><td>163.5</td><td>Pending</td><td>null</td></tr><tr><td>191</td><td>2023-07-10</td><td>27</td><td>5203.83</td><td>Cancelled</td><td>null</td></tr><tr><td>192</td><td>2023-07-11</td><td>27</td><td>4022.76</td><td>Cancelled</td><td>null</td></tr><tr><td>193</td><td>2023-07-12</td><td>50</td><td>8809.87</td><td>Cancelled</td><td>null</td></tr><tr><td>194</td><td>2023-07-13</td><td>67</td><td>728.23</td><td>Completed</td><td>null</td></tr><tr><td>195</td><td>2023-07-14</td><td>88</td><td>8233.2</td><td>Completed</td><td>null</td></tr><tr><td>196</td><td>2023-07-15</td><td>57</td><td>4373.75</td><td>Cancelled</td><td>null</td></tr><tr><td>197</td><td>2023-07-16</td><td>73</td><td>860.26</td><td>Pending</td><td>null</td></tr><tr><td>198</td><td>2023-07-17</td><td>29</td><td>6733.48</td><td>Cancelled</td><td>null</td></tr><tr><td>199</td><td>2023-07-18</td><td>61</td><td>7301.14</td><td>Completed</td><td>null</td></tr><tr><td>200</td><td>2023-07-19</td><td>56</td><td>6367.22</td><td>Completed</td><td>null</td></tr><tr><td>201</td><td>2023-07-20</td><td>7</td><td>5854.25</td><td>Cancelled</td><td>null</td></tr><tr><td>202</td><td>2023-07-21</td><td>11</td><td>4374.62</td><td>Cancelled</td><td>null</td></tr><tr><td>203</td><td>2023-07-22</td><td>94</td><td>3465.02</td><td>Pending</td><td>null</td></tr><tr><td>204</td><td>2023-07-23</td><td>26</td><td>145.16</td><td>Completed</td><td>null</td></tr><tr><td>205</td><td>2023-07-24</td><td>45</td><td>9584.32</td><td>Cancelled</td><td>null</td></tr><tr><td>206</td><td>2023-07-25</td><td>59</td><td>1596.43</td><td>Pending</td><td>null</td></tr><tr><td>207</td><td>2023-07-26</td><td>96</td><td>6919.2</td><td>Pending</td><td>null</td></tr><tr><td>208</td><td>2023-07-27</td><td>10</td><td>5747.14</td><td>Cancelled</td><td>null</td></tr><tr><td>209</td><td>2023-07-28</td><td>51</td><td>2215.69</td><td>Pending</td><td>null</td></tr><tr><td>210</td><td>2023-07-29</td><td>100</td><td>1475.52</td><td>Pending</td><td>null</td></tr><tr><td>211</td><td>2023-07-30</td><td>55</td><td>366.53</td><td>Completed</td><td>null</td></tr><tr><td>212</td><td>2023-07-31</td><td>41</td><td>6111.57</td><td>Completed</td><td>null</td></tr><tr><td>213</td><td>2023-08-01</td><td>10</td><td>2868.12</td><td>Pending</td><td>null</td></tr><tr><td>214</td><td>2023-08-02</td><td>53</td><td>8861.04</td><td>Pending</td><td>null</td></tr><tr><td>215</td><td>2023-08-03</td><td>98</td><td>3348.28</td><td>Completed</td><td>null</td></tr><tr><td>216</td><td>2023-08-04</td><td>67</td><td>5298.83</td><td>Cancelled</td><td>null</td></tr><tr><td>217</td><td>2023-08-05</td><td>62</td><td>6375.5</td><td>Cancelled</td><td>null</td></tr><tr><td>218</td><td>2023-08-06</td><td>10</td><td>102.21</td><td>Pending</td><td>null</td></tr><tr><td>219</td><td>2023-08-07</td><td>61</td><td>7980.84</td><td>Pending</td><td>null</td></tr><tr><td>220</td><td>2023-08-08</td><td>85</td><td>8421.1</td><td>Completed</td><td>null</td></tr><tr><td>221</td><td>2023-08-09</td><td>72</td><td>4665.13</td><td>Pending</td><td>null</td></tr><tr><td>222</td><td>2023-08-10</td><td>86</td><td>4555.53</td><td>Cancelled</td><td>null</td></tr><tr><td>223</td><td>2023-08-11</td><td>49</td><td>3961.23</td><td>Completed</td><td>null</td></tr><tr><td>224</td><td>2023-08-12</td><td>38</td><td>4190.78</td><td>Pending</td><td>null</td></tr><tr><td>225</td><td>2023-08-13</td><td>94</td><td>6548.94</td><td>Completed</td><td>null</td></tr><tr><td>226</td><td>2023-08-14</td><td>35</td><td>985.23</td><td>Cancelled</td><td>null</td></tr><tr><td>227</td><td>2023-08-15</td><td>82</td><td>7553.63</td><td>Pending</td><td>null</td></tr><tr><td>228</td><td>2023-08-16</td><td>59</td><td>2573.16</td><td>Cancelled</td><td>null</td></tr><tr><td>229</td><td>2023-08-17</td><td>45</td><td>2322.38</td><td>Cancelled</td><td>null</td></tr><tr><td>230</td><td>2023-08-18</td><td>64</td><td>3482.11</td><td>Completed</td><td>null</td></tr><tr><td>231</td><td>2023-08-19</td><td>100</td><td>3276.1</td><td>Completed</td><td>null</td></tr><tr><td>232</td><td>2023-08-20</td><td>13</td><td>973.35</td><td>Pending</td><td>null</td></tr><tr><td>233</td><td>2023-08-21</td><td>93</td><td>2639.63</td><td>Completed</td><td>null</td></tr><tr><td>234</td><td>2023-08-22</td><td>62</td><td>7345.45</td><td>Pending</td><td>null</td></tr><tr><td>235</td><td>2023-08-23</td><td>2</td><td>746.79</td><td>Completed</td><td>null</td></tr><tr><td>236</td><td>2023-08-24</td><td>78</td><td>7590.05</td><td>Completed</td><td>null</td></tr><tr><td>237</td><td>2023-08-25</td><td>22</td><td>5632.19</td><td>Cancelled</td><td>null</td></tr><tr><td>238</td><td>2023-08-26</td><td>84</td><td>1212.22</td><td>Completed</td><td>null</td></tr><tr><td>239</td><td>2023-08-27</td><td>8</td><td>9440.92</td><td>Pending</td><td>null</td></tr><tr><td>240</td><td>2023-08-28</td><td>86</td><td>407.94</td><td>Pending</td><td>null</td></tr><tr><td>241</td><td>2023-08-29</td><td>64</td><td>7809.68</td><td>Completed</td><td>null</td></tr><tr><td>242</td><td>2023-08-30</td><td>68</td><td>4173.55</td><td>Pending</td><td>null</td></tr><tr><td>243</td><td>2023-08-31</td><td>76</td><td>860.62</td><td>Completed</td><td>null</td></tr><tr><td>244</td><td>2023-09-01</td><td>85</td><td>9426.5</td><td>Completed</td><td>null</td></tr><tr><td>245</td><td>2023-09-02</td><td>92</td><td>2681.44</td><td>Pending</td><td>null</td></tr><tr><td>246</td><td>2023-09-03</td><td>65</td><td>6646.05</td><td>Cancelled</td><td>null</td></tr><tr><td>247</td><td>2023-09-04</td><td>50</td><td>305.52</td><td>Pending</td><td>null</td></tr><tr><td>248</td><td>2023-09-05</td><td>23</td><td>2949.42</td><td>Pending</td><td>null</td></tr><tr><td>249</td><td>2023-09-06</td><td>88</td><td>6772.4</td><td>Completed</td><td>null</td></tr><tr><td>250</td><td>2023-09-07</td><td>87</td><td>8915.24</td><td>Pending</td><td>null</td></tr><tr><td>251</td><td>2023-09-08</td><td>81</td><td>8747.59</td><td>Pending</td><td>null</td></tr><tr><td>252</td><td>2023-09-09</td><td>74</td><td>8335.51</td><td>Cancelled</td><td>null</td></tr><tr><td>253</td><td>2023-09-10</td><td>25</td><td>4992.45</td><td>Completed</td><td>null</td></tr><tr><td>null</td><td>2023-09-11</td><td>36</td><td>3408.13</td><td>Completed</td><td>null</td></tr><tr><td>255</td><td>2023-09-12</td><td>36</td><td>4725.72</td><td>Pending</td><td>null</td></tr><tr><td>256</td><td>2023-09-13</td><td>49</td><td>8979.25</td><td>Cancelled</td><td>null</td></tr><tr><td>257</td><td>2023-09-14</td><td>11</td><td>1542.78</td><td>Completed</td><td>null</td></tr><tr><td>258</td><td>2023-09-15</td><td>31</td><td>3938.06</td><td>Completed</td><td>null</td></tr><tr><td>null</td><td>2023-09-16</td><td>62</td><td>7761.83</td><td>Pending</td><td>null</td></tr><tr><td>260</td><td>2023-09-17</td><td>52</td><td>6160.65</td><td>Completed</td><td>null</td></tr><tr><td>261</td><td>2023-09-18</td><td>48</td><td>4336.27</td><td>Completed</td><td>null</td></tr><tr><td>262</td><td>2023-09-19</td><td>88</td><td>8457.71</td><td>Cancelled</td><td>null</td></tr><tr><td>263</td><td>2023-09-20</td><td>null</td><td>7769.61</td><td>Pending</td><td>null</td></tr><tr><td>264</td><td>2023-09-21</td><td>null</td><td>3706.45</td><td>Completed</td><td>null</td></tr><tr><td>265</td><td>2023-09-22</td><td>11</td><td>981.06</td><td>Pending</td><td>null</td></tr><tr><td>266</td><td>2023-09-23</td><td>57</td><td>8767.37</td><td>Completed</td><td>null</td></tr><tr><td>267</td><td>2023-09-24</td><td>99</td><td>2046.34</td><td>Cancelled</td><td>null</td></tr><tr><td>268</td><td>2023-09-25</td><td>53</td><td>8853.45</td><td>Pending</td><td>null</td></tr><tr><td>269</td><td>2023-09-26</td><td>8</td><td>4532.76</td><td>Pending</td><td>null</td></tr><tr><td>270</td><td>2023-09-27</td><td>2</td><td>735.62</td><td>Cancelled</td><td>null</td></tr><tr><td>271</td><td>2023-09-28</td><td>3</td><td>4433.27</td><td>Cancelled</td><td>null</td></tr><tr><td>272</td><td>2023-09-29</td><td>88</td><td>8899.67</td><td>Pending</td><td>null</td></tr><tr><td>273</td><td>2023-09-30</td><td>21</td><td>2588.31</td><td>Pending</td><td>null</td></tr><tr><td>274</td><td>2023-10-01</td><td>51</td><td>5074.29</td><td>Completed</td><td>null</td></tr><tr><td>275</td><td>2023-10-02</td><td>59</td><td>3847.9</td><td>Completed</td><td>null</td></tr><tr><td>276</td><td>2023-10-03</td><td>68</td><td>106.65</td><td>Pending</td><td>null</td></tr><tr><td>277</td><td>2023-10-04</td><td>64</td><td>8948.71</td><td>Pending</td><td>null</td></tr><tr><td>278</td><td>2023-10-05</td><td>12</td><td>1422.81</td><td>Completed</td><td>null</td></tr><tr><td>279</td><td>2023-10-06</td><td>77</td><td>9484.51</td><td>Cancelled</td><td>null</td></tr><tr><td>280</td><td>2023-10-07</td><td>76</td><td>859.18</td><td>Pending</td><td>null</td></tr><tr><td>281</td><td>2023-10-08</td><td>36</td><td>3607.75</td><td>Cancelled</td><td>null</td></tr><tr><td>282</td><td>2023-10-09</td><td>12</td><td>1542.32</td><td>Completed</td><td>null</td></tr><tr><td>283</td><td>2023-10-10</td><td>44</td><td>3668.21</td><td>Pending</td><td>null</td></tr><tr><td>284</td><td>2023-10-11</td><td>84</td><td>611.5</td><td>Pending</td><td>null</td></tr><tr><td>285</td><td>2023-10-12</td><td>19</td><td>9613.53</td><td>Pending</td><td>null</td></tr><tr><td>286</td><td>2023-10-13</td><td>55</td><td>189.54</td><td>Cancelled</td><td>null</td></tr><tr><td>287</td><td>2023-10-14</td><td>20</td><td>6694.23</td><td>Cancelled</td><td>null</td></tr><tr><td>288</td><td>2023-10-15</td><td>48</td><td>3181.99</td><td>Completed</td><td>null</td></tr><tr><td>289</td><td>2023-10-16</td><td>78</td><td>5418.52</td><td>Pending</td><td>null</td></tr><tr><td>290</td><td>2023-10-17</td><td>72</td><td>6342.58</td><td>Cancelled</td><td>null</td></tr><tr><td>291</td><td>2023-10-18</td><td>26</td><td>4781.49</td><td>Pending</td><td>null</td></tr><tr><td>292</td><td>2023-10-19</td><td>64</td><td>1197.98</td><td>Cancelled</td><td>null</td></tr><tr><td>293</td><td>2023-10-20</td><td>76</td><td>8370.43</td><td>Pending</td><td>null</td></tr><tr><td>294</td><td>2023-10-21</td><td>30</td><td>1624.83</td><td>Completed</td><td>null</td></tr><tr><td>295</td><td>2023-10-22</td><td>17</td><td>9379.34</td><td>Cancelled</td><td>null</td></tr><tr><td>296</td><td>2023-10-23</td><td>37</td><td>3171.56</td><td>Completed</td><td>null</td></tr><tr><td>297</td><td>2023-10-24</td><td>9</td><td>7368.66</td><td>Pending</td><td>null</td></tr><tr><td>298</td><td>2023-10-25</td><td>28</td><td>547.74</td><td>Cancelled</td><td>null</td></tr><tr><td>299</td><td>2023-10-26</td><td>54</td><td>7306.86</td><td>Cancelled</td><td>null</td></tr><tr><td>300</td><td>2023-10-27</td><td>46</td><td>8839.71</td><td>Cancelled</td><td>null</td></tr><tr><td>301</td><td>2023-10-28</td><td>10</td><td>1500.35</td><td>Cancelled</td><td>null</td></tr><tr><td>302</td><td>2023-10-29</td><td>51</td><td>4607.64</td><td>Cancelled</td><td>null</td></tr><tr><td>303</td><td>2023-10-30</td><td>82</td><td>7441.11</td><td>Cancelled</td><td>null</td></tr><tr><td>304</td><td>2023-10-31</td><td>36</td><td>4844.82</td><td>Completed</td><td>null</td></tr><tr><td>305</td><td>2023-11-01</td><td>69</td><td>8829.54</td><td>Cancelled</td><td>null</td></tr><tr><td>306</td><td>2023-11-02</td><td>1</td><td>1651.09</td><td>Cancelled</td><td>null</td></tr><tr><td>307</td><td>2023-11-03</td><td>54</td><td>7947.19</td><td>Cancelled</td><td>null</td></tr><tr><td>308</td><td>2023-11-04</td><td>63</td><td>4896.79</td><td>Cancelled</td><td>null</td></tr><tr><td>309</td><td>2023-11-05</td><td>62</td><td>1206.32</td><td>Pending</td><td>null</td></tr><tr><td>310</td><td>2023-11-06</td><td>4</td><td>9625.86</td><td>Completed</td><td>null</td></tr><tr><td>311</td><td>2023-11-07</td><td>99</td><td>3633.85</td><td>Cancelled</td><td>null</td></tr><tr><td>312</td><td>2023-11-08</td><td>71</td><td>8005.26</td><td>Cancelled</td><td>null</td></tr><tr><td>313</td><td>2023-11-09</td><td>5</td><td>2382.19</td><td>Cancelled</td><td>null</td></tr><tr><td>314</td><td>2023-11-10</td><td>55</td><td>955.12</td><td>Pending</td><td>null</td></tr><tr><td>315</td><td>2023-11-11</td><td>39</td><td>5718.0</td><td>Cancelled</td><td>null</td></tr><tr><td>316</td><td>2023-11-12</td><td>62</td><td>8202.48</td><td>Completed</td><td>null</td></tr><tr><td>317</td><td>2023-11-13</td><td>77</td><td>8709.58</td><td>Cancelled</td><td>null</td></tr><tr><td>318</td><td>2023-11-14</td><td>83</td><td>6002.34</td><td>Pending</td><td>null</td></tr><tr><td>319</td><td>2023-11-15</td><td>87</td><td>1238.55</td><td>Pending</td><td>null</td></tr><tr><td>320</td><td>2023-11-16</td><td>91</td><td>523.1</td><td>Completed</td><td>null</td></tr><tr><td>321</td><td>2023-11-17</td><td>27</td><td>149.48</td><td>Completed</td><td>null</td></tr><tr><td>322</td><td>2023-11-18</td><td>85</td><td>5947.98</td><td>Pending</td><td>null</td></tr><tr><td>323</td><td>2023-11-19</td><td>14</td><td>3394.59</td><td>Completed</td><td>null</td></tr><tr><td>324</td><td>2023-11-20</td><td>88</td><td>6677.66</td><td>Completed</td><td>null</td></tr><tr><td>325</td><td>2023-11-21</td><td>35</td><td>1713.93</td><td>Completed</td><td>null</td></tr><tr><td>326</td><td>2023-11-22</td><td>99</td><td>5431.45</td><td>Cancelled</td><td>null</td></tr><tr><td>327</td><td>2023-11-23</td><td>71</td><td>5939.58</td><td>Cancelled</td><td>null</td></tr><tr><td>328</td><td>2023-11-24</td><td>9</td><td>2405.49</td><td>Cancelled</td><td>null</td></tr><tr><td>329</td><td>2023-11-25</td><td>80</td><td>6747.1</td><td>Cancelled</td><td>null</td></tr><tr><td>330</td><td>2023-11-26</td><td>89</td><td>2515.18</td><td>Cancelled</td><td>null</td></tr><tr><td>331</td><td>2023-11-27</td><td>15</td><td>6552.9</td><td>Cancelled</td><td>null</td></tr><tr><td>332</td><td>2023-11-28</td><td>53</td><td>5411.05</td><td>Pending</td><td>null</td></tr><tr><td>333</td><td>2023-11-29</td><td>14</td><td>1291.25</td><td>Completed</td><td>null</td></tr><tr><td>334</td><td>2023-11-30</td><td>56</td><td>8361.95</td><td>Pending</td><td>null</td></tr><tr><td>335</td><td>2023-12-01</td><td>49</td><td>1069.87</td><td>Cancelled</td><td>null</td></tr><tr><td>336</td><td>2023-12-02</td><td>84</td><td>7118.68</td><td>Pending</td><td>null</td></tr><tr><td>337</td><td>2023-12-03</td><td>29</td><td>820.83</td><td>Pending</td><td>null</td></tr><tr><td>338</td><td>2023-12-04</td><td>88</td><td>2231.64</td><td>Cancelled</td><td>null</td></tr><tr><td>339</td><td>2023-12-05</td><td>72</td><td>9595.93</td><td>Completed</td><td>null</td></tr><tr><td>340</td><td>2023-12-06</td><td>9</td><td>6876.39</td><td>Completed</td><td>null</td></tr><tr><td>341</td><td>2023-12-07</td><td>35</td><td>7620.5</td><td>Completed</td><td>null</td></tr><tr><td>342</td><td>2023-12-08</td><td>93</td><td>8852.92</td><td>Completed</td><td>null</td></tr><tr><td>343</td><td>2023-12-09</td><td>79</td><td>8556.6</td><td>Cancelled</td><td>null</td></tr><tr><td>344</td><td>2023-12-10</td><td>49</td><td>6600.95</td><td>Completed</td><td>null</td></tr><tr><td>345</td><td>2023-12-11</td><td>47</td><td>7054.36</td><td>Completed</td><td>null</td></tr><tr><td>346</td><td>2023-12-12</td><td>38</td><td>5893.22</td><td>Pending</td><td>null</td></tr><tr><td>347</td><td>2023-12-13</td><td>35</td><td>6230.25</td><td>Completed</td><td>null</td></tr><tr><td>348</td><td>2023-12-14</td><td>23</td><td>2936.11</td><td>Completed</td><td>null</td></tr><tr><td>349</td><td>2023-12-15</td><td>64</td><td>9845.98</td><td>Pending</td><td>null</td></tr><tr><td>350</td><td>2023-12-16</td><td>27</td><td>6350.47</td><td>Cancelled</td><td>null</td></tr><tr><td>351</td><td>2023-12-17</td><td>24</td><td>7588.14</td><td>Pending</td><td>null</td></tr><tr><td>352</td><td>2023-12-18</td><td>61</td><td>925.75</td><td>Cancelled</td><td>null</td></tr><tr><td>353</td><td>2023-12-19</td><td>76</td><td>453.97</td><td>Cancelled</td><td>null</td></tr><tr><td>354</td><td>2023-12-20</td><td>21</td><td>7618.76</td><td>Pending</td><td>null</td></tr><tr><td>355</td><td>2023-12-21</td><td>74</td><td>1362.24</td><td>Completed</td><td>null</td></tr><tr><td>356</td><td>2023-12-22</td><td>91</td><td>6086.69</td><td>Cancelled</td><td>null</td></tr><tr><td>357</td><td>2023-12-23</td><td>23</td><td>4452.01</td><td>Completed</td><td>null</td></tr><tr><td>358</td><td>2023-12-24</td><td>33</td><td>2956.64</td><td>Completed</td><td>null</td></tr><tr><td>359</td><td>2023-12-25</td><td>17</td><td>4198.81</td><td>Cancelled</td><td>null</td></tr><tr><td>360</td><td>2023-12-26</td><td>53</td><td>1978.9</td><td>Cancelled</td><td>null</td></tr><tr><td>361</td><td>2023-12-27</td><td>97</td><td>4259.37</td><td>Completed</td><td>null</td></tr><tr><td>362</td><td>2023-12-28</td><td>66</td><td>3337.11</td><td>Cancelled</td><td>null</td></tr><tr><td>363</td><td>2023-12-29</td><td>14</td><td>989.4</td><td>Completed</td><td>null</td></tr><tr><td>364</td><td>2023-12-30</td><td>14</td><td>9757.83</td><td>Cancelled</td><td>null</td></tr><tr><td>365</td><td>2023-12-31</td><td>97</td><td>2746.88</td><td>Completed</td><td>null</td></tr><tr><td>366</td><td>2024-01-01</td><td>7</td><td>8810.01</td><td>Completed</td><td>null</td></tr><tr><td>367</td><td>2024-01-02</td><td>50</td><td>5683.54</td><td>Cancelled</td><td>null</td></tr><tr><td>368</td><td>2024-01-03</td><td>43</td><td>2266.4</td><td>Completed</td><td>null</td></tr><tr><td>369</td><td>2024-01-04</td><td>26</td><td>3196.48</td><td>Pending</td><td>null</td></tr><tr><td>370</td><td>2024-01-05</td><td>55</td><td>932.07</td><td>Pending</td><td>null</td></tr><tr><td>371</td><td>2024-01-06</td><td>23</td><td>643.05</td><td>Cancelled</td><td>null</td></tr><tr><td>372</td><td>2024-01-07</td><td>70</td><td>2524.62</td><td>Cancelled</td><td>null</td></tr><tr><td>373</td><td>2024-01-08</td><td>11</td><td>9836.35</td><td>Pending</td><td>null</td></tr><tr><td>374</td><td>2024-01-09</td><td>47</td><td>876.44</td><td>Pending</td><td>null</td></tr><tr><td>375</td><td>2024-01-10</td><td>50</td><td>7703.68</td><td>Pending</td><td>null</td></tr><tr><td>376</td><td>2024-01-11</td><td>86</td><td>3647.76</td><td>Cancelled</td><td>null</td></tr><tr><td>377</td><td>2024-01-12</td><td>3</td><td>9341.38</td><td>Completed</td><td>null</td></tr><tr><td>378</td><td>2024-01-13</td><td>99</td><td>8292.86</td><td>Pending</td><td>null</td></tr><tr><td>379</td><td>2024-01-14</td><td>27</td><td>2277.02</td><td>Completed</td><td>null</td></tr><tr><td>380</td><td>2024-01-15</td><td>89</td><td>1632.03</td><td>Completed</td><td>null</td></tr><tr><td>381</td><td>2024-01-16</td><td>84</td><td>7487.52</td><td>Pending</td><td>null</td></tr><tr><td>382</td><td>2024-01-17</td><td>62</td><td>9504.14</td><td>Pending</td><td>null</td></tr><tr><td>383</td><td>2024-01-18</td><td>52</td><td>9930.93</td><td>Cancelled</td><td>null</td></tr><tr><td>384</td><td>2024-01-19</td><td>65</td><td>930.2</td><td>Completed</td><td>null</td></tr><tr><td>385</td><td>2024-01-20</td><td>36</td><td>3714.81</td><td>Cancelled</td><td>null</td></tr><tr><td>386</td><td>2024-01-21</td><td>57</td><td>6649.47</td><td>Cancelled</td><td>null</td></tr><tr><td>387</td><td>2024-01-22</td><td>51</td><td>1702.81</td><td>Pending</td><td>null</td></tr><tr><td>388</td><td>2024-01-23</td><td>66</td><td>8056.37</td><td>Cancelled</td><td>null</td></tr><tr><td>389</td><td>2024-01-24</td><td>85</td><td>5585.84</td><td>Cancelled</td><td>null</td></tr><tr><td>390</td><td>2024-01-25</td><td>32</td><td>9599.01</td><td>Cancelled</td><td>null</td></tr><tr><td>391</td><td>2024-01-26</td><td>41</td><td>5646.3</td><td>Cancelled</td><td>null</td></tr><tr><td>392</td><td>2024-01-27</td><td>87</td><td>3155.57</td><td>Completed</td><td>null</td></tr><tr><td>393</td><td>2024-01-28</td><td>1</td><td>3430.48</td><td>Cancelled</td><td>null</td></tr><tr><td>394</td><td>2024-01-29</td><td>51</td><td>4985.48</td><td>Pending</td><td>null</td></tr><tr><td>395</td><td>2024-01-30</td><td>100</td><td>8393.26</td><td>Completed</td><td>null</td></tr><tr><td>396</td><td>2024-01-31</td><td>19</td><td>4744.2</td><td>Pending</td><td>null</td></tr><tr><td>397</td><td>2024-02-01</td><td>48</td><td>5379.8</td><td>Pending</td><td>null</td></tr><tr><td>398</td><td>2024-02-02</td><td>1</td><td>2334.32</td><td>Cancelled</td><td>null</td></tr><tr><td>399</td><td>2024-02-03</td><td>62</td><td>2079.83</td><td>Pending</td><td>null</td></tr><tr><td>400</td><td>2024-02-04</td><td>25</td><td>4084.99</td><td>Pending</td><td>null</td></tr><tr><td>400</td><td>2024-02-04</td><td>25</td><td>4084.99</td><td>Complete</td><td>null</td></tr><tr><td>401</td><td>2024-02-05</td><td>69</td><td>6883.87</td><td>Pending</td><td>null</td></tr><tr><td>402</td><td>2024-02-06</td><td>5</td><td>1444.43</td><td>Completed</td><td>null</td></tr><tr><td>403</td><td>2024-02-07</td><td>58</td><td>9773.76</td><td>Cancelled</td><td>null</td></tr><tr><td>404</td><td>2024-02-08</td><td>81</td><td>2145.33</td><td>Completed</td><td>null</td></tr><tr><td>405</td><td>2024-02-09</td><td>67</td><td>3083.4</td><td>Cancelled</td><td>null</td></tr><tr><td>406</td><td>2024-02-10</td><td>28</td><td>5626.81</td><td>Cancelled</td><td>null</td></tr><tr><td>407</td><td>2024-02-11</td><td>52</td><td>6520.05</td><td>Cancelled</td><td>null</td></tr><tr><td>408</td><td>2024-02-12</td><td>64</td><td>2035.89</td><td>Cancelled</td><td>null</td></tr><tr><td>409</td><td>2024-02-13</td><td>41</td><td>979.4</td><td>Pending</td><td>null</td></tr><tr><td>410</td><td>2024-02-14</td><td>93</td><td>-5.11</td><td>Completed</td><td>null</td></tr><tr><td>411</td><td>2024-02-15</td><td>43</td><td>0.0</td><td>Cancelled</td><td>null</td></tr><tr><td>412</td><td>2024-02-16</td><td>78</td><td>1403.77</td><td>Completed</td><td>null</td></tr><tr><td>413</td><td>2024-02-17</td><td>55</td><td>2005.12</td><td>Pending</td><td>null</td></tr><tr><td>414</td><td>2024-02-18</td><td>25</td><td>9283.96</td><td>Cancelled</td><td>null</td></tr><tr><td>415</td><td>2024-02-19</td><td>89</td><td>9014.15</td><td>Cancelled</td><td>null</td></tr><tr><td>416</td><td>2024-02-20</td><td>64</td><td>4504.41</td><td>Cancelled</td><td>null</td></tr><tr><td>417</td><td>2024-02-21</td><td>96</td><td>6705.38</td><td>Completed</td><td>null</td></tr><tr><td>418</td><td>2024-02-22</td><td>55</td><td>2932.71</td><td>Pending</td><td>null</td></tr><tr><td>419</td><td>2024-02-23</td><td>88</td><td>8450.03</td><td>Pending</td><td>null</td></tr><tr><td>420</td><td>2024-02-24</td><td>100</td><td>1778.02</td><td>Cancelled</td><td>null</td></tr><tr><td>421</td><td>2024-02-25</td><td>96</td><td>2586.55</td><td>Cancelled</td><td>null</td></tr><tr><td>422</td><td>2024-02-26</td><td>5</td><td>3135.65</td><td>Pending</td><td>null</td></tr><tr><td>423</td><td>2024-02-27</td><td>86</td><td>1205.8</td><td>Cancelled</td><td>null</td></tr><tr><td>424</td><td>2024-02-28</td><td>36</td><td>6569.35</td><td>Completed</td><td>null</td></tr><tr><td>425</td><td>2024-02-29</td><td>11</td><td>9119.92</td><td>Pending</td><td>null</td></tr><tr><td>426</td><td>2024-03-01</td><td>72</td><td>9238.17</td><td>Cancelled</td><td>null</td></tr><tr><td>427</td><td>2024-03-02</td><td>2</td><td>9220.4</td><td>Completed</td><td>null</td></tr><tr><td>428</td><td>2024-03-03</td><td>21</td><td>9916.12</td><td>Cancelled</td><td>null</td></tr><tr><td>429</td><td>2024-03-04</td><td>37</td><td>4209.65</td><td>Cancelled</td><td>null</td></tr><tr><td>430</td><td>2024-03-05</td><td>54</td><td>3004.98</td><td>Completed</td><td>null</td></tr><tr><td>431</td><td>2024-03-06</td><td>88</td><td>8315.62</td><td>Completed</td><td>null</td></tr><tr><td>432</td><td>2024-03-07</td><td>73</td><td>6141.21</td><td>Completed</td><td>null</td></tr><tr><td>433</td><td>2024-03-08</td><td>14</td><td>7325.57</td><td>Completed</td><td>null</td></tr><tr><td>434</td><td>2024-03-09</td><td>32</td><td>6887.17</td><td>Completed</td><td>null</td></tr><tr><td>435</td><td>2024-03-10</td><td>16</td><td>7999.33</td><td>Pending</td><td>null</td></tr><tr><td>436</td><td>2024-03-11</td><td>31</td><td>6454.06</td><td>Pending</td><td>null</td></tr><tr><td>437</td><td>2024-03-12</td><td>67</td><td>9553.88</td><td>Pending</td><td>null</td></tr><tr><td>438</td><td>2024-03-13</td><td>23</td><td>1123.65</td><td>Pending</td><td>null</td></tr><tr><td>439</td><td>2024-03-14</td><td>1</td><td>8325.08</td><td>Cancelled</td><td>null</td></tr><tr><td>440</td><td>2024-03-15</td><td>99</td><td>1497.8</td><td>Completed</td><td>null</td></tr><tr><td>441</td><td>2024-03-16</td><td>36</td><td>687.53</td><td>Pending</td><td>null</td></tr><tr><td>442</td><td>2024-03-17</td><td>56</td><td>3631.44</td><td>Pending</td><td>null</td></tr><tr><td>443</td><td>2024-03-18</td><td>37</td><td>3637.22</td><td>Completed</td><td>null</td></tr><tr><td>444</td><td>2024-03-19</td><td>87</td><td>398.26</td><td>Cancelled</td><td>null</td></tr><tr><td>445</td><td>2024-03-20</td><td>39</td><td>7337.07</td><td>Pending</td><td>null</td></tr><tr><td>446</td><td>2024-03-21</td><td>95</td><td>2005.7</td><td>Completed</td><td>null</td></tr><tr><td>447</td><td>2024-03-22</td><td>42</td><td>7180.24</td><td>Completed</td><td>null</td></tr><tr><td>448</td><td>2024-03-23</td><td>38</td><td>8217.32</td><td>Completed</td><td>null</td></tr><tr><td>449</td><td>2024-03-24</td><td>92</td><td>5403.22</td><td>Pending</td><td>null</td></tr><tr><td>450</td><td>2024-03-25</td><td>81</td><td>7347.59</td><td>Pending</td><td>null</td></tr><tr><td>451</td><td>2024-03-26</td><td>52</td><td>1296.82</td><td>Pending</td><td>null</td></tr><tr><td>452</td><td>2024-03-27</td><td>96</td><td>2929.63</td><td>Cancelled</td><td>null</td></tr><tr><td>453</td><td>2024-03-28</td><td>50</td><td>2384.11</td><td>Completed</td><td>null</td></tr><tr><td>454</td><td>2024-03-29</td><td>76</td><td>4122.13</td><td>Pending</td><td>null</td></tr><tr><td>455</td><td>2024-03-30</td><td>86</td><td>6858.12</td><td>Cancelled</td><td>null</td></tr><tr><td>456</td><td>2024-03-31</td><td>77</td><td>996.3</td><td>Completed</td><td>null</td></tr><tr><td>457</td><td>2024-04-01</td><td>56</td><td>8412.99</td><td>Cancelled</td><td>null</td></tr><tr><td>458</td><td>2024-04-02</td><td>15</td><td>9940.63</td><td>Completed</td><td>null</td></tr><tr><td>459</td><td>2024-04-03</td><td>1</td><td>5006.56</td><td>Pending</td><td>null</td></tr><tr><td>460</td><td>2024-04-04</td><td>81</td><td>9946.22</td><td>Cancelled</td><td>null</td></tr><tr><td>461</td><td>2024-04-05</td><td>63</td><td>1833.39</td><td>Completed</td><td>null</td></tr><tr><td>462</td><td>2024-04-06</td><td>23</td><td>8668.52</td><td>Pending</td><td>null</td></tr><tr><td>463</td><td>2024-04-07</td><td>5</td><td>8047.99</td><td>Pending</td><td>null</td></tr><tr><td>464</td><td>2024-04-08</td><td>1</td><td>1902.38</td><td>Pending</td><td>null</td></tr><tr><td>465</td><td>2024-04-09</td><td>2</td><td>3501.68</td><td>Completed</td><td>null</td></tr><tr><td>466</td><td>2024-04-10</td><td>30</td><td>5155.0</td><td>Pending</td><td>null</td></tr><tr><td>467</td><td>2024-04-11</td><td>77</td><td>8330.98</td><td>Cancelled</td><td>null</td></tr><tr><td>468</td><td>2024-04-12</td><td>23</td><td>9123.38</td><td>Completed</td><td>null</td></tr><tr><td>469</td><td>2024-04-13</td><td>95</td><td>6689.83</td><td>Cancelled</td><td>null</td></tr><tr><td>470</td><td>2024-04-14</td><td>25</td><td>2475.64</td><td>Completed</td><td>null</td></tr><tr><td>471</td><td>2024-04-15</td><td>31</td><td>3336.6</td><td>Cancelled</td><td>null</td></tr><tr><td>472</td><td>2024-04-16</td><td>67</td><td>4415.14</td><td>Completed</td><td>null</td></tr><tr><td>473</td><td>2024-04-17</td><td>76</td><td>8366.88</td><td>Completed</td><td>null</td></tr><tr><td>474</td><td>2024-04-18</td><td>41</td><td>5823.44</td><td>Completed</td><td>null</td></tr><tr><td>475</td><td>2024-04-19</td><td>94</td><td>7526.3</td><td>Pending</td><td>null</td></tr><tr><td>476</td><td>2024-04-20</td><td>54</td><td>8957.2</td><td>Completed</td><td>null</td></tr><tr><td>477</td><td>2024-04-21</td><td>6</td><td>2448.91</td><td>Cancelled</td><td>null</td></tr><tr><td>478</td><td>2024-04-22</td><td>38</td><td>6120.25</td><td>Cancelled</td><td>null</td></tr><tr><td>479</td><td>2024-04-23</td><td>100</td><td>6636.22</td><td>Completed</td><td>null</td></tr><tr><td>480</td><td>2024-04-24</td><td>2</td><td>1003.3</td><td>Completed</td><td>null</td></tr><tr><td>481</td><td>2024-04-25</td><td>93</td><td>5178.77</td><td>Completed</td><td>null</td></tr><tr><td>482</td><td>2024-04-26</td><td>44</td><td>573.54</td><td>Completed</td><td>null</td></tr><tr><td>483</td><td>2024-04-27</td><td>59</td><td>7121.1</td><td>Pending</td><td>null</td></tr><tr><td>484</td><td>2024-04-28</td><td>15</td><td>3380.34</td><td>Pending</td><td>null</td></tr><tr><td>485</td><td>2024-04-29</td><td>53</td><td>9104.57</td><td>Pending</td><td>null</td></tr><tr><td>486</td><td>2024-04-30</td><td>88</td><td>8344.23</td><td>Cancelled</td><td>null</td></tr><tr><td>487</td><td>2024-05-01</td><td>8</td><td>9551.56</td><td>Pending</td><td>null</td></tr><tr><td>488</td><td>2024-05-02</td><td>81</td><td>8053.09</td><td>Completed</td><td>null</td></tr><tr><td>489</td><td>2024-05-03</td><td>84</td><td>7571.3</td><td>Completed</td><td>null</td></tr><tr><td>490</td><td>2024-05-04</td><td>45</td><td>278.95</td><td>Pending</td><td>null</td></tr><tr><td>491</td><td>2024-05-05</td><td>87</td><td>7694.24</td><td>Completed</td><td>null</td></tr><tr><td>492</td><td>2024-05-06</td><td>36</td><td>3982.31</td><td>Completed</td><td>null</td></tr><tr><td>493</td><td>2024-05-07</td><td>46</td><td>3225.22</td><td>Pending</td><td>null</td></tr><tr><td>494</td><td>2024-05-08</td><td>77</td><td>2277.34</td><td>Completed</td><td>null</td></tr><tr><td>495</td><td>2024-05-09</td><td>56</td><td>4013.87</td><td>Cancelled</td><td>null</td></tr><tr><td>496</td><td>2024-05-10</td><td>79</td><td>783.51</td><td>Cancelled</td><td>null</td></tr><tr><td>497</td><td>2024-05-11</td><td>76</td><td>8688.72</td><td>Cancelled</td><td>null</td></tr><tr><td>498</td><td>2024-05-12</td><td>47</td><td>6947.74</td><td>Pending</td><td>null</td></tr><tr><td>499</td><td>2024-05-13</td><td>60</td><td>9974.14</td><td>Pending</td><td>null</td></tr><tr><td>500</td><td>2024-05-14</td><td>3</td><td>5684.62</td><td>Pending</td><td>null</td></tr></tbody></table></div>"
      ]
     },
     "metadata": {
      "application/vnd.databricks.v1+output": {
       "addedWidgets": {},
       "aggData": [],
       "aggError": "",
       "aggOverflow": false,
       "aggSchema": [],
       "aggSeriesLimitReached": false,
       "aggType": "",
       "arguments": {},
       "columnCustomDisplayInfos": {},
       "data": [
        [
         1,
         "2023-01-01",
         25,
         6202.83,
         "Cancelled",
         null
        ],
        [
         2,
         "2023-01-02",
         32,
         9871.87,
         "Cancelled",
         null
        ],
        [
         3,
         "2023-01-03",
         78,
         6814.71,
         "Completed",
         null
        ],
        [
         4,
         "2023-01-04",
         89,
         4972.72,
         "Pending",
         null
        ],
        [
         5,
         "2023-01-05",
         91,
         5150.9,
         "Pending",
         null
        ],
        [
         6,
         "2023-01-06",
         6,
         6603.76,
         "Pending",
         null
        ],
        [
         7,
         "2023-01-07",
         20,
         7080.93,
         "Cancelled",
         null
        ],
        [
         8,
         "2023-01-08",
         15,
         4101.39,
         "Cancelled",
         null
        ],
        [
         9,
         "2023-01-09",
         16,
         1755.19,
         "Pending",
         null
        ],
        [
         10,
         "2023-01-10",
         34,
         4953.16,
         "Pending",
         null
        ],
        [
         11,
         "2023-01-11",
         49,
         7449.77,
         "Cancelled",
         null
        ],
        [
         12,
         "2023-01-12",
         76,
         9997.49,
         "Cancelled",
         null
        ],
        [
         13,
         "2023-01-13",
         38,
         8166.68,
         "Cancelled",
         null
        ],
        [
         14,
         "2023-01-14",
         98,
         605.24,
         "Cancelled",
         null
        ],
        [
         15,
         "2023-01-15",
         48,
         2758.82,
         "Cancelled",
         null
        ],
        [
         16,
         "2023-01-16",
         47,
         9969.86,
         "Cancelled",
         null
        ],
        [
         17,
         "2023-01-17",
         58,
         1077.43,
         "Pending",
         null
        ],
        [
         18,
         "2023-01-18",
         1,
         6506.6,
         "Pending",
         null
        ],
        [
         19,
         "2023-01-19",
         36,
         1548.39,
         "Completed",
         null
        ],
        [
         20,
         "2023-01-20",
         23,
         9254.6,
         "Cancelled",
         null
        ],
        [
         21,
         "2023-01-21",
         74,
         6965.34,
         "Cancelled",
         null
        ],
        [
         22,
         "2023-01-22",
         10,
         9044.64,
         "Completed",
         null
        ],
        [
         23,
         "2023-01-23",
         93,
         1355.14,
         "Completed",
         null
        ],
        [
         24,
         "2023-01-24",
         60,
         2319.98,
         "Pending",
         null
        ],
        [
         25,
         "2023-01-25",
         51,
         9004.92,
         "Cancelled",
         null
        ],
        [
         26,
         "2023-01-26",
         89,
         7869.59,
         "Pending",
         null
        ],
        [
         27,
         "2023-01-27",
         37,
         7486.4,
         "Cancelled",
         null
        ],
        [
         28,
         "2023-01-28",
         57,
         335.13,
         "Completed",
         null
        ],
        [
         29,
         "2023-01-29",
         3,
         2440.15,
         "Cancelled",
         null
        ],
        [
         30,
         "2023-01-30",
         74,
         5047.42,
         "Cancelled",
         null
        ],
        [
         31,
         "2023-01-31",
         50,
         8644.51,
         "Pending",
         null
        ],
        [
         32,
         "2023-02-01",
         17,
         1638.48,
         "Completed",
         null
        ],
        [
         33,
         "2023-02-02",
         8,
         6941.56,
         "Pending",
         null
        ],
        [
         34,
         "2023-02-03",
         51,
         5311.68,
         "Cancelled",
         null
        ],
        [
         35,
         "2023-02-04",
         69,
         688.77,
         "Pending",
         null
        ],
        [
         36,
         "2023-02-05",
         27,
         2205.99,
         "Completed",
         null
        ],
        [
         37,
         "2023-02-06",
         2,
         9628.26,
         "Pending",
         null
        ],
        [
         38,
         "2023-02-07",
         87,
         2106.5,
         "Cancelled",
         null
        ],
        [
         39,
         "2023-02-08",
         58,
         5739.66,
         "Completed",
         null
        ],
        [
         40,
         "2023-02-09",
         95,
         9646.55,
         "Pending",
         null
        ],
        [
         41,
         "2023-02-10",
         80,
         6569.68,
         "Cancelled",
         null
        ],
        [
         42,
         "2023-02-11",
         6,
         2379.75,
         "Cancelled",
         null
        ],
        [
         43,
         "2023-02-12",
         1,
         2818.2,
         "Completed",
         null
        ],
        [
         44,
         "2023-02-13",
         67,
         9915.55,
         "Completed",
         null
        ],
        [
         45,
         "2023-02-14",
         36,
         1254.53,
         "Cancelled",
         null
        ],
        [
         46,
         "2023-02-15",
         94,
         9313.24,
         "Cancelled",
         null
        ],
        [
         47,
         "2023-02-16",
         76,
         9624.88,
         "Cancelled",
         null
        ],
        [
         48,
         "2023-02-17",
         90,
         4001.2,
         "Pending",
         null
        ],
        [
         49,
         "2023-02-18",
         51,
         8863.17,
         "Completed",
         null
        ],
        [
         50,
         "2023-02-19",
         81,
         5596.78,
         "Cancelled",
         null
        ],
        [
         51,
         "2023-02-20",
         68,
         3254.91,
         "Completed",
         null
        ],
        [
         52,
         "2023-02-21",
         76,
         9684.27,
         "Completed",
         null
        ],
        [
         53,
         "2023-02-22",
         100,
         998.33,
         "Pending",
         null
        ],
        [
         54,
         "2023-02-23",
         33,
         3262.21,
         "Pending",
         null
        ],
        [
         55,
         "2023-02-24",
         77,
         4206.9,
         "Cancelled",
         null
        ],
        [
         56,
         "2023-02-25",
         90,
         4729.67,
         "Completed",
         null
        ],
        [
         57,
         "2023-02-26",
         56,
         7448.92,
         "Pending",
         null
        ],
        [
         58,
         "2023-02-27",
         63,
         3656.16,
         "Completed",
         null
        ],
        [
         59,
         "2023-02-28",
         30,
         4863.75,
         "Cancelled",
         null
        ],
        [
         60,
         "2023-03-01",
         54,
         3875.76,
         "Pending",
         null
        ],
        [
         61,
         "2023-03-02",
         7,
         7062.08,
         "Completed",
         null
        ],
        [
         62,
         "2023-03-03",
         40,
         4433.78,
         "Pending",
         null
        ],
        [
         63,
         "2023-03-04",
         89,
         4029.11,
         "Completed",
         null
        ],
        [
         64,
         "2023-03-05",
         22,
         2093.56,
         "Pending",
         null
        ],
        [
         65,
         "2023-03-06",
         98,
         7663.36,
         "Completed",
         null
        ],
        [
         66,
         "2023-03-07",
         59,
         3243.49,
         "Pending",
         null
        ],
        [
         67,
         "2023-03-08",
         33,
         7656.12,
         "Completed",
         null
        ],
        [
         68,
         "2023-03-09",
         89,
         2396.88,
         "Cancelled",
         null
        ],
        [
         69,
         "2023-03-10",
         52,
         5495.81,
         "Cancelled",
         null
        ],
        [
         70,
         "2023-03-11",
         42,
         9389.62,
         "Pending",
         null
        ],
        [
         71,
         "2023-03-12",
         6,
         4813.79,
         "Cancelled",
         null
        ],
        [
         72,
         "2023-03-13",
         26,
         1556.17,
         "Cancelled",
         null
        ],
        [
         73,
         "2023-03-14",
         78,
         1575.43,
         "Completed",
         null
        ],
        [
         74,
         "2023-03-15",
         30,
         7530.86,
         "Cancelled",
         null
        ],
        [
         75,
         "2023-03-16",
         38,
         6556.43,
         "Cancelled",
         null
        ],
        [
         76,
         "2023-03-17",
         4,
         1567.39,
         "Pending",
         null
        ],
        [
         77,
         "2023-03-18",
         61,
         5517.63,
         "Completed",
         null
        ],
        [
         78,
         "2023-03-19",
         49,
         6621.72,
         "Pending",
         null
        ],
        [
         79,
         "2023-03-20",
         8,
         7400.71,
         "Completed",
         null
        ],
        [
         80,
         "2023-03-21",
         71,
         4685.35,
         "Completed",
         null
        ],
        [
         81,
         "2023-03-22",
         68,
         3568.06,
         "Pending",
         null
        ],
        [
         82,
         "2023-03-23",
         97,
         7164.62,
         "Pending",
         null
        ],
        [
         83,
         "2023-03-24",
         45,
         8019.19,
         "Pending",
         null
        ],
        [
         84,
         "2023-03-25",
         63,
         5679.81,
         "Pending",
         null
        ],
        [
         85,
         "2023-03-26",
         34,
         3296.12,
         "Pending",
         null
        ],
        [
         86,
         "2023-03-27",
         31,
         8469.51,
         "Pending",
         null
        ],
        [
         87,
         "2023-03-28",
         84,
         9641.95,
         "Cancelled",
         null
        ],
        [
         88,
         "2023-03-29",
         13,
         2426.68,
         "Pending",
         null
        ],
        [
         89,
         "2023-03-30",
         50,
         9882.5,
         "Cancelled",
         null
        ],
        [
         90,
         "2023-03-31",
         39,
         814.55,
         "Completed",
         null
        ],
        [
         91,
         "2023-04-01",
         19,
         7794.42,
         "Pending",
         null
        ],
        [
         92,
         "2023-04-02",
         91,
         490.38,
         "Completed",
         null
        ],
        [
         93,
         "2023-04-03",
         86,
         5396.44,
         "Pending",
         null
        ],
        [
         94,
         "2023-04-04",
         44,
         372.22,
         "Cancelled",
         null
        ],
        [
         95,
         "2023-04-05",
         98,
         8451.73,
         "Completed",
         null
        ],
        [
         96,
         "2023-04-06",
         26,
         9377.03,
         "Cancelled",
         null
        ],
        [
         97,
         "2023-04-07",
         88,
         4041.91,
         "Completed",
         null
        ],
        [
         98,
         "2023-04-08",
         2,
         8694.48,
         "Completed",
         null
        ],
        [
         99,
         "2023-04-09",
         82,
         6142.68,
         "Pending",
         null
        ],
        [
         100,
         "2023-04-10",
         1,
         2846.0,
         "Cancelled",
         null
        ],
        [
         101,
         "2023-04-11",
         25,
         4839.74,
         "Completed",
         null
        ],
        [
         102,
         "2023-04-12",
         87,
         347.71,
         "Pending",
         null
        ],
        [
         103,
         "2023-04-13",
         48,
         8376.08,
         "Cancelled",
         null
        ],
        [
         104,
         "2023-04-14",
         30,
         5154.98,
         "Pending",
         null
        ],
        [
         105,
         "2023-04-15",
         45,
         8543.29,
         "Completed",
         null
        ],
        [
         106,
         "2023-04-16",
         39,
         1609.23,
         "Pending",
         null
        ],
        [
         107,
         "2023-04-17",
         38,
         9624.55,
         "Cancelled",
         null
        ],
        [
         108,
         "2023-04-18",
         75,
         8757.71,
         "Cancelled",
         null
        ],
        [
         109,
         "2023-04-19",
         78,
         8279.51,
         "Completed",
         null
        ],
        [
         110,
         "2023-04-20",
         84,
         589.36,
         "Pending",
         null
        ],
        [
         111,
         "2023-04-21",
         81,
         814.61,
         "Cancelled",
         null
        ],
        [
         112,
         "2023-04-22",
         14,
         1167.34,
         "Pending",
         null
        ],
        [
         113,
         "2023-04-23",
         73,
         5315.1,
         "Cancelled",
         null
        ],
        [
         114,
         "2023-04-24",
         89,
         9997.83,
         "Completed",
         null
        ],
        [
         115,
         "2023-04-25",
         98,
         9665.24,
         "Completed",
         null
        ],
        [
         116,
         "2023-04-26",
         71,
         802.71,
         "Completed",
         null
        ],
        [
         117,
         "2023-04-27",
         1,
         2667.95,
         "Completed",
         null
        ],
        [
         118,
         "2023-04-28",
         79,
         4370.2,
         "Completed",
         null
        ],
        [
         119,
         "2023-04-29",
         97,
         3452.39,
         "Cancelled",
         null
        ],
        [
         120,
         "2023-04-30",
         3,
         6781.99,
         "Cancelled",
         null
        ],
        [
         121,
         "2023-05-01",
         85,
         2739.84,
         "Cancelled",
         null
        ],
        [
         122,
         "2023-05-02",
         38,
         7330.83,
         "Completed",
         null
        ],
        [
         123,
         "2023-05-03",
         53,
         4010.28,
         "Cancelled",
         null
        ],
        [
         124,
         "2023-05-04",
         71,
         2217.52,
         "Completed",
         null
        ],
        [
         125,
         "2023-05-05",
         46,
         9750.35,
         "Cancelled",
         null
        ],
        [
         126,
         "2023-05-06",
         55,
         2863.41,
         "Pending",
         null
        ],
        [
         127,
         "2023-05-07",
         88,
         396.2,
         "Pending",
         null
        ],
        [
         128,
         "2023-05-08",
         45,
         8256.23,
         "Completed",
         null
        ],
        [
         129,
         "2023-05-09",
         29,
         4608.84,
         "Pending",
         null
        ],
        [
         130,
         "2023-05-10",
         16,
         2266.32,
         "Cancelled",
         null
        ],
        [
         131,
         "2023-05-11",
         83,
         418.96,
         "Cancelled",
         null
        ],
        [
         132,
         "2023-05-12",
         88,
         5229.34,
         "Pending",
         null
        ],
        [
         133,
         "2023-05-13",
         14,
         2790.79,
         "Cancelled",
         null
        ],
        [
         134,
         "2023-05-14",
         72,
         2463.12,
         "Completed",
         null
        ],
        [
         135,
         "2023-05-15",
         47,
         4798.57,
         "Pending",
         null
        ],
        [
         136,
         "2023-05-16",
         54,
         8702.7,
         "Pending",
         null
        ],
        [
         137,
         "2023-05-17",
         14,
         7993.46,
         "Pending",
         null
        ],
        [
         138,
         "2023-05-18",
         46,
         5113.35,
         "Cancelled",
         null
        ],
        [
         139,
         "2023-05-19",
         57,
         2391.03,
         "Cancelled",
         null
        ],
        [
         140,
         "2023-05-20",
         37,
         9438.63,
         "Pending",
         null
        ],
        [
         141,
         "2023-05-21",
         93,
         3554.76,
         "Pending",
         null
        ],
        [
         142,
         "2023-05-22",
         9,
         1626.29,
         "Cancelled",
         null
        ],
        [
         143,
         "2023-05-23",
         78,
         6322.54,
         "Completed",
         null
        ],
        [
         144,
         "2023-05-24",
         57,
         529.28,
         "Cancelled",
         null
        ],
        [
         145,
         "2023-05-25",
         39,
         5480.52,
         "Pending",
         null
        ],
        [
         146,
         "2023-05-26",
         29,
         905.83,
         "Completed",
         null
        ],
        [
         147,
         "2023-05-27",
         4,
         8638.46,
         "Cancelled",
         null
        ],
        [
         148,
         "2023-05-28",
         93,
         2781.8,
         "Completed",
         null
        ],
        [
         149,
         "2023-05-29",
         99,
         7354.23,
         "Cancelled",
         null
        ],
        [
         150,
         "2023-05-30",
         95,
         9987.73,
         "Cancelled",
         null
        ],
        [
         151,
         "2023-05-31",
         55,
         5636.61,
         "Cancelled",
         null
        ],
        [
         152,
         "2023-06-01",
         18,
         4896.26,
         "Completed",
         null
        ],
        [
         153,
         "2023-06-02",
         55,
         8764.61,
         "Completed",
         null
        ],
        [
         154,
         "2023-06-03",
         93,
         3898.59,
         "Pending",
         null
        ],
        [
         155,
         "2023-06-04",
         72,
         2599.61,
         "Pending",
         null
        ],
        [
         156,
         "2023-06-05",
         64,
         4110.48,
         "Pending",
         null
        ],
        [
         157,
         "2023-06-06",
         95,
         1890.25,
         "Cancelled",
         null
        ],
        [
         158,
         "2023-06-07",
         13,
         7774.73,
         "Cancelled",
         null
        ],
        [
         159,
         "2023-06-08",
         7,
         1461.11,
         "Completed",
         null
        ],
        [
         160,
         "2023-06-09",
         56,
         4320.8,
         "Cancelled",
         null
        ],
        [
         161,
         "2023-06-10",
         68,
         4880.22,
         "Completed",
         null
        ],
        [
         162,
         "2023-06-11",
         29,
         2424.67,
         "Pending",
         null
        ],
        [
         163,
         "2023-06-12",
         88,
         7810.86,
         "Completed",
         null
        ],
        [
         164,
         "2023-06-13",
         8,
         5247.22,
         "Completed",
         null
        ],
        [
         165,
         "2023-06-14",
         51,
         6928.81,
         "Completed",
         null
        ],
        [
         166,
         "2023-06-15",
         50,
         3989.53,
         "Pending",
         null
        ],
        [
         167,
         "2023-06-16",
         41,
         991.57,
         "Cancelled",
         null
        ],
        [
         168,
         "2023-06-17",
         68,
         2355.44,
         "Pending",
         null
        ],
        [
         169,
         "2023-06-18",
         54,
         3895.21,
         "Cancelled",
         null
        ],
        [
         170,
         "2023-06-19",
         30,
         1470.39,
         "Pending",
         null
        ],
        [
         171,
         "2023-06-20",
         30,
         8297.64,
         "Pending",
         null
        ],
        [
         172,
         "2023-06-21",
         40,
         2942.66,
         "Pending",
         null
        ],
        [
         173,
         "2023-06-22",
         21,
         9844.01,
         "Pending",
         null
        ],
        [
         174,
         "2023-06-23",
         85,
         1907.59,
         "Cancelled",
         null
        ],
        [
         175,
         "2023-06-24",
         86,
         9533.22,
         "Pending",
         null
        ],
        [
         176,
         "2023-06-25",
         28,
         1618.64,
         "Completed",
         null
        ],
        [
         177,
         "2023-06-26",
         34,
         3392.49,
         "Cancelled",
         null
        ],
        [
         178,
         "2023-06-27",
         92,
         6590.0,
         "Completed",
         null
        ],
        [
         179,
         "2023-06-28",
         17,
         613.24,
         "Pending",
         null
        ],
        [
         180,
         "2023-06-29",
         3,
         8849.68,
         "Cancelled",
         null
        ],
        [
         181,
         "2023-06-30",
         22,
         6781.74,
         "Cancelled",
         null
        ],
        [
         182,
         "2023-07-01",
         61,
         5562.19,
         "Cancelled",
         null
        ],
        [
         183,
         "2023-07-02",
         53,
         7005.86,
         "Cancelled",
         null
        ],
        [
         184,
         "2023-07-03",
         51,
         1984.94,
         "Cancelled",
         null
        ],
        [
         185,
         "2023-07-04",
         12,
         5638.78,
         "Completed",
         null
        ],
        [
         186,
         "2023-07-05",
         39,
         7196.77,
         "Completed",
         null
        ],
        [
         187,
         "2023-07-06",
         84,
         4466.74,
         "Pending",
         null
        ],
        [
         188,
         "2023-07-07",
         35,
         141.43,
         "Cancelled",
         null
        ],
        [
         189,
         "2023-07-08",
         32,
         8840.35,
         "Pending",
         null
        ],
        [
         190,
         "2023-07-09",
         98,
         163.5,
         "Pending",
         null
        ],
        [
         191,
         "2023-07-10",
         27,
         5203.83,
         "Cancelled",
         null
        ],
        [
         192,
         "2023-07-11",
         27,
         4022.76,
         "Cancelled",
         null
        ],
        [
         193,
         "2023-07-12",
         50,
         8809.87,
         "Cancelled",
         null
        ],
        [
         194,
         "2023-07-13",
         67,
         728.23,
         "Completed",
         null
        ],
        [
         195,
         "2023-07-14",
         88,
         8233.2,
         "Completed",
         null
        ],
        [
         196,
         "2023-07-15",
         57,
         4373.75,
         "Cancelled",
         null
        ],
        [
         197,
         "2023-07-16",
         73,
         860.26,
         "Pending",
         null
        ],
        [
         198,
         "2023-07-17",
         29,
         6733.48,
         "Cancelled",
         null
        ],
        [
         199,
         "2023-07-18",
         61,
         7301.14,
         "Completed",
         null
        ],
        [
         200,
         "2023-07-19",
         56,
         6367.22,
         "Completed",
         null
        ],
        [
         201,
         "2023-07-20",
         7,
         5854.25,
         "Cancelled",
         null
        ],
        [
         202,
         "2023-07-21",
         11,
         4374.62,
         "Cancelled",
         null
        ],
        [
         203,
         "2023-07-22",
         94,
         3465.02,
         "Pending",
         null
        ],
        [
         204,
         "2023-07-23",
         26,
         145.16,
         "Completed",
         null
        ],
        [
         205,
         "2023-07-24",
         45,
         9584.32,
         "Cancelled",
         null
        ],
        [
         206,
         "2023-07-25",
         59,
         1596.43,
         "Pending",
         null
        ],
        [
         207,
         "2023-07-26",
         96,
         6919.2,
         "Pending",
         null
        ],
        [
         208,
         "2023-07-27",
         10,
         5747.14,
         "Cancelled",
         null
        ],
        [
         209,
         "2023-07-28",
         51,
         2215.69,
         "Pending",
         null
        ],
        [
         210,
         "2023-07-29",
         100,
         1475.52,
         "Pending",
         null
        ],
        [
         211,
         "2023-07-30",
         55,
         366.53,
         "Completed",
         null
        ],
        [
         212,
         "2023-07-31",
         41,
         6111.57,
         "Completed",
         null
        ],
        [
         213,
         "2023-08-01",
         10,
         2868.12,
         "Pending",
         null
        ],
        [
         214,
         "2023-08-02",
         53,
         8861.04,
         "Pending",
         null
        ],
        [
         215,
         "2023-08-03",
         98,
         3348.28,
         "Completed",
         null
        ],
        [
         216,
         "2023-08-04",
         67,
         5298.83,
         "Cancelled",
         null
        ],
        [
         217,
         "2023-08-05",
         62,
         6375.5,
         "Cancelled",
         null
        ],
        [
         218,
         "2023-08-06",
         10,
         102.21,
         "Pending",
         null
        ],
        [
         219,
         "2023-08-07",
         61,
         7980.84,
         "Pending",
         null
        ],
        [
         220,
         "2023-08-08",
         85,
         8421.1,
         "Completed",
         null
        ],
        [
         221,
         "2023-08-09",
         72,
         4665.13,
         "Pending",
         null
        ],
        [
         222,
         "2023-08-10",
         86,
         4555.53,
         "Cancelled",
         null
        ],
        [
         223,
         "2023-08-11",
         49,
         3961.23,
         "Completed",
         null
        ],
        [
         224,
         "2023-08-12",
         38,
         4190.78,
         "Pending",
         null
        ],
        [
         225,
         "2023-08-13",
         94,
         6548.94,
         "Completed",
         null
        ],
        [
         226,
         "2023-08-14",
         35,
         985.23,
         "Cancelled",
         null
        ],
        [
         227,
         "2023-08-15",
         82,
         7553.63,
         "Pending",
         null
        ],
        [
         228,
         "2023-08-16",
         59,
         2573.16,
         "Cancelled",
         null
        ],
        [
         229,
         "2023-08-17",
         45,
         2322.38,
         "Cancelled",
         null
        ],
        [
         230,
         "2023-08-18",
         64,
         3482.11,
         "Completed",
         null
        ],
        [
         231,
         "2023-08-19",
         100,
         3276.1,
         "Completed",
         null
        ],
        [
         232,
         "2023-08-20",
         13,
         973.35,
         "Pending",
         null
        ],
        [
         233,
         "2023-08-21",
         93,
         2639.63,
         "Completed",
         null
        ],
        [
         234,
         "2023-08-22",
         62,
         7345.45,
         "Pending",
         null
        ],
        [
         235,
         "2023-08-23",
         2,
         746.79,
         "Completed",
         null
        ],
        [
         236,
         "2023-08-24",
         78,
         7590.05,
         "Completed",
         null
        ],
        [
         237,
         "2023-08-25",
         22,
         5632.19,
         "Cancelled",
         null
        ],
        [
         238,
         "2023-08-26",
         84,
         1212.22,
         "Completed",
         null
        ],
        [
         239,
         "2023-08-27",
         8,
         9440.92,
         "Pending",
         null
        ],
        [
         240,
         "2023-08-28",
         86,
         407.94,
         "Pending",
         null
        ],
        [
         241,
         "2023-08-29",
         64,
         7809.68,
         "Completed",
         null
        ],
        [
         242,
         "2023-08-30",
         68,
         4173.55,
         "Pending",
         null
        ],
        [
         243,
         "2023-08-31",
         76,
         860.62,
         "Completed",
         null
        ],
        [
         244,
         "2023-09-01",
         85,
         9426.5,
         "Completed",
         null
        ],
        [
         245,
         "2023-09-02",
         92,
         2681.44,
         "Pending",
         null
        ],
        [
         246,
         "2023-09-03",
         65,
         6646.05,
         "Cancelled",
         null
        ],
        [
         247,
         "2023-09-04",
         50,
         305.52,
         "Pending",
         null
        ],
        [
         248,
         "2023-09-05",
         23,
         2949.42,
         "Pending",
         null
        ],
        [
         249,
         "2023-09-06",
         88,
         6772.4,
         "Completed",
         null
        ],
        [
         250,
         "2023-09-07",
         87,
         8915.24,
         "Pending",
         null
        ],
        [
         251,
         "2023-09-08",
         81,
         8747.59,
         "Pending",
         null
        ],
        [
         252,
         "2023-09-09",
         74,
         8335.51,
         "Cancelled",
         null
        ],
        [
         253,
         "2023-09-10",
         25,
         4992.45,
         "Completed",
         null
        ],
        [
         null,
         "2023-09-11",
         36,
         3408.13,
         "Completed",
         null
        ],
        [
         255,
         "2023-09-12",
         36,
         4725.72,
         "Pending",
         null
        ],
        [
         256,
         "2023-09-13",
         49,
         8979.25,
         "Cancelled",
         null
        ],
        [
         257,
         "2023-09-14",
         11,
         1542.78,
         "Completed",
         null
        ],
        [
         258,
         "2023-09-15",
         31,
         3938.06,
         "Completed",
         null
        ],
        [
         null,
         "2023-09-16",
         62,
         7761.83,
         "Pending",
         null
        ],
        [
         260,
         "2023-09-17",
         52,
         6160.65,
         "Completed",
         null
        ],
        [
         261,
         "2023-09-18",
         48,
         4336.27,
         "Completed",
         null
        ],
        [
         262,
         "2023-09-19",
         88,
         8457.71,
         "Cancelled",
         null
        ],
        [
         263,
         "2023-09-20",
         null,
         7769.61,
         "Pending",
         null
        ],
        [
         264,
         "2023-09-21",
         null,
         3706.45,
         "Completed",
         null
        ],
        [
         265,
         "2023-09-22",
         11,
         981.06,
         "Pending",
         null
        ],
        [
         266,
         "2023-09-23",
         57,
         8767.37,
         "Completed",
         null
        ],
        [
         267,
         "2023-09-24",
         99,
         2046.34,
         "Cancelled",
         null
        ],
        [
         268,
         "2023-09-25",
         53,
         8853.45,
         "Pending",
         null
        ],
        [
         269,
         "2023-09-26",
         8,
         4532.76,
         "Pending",
         null
        ],
        [
         270,
         "2023-09-27",
         2,
         735.62,
         "Cancelled",
         null
        ],
        [
         271,
         "2023-09-28",
         3,
         4433.27,
         "Cancelled",
         null
        ],
        [
         272,
         "2023-09-29",
         88,
         8899.67,
         "Pending",
         null
        ],
        [
         273,
         "2023-09-30",
         21,
         2588.31,
         "Pending",
         null
        ],
        [
         274,
         "2023-10-01",
         51,
         5074.29,
         "Completed",
         null
        ],
        [
         275,
         "2023-10-02",
         59,
         3847.9,
         "Completed",
         null
        ],
        [
         276,
         "2023-10-03",
         68,
         106.65,
         "Pending",
         null
        ],
        [
         277,
         "2023-10-04",
         64,
         8948.71,
         "Pending",
         null
        ],
        [
         278,
         "2023-10-05",
         12,
         1422.81,
         "Completed",
         null
        ],
        [
         279,
         "2023-10-06",
         77,
         9484.51,
         "Cancelled",
         null
        ],
        [
         280,
         "2023-10-07",
         76,
         859.18,
         "Pending",
         null
        ],
        [
         281,
         "2023-10-08",
         36,
         3607.75,
         "Cancelled",
         null
        ],
        [
         282,
         "2023-10-09",
         12,
         1542.32,
         "Completed",
         null
        ],
        [
         283,
         "2023-10-10",
         44,
         3668.21,
         "Pending",
         null
        ],
        [
         284,
         "2023-10-11",
         84,
         611.5,
         "Pending",
         null
        ],
        [
         285,
         "2023-10-12",
         19,
         9613.53,
         "Pending",
         null
        ],
        [
         286,
         "2023-10-13",
         55,
         189.54,
         "Cancelled",
         null
        ],
        [
         287,
         "2023-10-14",
         20,
         6694.23,
         "Cancelled",
         null
        ],
        [
         288,
         "2023-10-15",
         48,
         3181.99,
         "Completed",
         null
        ],
        [
         289,
         "2023-10-16",
         78,
         5418.52,
         "Pending",
         null
        ],
        [
         290,
         "2023-10-17",
         72,
         6342.58,
         "Cancelled",
         null
        ],
        [
         291,
         "2023-10-18",
         26,
         4781.49,
         "Pending",
         null
        ],
        [
         292,
         "2023-10-19",
         64,
         1197.98,
         "Cancelled",
         null
        ],
        [
         293,
         "2023-10-20",
         76,
         8370.43,
         "Pending",
         null
        ],
        [
         294,
         "2023-10-21",
         30,
         1624.83,
         "Completed",
         null
        ],
        [
         295,
         "2023-10-22",
         17,
         9379.34,
         "Cancelled",
         null
        ],
        [
         296,
         "2023-10-23",
         37,
         3171.56,
         "Completed",
         null
        ],
        [
         297,
         "2023-10-24",
         9,
         7368.66,
         "Pending",
         null
        ],
        [
         298,
         "2023-10-25",
         28,
         547.74,
         "Cancelled",
         null
        ],
        [
         299,
         "2023-10-26",
         54,
         7306.86,
         "Cancelled",
         null
        ],
        [
         300,
         "2023-10-27",
         46,
         8839.71,
         "Cancelled",
         null
        ],
        [
         301,
         "2023-10-28",
         10,
         1500.35,
         "Cancelled",
         null
        ],
        [
         302,
         "2023-10-29",
         51,
         4607.64,
         "Cancelled",
         null
        ],
        [
         303,
         "2023-10-30",
         82,
         7441.11,
         "Cancelled",
         null
        ],
        [
         304,
         "2023-10-31",
         36,
         4844.82,
         "Completed",
         null
        ],
        [
         305,
         "2023-11-01",
         69,
         8829.54,
         "Cancelled",
         null
        ],
        [
         306,
         "2023-11-02",
         1,
         1651.09,
         "Cancelled",
         null
        ],
        [
         307,
         "2023-11-03",
         54,
         7947.19,
         "Cancelled",
         null
        ],
        [
         308,
         "2023-11-04",
         63,
         4896.79,
         "Cancelled",
         null
        ],
        [
         309,
         "2023-11-05",
         62,
         1206.32,
         "Pending",
         null
        ],
        [
         310,
         "2023-11-06",
         4,
         9625.86,
         "Completed",
         null
        ],
        [
         311,
         "2023-11-07",
         99,
         3633.85,
         "Cancelled",
         null
        ],
        [
         312,
         "2023-11-08",
         71,
         8005.26,
         "Cancelled",
         null
        ],
        [
         313,
         "2023-11-09",
         5,
         2382.19,
         "Cancelled",
         null
        ],
        [
         314,
         "2023-11-10",
         55,
         955.12,
         "Pending",
         null
        ],
        [
         315,
         "2023-11-11",
         39,
         5718.0,
         "Cancelled",
         null
        ],
        [
         316,
         "2023-11-12",
         62,
         8202.48,
         "Completed",
         null
        ],
        [
         317,
         "2023-11-13",
         77,
         8709.58,
         "Cancelled",
         null
        ],
        [
         318,
         "2023-11-14",
         83,
         6002.34,
         "Pending",
         null
        ],
        [
         319,
         "2023-11-15",
         87,
         1238.55,
         "Pending",
         null
        ],
        [
         320,
         "2023-11-16",
         91,
         523.1,
         "Completed",
         null
        ],
        [
         321,
         "2023-11-17",
         27,
         149.48,
         "Completed",
         null
        ],
        [
         322,
         "2023-11-18",
         85,
         5947.98,
         "Pending",
         null
        ],
        [
         323,
         "2023-11-19",
         14,
         3394.59,
         "Completed",
         null
        ],
        [
         324,
         "2023-11-20",
         88,
         6677.66,
         "Completed",
         null
        ],
        [
         325,
         "2023-11-21",
         35,
         1713.93,
         "Completed",
         null
        ],
        [
         326,
         "2023-11-22",
         99,
         5431.45,
         "Cancelled",
         null
        ],
        [
         327,
         "2023-11-23",
         71,
         5939.58,
         "Cancelled",
         null
        ],
        [
         328,
         "2023-11-24",
         9,
         2405.49,
         "Cancelled",
         null
        ],
        [
         329,
         "2023-11-25",
         80,
         6747.1,
         "Cancelled",
         null
        ],
        [
         330,
         "2023-11-26",
         89,
         2515.18,
         "Cancelled",
         null
        ],
        [
         331,
         "2023-11-27",
         15,
         6552.9,
         "Cancelled",
         null
        ],
        [
         332,
         "2023-11-28",
         53,
         5411.05,
         "Pending",
         null
        ],
        [
         333,
         "2023-11-29",
         14,
         1291.25,
         "Completed",
         null
        ],
        [
         334,
         "2023-11-30",
         56,
         8361.95,
         "Pending",
         null
        ],
        [
         335,
         "2023-12-01",
         49,
         1069.87,
         "Cancelled",
         null
        ],
        [
         336,
         "2023-12-02",
         84,
         7118.68,
         "Pending",
         null
        ],
        [
         337,
         "2023-12-03",
         29,
         820.83,
         "Pending",
         null
        ],
        [
         338,
         "2023-12-04",
         88,
         2231.64,
         "Cancelled",
         null
        ],
        [
         339,
         "2023-12-05",
         72,
         9595.93,
         "Completed",
         null
        ],
        [
         340,
         "2023-12-06",
         9,
         6876.39,
         "Completed",
         null
        ],
        [
         341,
         "2023-12-07",
         35,
         7620.5,
         "Completed",
         null
        ],
        [
         342,
         "2023-12-08",
         93,
         8852.92,
         "Completed",
         null
        ],
        [
         343,
         "2023-12-09",
         79,
         8556.6,
         "Cancelled",
         null
        ],
        [
         344,
         "2023-12-10",
         49,
         6600.95,
         "Completed",
         null
        ],
        [
         345,
         "2023-12-11",
         47,
         7054.36,
         "Completed",
         null
        ],
        [
         346,
         "2023-12-12",
         38,
         5893.22,
         "Pending",
         null
        ],
        [
         347,
         "2023-12-13",
         35,
         6230.25,
         "Completed",
         null
        ],
        [
         348,
         "2023-12-14",
         23,
         2936.11,
         "Completed",
         null
        ],
        [
         349,
         "2023-12-15",
         64,
         9845.98,
         "Pending",
         null
        ],
        [
         350,
         "2023-12-16",
         27,
         6350.47,
         "Cancelled",
         null
        ],
        [
         351,
         "2023-12-17",
         24,
         7588.14,
         "Pending",
         null
        ],
        [
         352,
         "2023-12-18",
         61,
         925.75,
         "Cancelled",
         null
        ],
        [
         353,
         "2023-12-19",
         76,
         453.97,
         "Cancelled",
         null
        ],
        [
         354,
         "2023-12-20",
         21,
         7618.76,
         "Pending",
         null
        ],
        [
         355,
         "2023-12-21",
         74,
         1362.24,
         "Completed",
         null
        ],
        [
         356,
         "2023-12-22",
         91,
         6086.69,
         "Cancelled",
         null
        ],
        [
         357,
         "2023-12-23",
         23,
         4452.01,
         "Completed",
         null
        ],
        [
         358,
         "2023-12-24",
         33,
         2956.64,
         "Completed",
         null
        ],
        [
         359,
         "2023-12-25",
         17,
         4198.81,
         "Cancelled",
         null
        ],
        [
         360,
         "2023-12-26",
         53,
         1978.9,
         "Cancelled",
         null
        ],
        [
         361,
         "2023-12-27",
         97,
         4259.37,
         "Completed",
         null
        ],
        [
         362,
         "2023-12-28",
         66,
         3337.11,
         "Cancelled",
         null
        ],
        [
         363,
         "2023-12-29",
         14,
         989.4,
         "Completed",
         null
        ],
        [
         364,
         "2023-12-30",
         14,
         9757.83,
         "Cancelled",
         null
        ],
        [
         365,
         "2023-12-31",
         97,
         2746.88,
         "Completed",
         null
        ],
        [
         366,
         "2024-01-01",
         7,
         8810.01,
         "Completed",
         null
        ],
        [
         367,
         "2024-01-02",
         50,
         5683.54,
         "Cancelled",
         null
        ],
        [
         368,
         "2024-01-03",
         43,
         2266.4,
         "Completed",
         null
        ],
        [
         369,
         "2024-01-04",
         26,
         3196.48,
         "Pending",
         null
        ],
        [
         370,
         "2024-01-05",
         55,
         932.07,
         "Pending",
         null
        ],
        [
         371,
         "2024-01-06",
         23,
         643.05,
         "Cancelled",
         null
        ],
        [
         372,
         "2024-01-07",
         70,
         2524.62,
         "Cancelled",
         null
        ],
        [
         373,
         "2024-01-08",
         11,
         9836.35,
         "Pending",
         null
        ],
        [
         374,
         "2024-01-09",
         47,
         876.44,
         "Pending",
         null
        ],
        [
         375,
         "2024-01-10",
         50,
         7703.68,
         "Pending",
         null
        ],
        [
         376,
         "2024-01-11",
         86,
         3647.76,
         "Cancelled",
         null
        ],
        [
         377,
         "2024-01-12",
         3,
         9341.38,
         "Completed",
         null
        ],
        [
         378,
         "2024-01-13",
         99,
         8292.86,
         "Pending",
         null
        ],
        [
         379,
         "2024-01-14",
         27,
         2277.02,
         "Completed",
         null
        ],
        [
         380,
         "2024-01-15",
         89,
         1632.03,
         "Completed",
         null
        ],
        [
         381,
         "2024-01-16",
         84,
         7487.52,
         "Pending",
         null
        ],
        [
         382,
         "2024-01-17",
         62,
         9504.14,
         "Pending",
         null
        ],
        [
         383,
         "2024-01-18",
         52,
         9930.93,
         "Cancelled",
         null
        ],
        [
         384,
         "2024-01-19",
         65,
         930.2,
         "Completed",
         null
        ],
        [
         385,
         "2024-01-20",
         36,
         3714.81,
         "Cancelled",
         null
        ],
        [
         386,
         "2024-01-21",
         57,
         6649.47,
         "Cancelled",
         null
        ],
        [
         387,
         "2024-01-22",
         51,
         1702.81,
         "Pending",
         null
        ],
        [
         388,
         "2024-01-23",
         66,
         8056.37,
         "Cancelled",
         null
        ],
        [
         389,
         "2024-01-24",
         85,
         5585.84,
         "Cancelled",
         null
        ],
        [
         390,
         "2024-01-25",
         32,
         9599.01,
         "Cancelled",
         null
        ],
        [
         391,
         "2024-01-26",
         41,
         5646.3,
         "Cancelled",
         null
        ],
        [
         392,
         "2024-01-27",
         87,
         3155.57,
         "Completed",
         null
        ],
        [
         393,
         "2024-01-28",
         1,
         3430.48,
         "Cancelled",
         null
        ],
        [
         394,
         "2024-01-29",
         51,
         4985.48,
         "Pending",
         null
        ],
        [
         395,
         "2024-01-30",
         100,
         8393.26,
         "Completed",
         null
        ],
        [
         396,
         "2024-01-31",
         19,
         4744.2,
         "Pending",
         null
        ],
        [
         397,
         "2024-02-01",
         48,
         5379.8,
         "Pending",
         null
        ],
        [
         398,
         "2024-02-02",
         1,
         2334.32,
         "Cancelled",
         null
        ],
        [
         399,
         "2024-02-03",
         62,
         2079.83,
         "Pending",
         null
        ],
        [
         400,
         "2024-02-04",
         25,
         4084.99,
         "Pending",
         null
        ],
        [
         400,
         "2024-02-04",
         25,
         4084.99,
         "Complete",
         null
        ],
        [
         401,
         "2024-02-05",
         69,
         6883.87,
         "Pending",
         null
        ],
        [
         402,
         "2024-02-06",
         5,
         1444.43,
         "Completed",
         null
        ],
        [
         403,
         "2024-02-07",
         58,
         9773.76,
         "Cancelled",
         null
        ],
        [
         404,
         "2024-02-08",
         81,
         2145.33,
         "Completed",
         null
        ],
        [
         405,
         "2024-02-09",
         67,
         3083.4,
         "Cancelled",
         null
        ],
        [
         406,
         "2024-02-10",
         28,
         5626.81,
         "Cancelled",
         null
        ],
        [
         407,
         "2024-02-11",
         52,
         6520.05,
         "Cancelled",
         null
        ],
        [
         408,
         "2024-02-12",
         64,
         2035.89,
         "Cancelled",
         null
        ],
        [
         409,
         "2024-02-13",
         41,
         979.4,
         "Pending",
         null
        ],
        [
         410,
         "2024-02-14",
         93,
         -5.11,
         "Completed",
         null
        ],
        [
         411,
         "2024-02-15",
         43,
         0.0,
         "Cancelled",
         null
        ],
        [
         412,
         "2024-02-16",
         78,
         1403.77,
         "Completed",
         null
        ],
        [
         413,
         "2024-02-17",
         55,
         2005.12,
         "Pending",
         null
        ],
        [
         414,
         "2024-02-18",
         25,
         9283.96,
         "Cancelled",
         null
        ],
        [
         415,
         "2024-02-19",
         89,
         9014.15,
         "Cancelled",
         null
        ],
        [
         416,
         "2024-02-20",
         64,
         4504.41,
         "Cancelled",
         null
        ],
        [
         417,
         "2024-02-21",
         96,
         6705.38,
         "Completed",
         null
        ],
        [
         418,
         "2024-02-22",
         55,
         2932.71,
         "Pending",
         null
        ],
        [
         419,
         "2024-02-23",
         88,
         8450.03,
         "Pending",
         null
        ],
        [
         420,
         "2024-02-24",
         100,
         1778.02,
         "Cancelled",
         null
        ],
        [
         421,
         "2024-02-25",
         96,
         2586.55,
         "Cancelled",
         null
        ],
        [
         422,
         "2024-02-26",
         5,
         3135.65,
         "Pending",
         null
        ],
        [
         423,
         "2024-02-27",
         86,
         1205.8,
         "Cancelled",
         null
        ],
        [
         424,
         "2024-02-28",
         36,
         6569.35,
         "Completed",
         null
        ],
        [
         425,
         "2024-02-29",
         11,
         9119.92,
         "Pending",
         null
        ],
        [
         426,
         "2024-03-01",
         72,
         9238.17,
         "Cancelled",
         null
        ],
        [
         427,
         "2024-03-02",
         2,
         9220.4,
         "Completed",
         null
        ],
        [
         428,
         "2024-03-03",
         21,
         9916.12,
         "Cancelled",
         null
        ],
        [
         429,
         "2024-03-04",
         37,
         4209.65,
         "Cancelled",
         null
        ],
        [
         430,
         "2024-03-05",
         54,
         3004.98,
         "Completed",
         null
        ],
        [
         431,
         "2024-03-06",
         88,
         8315.62,
         "Completed",
         null
        ],
        [
         432,
         "2024-03-07",
         73,
         6141.21,
         "Completed",
         null
        ],
        [
         433,
         "2024-03-08",
         14,
         7325.57,
         "Completed",
         null
        ],
        [
         434,
         "2024-03-09",
         32,
         6887.17,
         "Completed",
         null
        ],
        [
         435,
         "2024-03-10",
         16,
         7999.33,
         "Pending",
         null
        ],
        [
         436,
         "2024-03-11",
         31,
         6454.06,
         "Pending",
         null
        ],
        [
         437,
         "2024-03-12",
         67,
         9553.88,
         "Pending",
         null
        ],
        [
         438,
         "2024-03-13",
         23,
         1123.65,
         "Pending",
         null
        ],
        [
         439,
         "2024-03-14",
         1,
         8325.08,
         "Cancelled",
         null
        ],
        [
         440,
         "2024-03-15",
         99,
         1497.8,
         "Completed",
         null
        ],
        [
         441,
         "2024-03-16",
         36,
         687.53,
         "Pending",
         null
        ],
        [
         442,
         "2024-03-17",
         56,
         3631.44,
         "Pending",
         null
        ],
        [
         443,
         "2024-03-18",
         37,
         3637.22,
         "Completed",
         null
        ],
        [
         444,
         "2024-03-19",
         87,
         398.26,
         "Cancelled",
         null
        ],
        [
         445,
         "2024-03-20",
         39,
         7337.07,
         "Pending",
         null
        ],
        [
         446,
         "2024-03-21",
         95,
         2005.7,
         "Completed",
         null
        ],
        [
         447,
         "2024-03-22",
         42,
         7180.24,
         "Completed",
         null
        ],
        [
         448,
         "2024-03-23",
         38,
         8217.32,
         "Completed",
         null
        ],
        [
         449,
         "2024-03-24",
         92,
         5403.22,
         "Pending",
         null
        ],
        [
         450,
         "2024-03-25",
         81,
         7347.59,
         "Pending",
         null
        ],
        [
         451,
         "2024-03-26",
         52,
         1296.82,
         "Pending",
         null
        ],
        [
         452,
         "2024-03-27",
         96,
         2929.63,
         "Cancelled",
         null
        ],
        [
         453,
         "2024-03-28",
         50,
         2384.11,
         "Completed",
         null
        ],
        [
         454,
         "2024-03-29",
         76,
         4122.13,
         "Pending",
         null
        ],
        [
         455,
         "2024-03-30",
         86,
         6858.12,
         "Cancelled",
         null
        ],
        [
         456,
         "2024-03-31",
         77,
         996.3,
         "Completed",
         null
        ],
        [
         457,
         "2024-04-01",
         56,
         8412.99,
         "Cancelled",
         null
        ],
        [
         458,
         "2024-04-02",
         15,
         9940.63,
         "Completed",
         null
        ],
        [
         459,
         "2024-04-03",
         1,
         5006.56,
         "Pending",
         null
        ],
        [
         460,
         "2024-04-04",
         81,
         9946.22,
         "Cancelled",
         null
        ],
        [
         461,
         "2024-04-05",
         63,
         1833.39,
         "Completed",
         null
        ],
        [
         462,
         "2024-04-06",
         23,
         8668.52,
         "Pending",
         null
        ],
        [
         463,
         "2024-04-07",
         5,
         8047.99,
         "Pending",
         null
        ],
        [
         464,
         "2024-04-08",
         1,
         1902.38,
         "Pending",
         null
        ],
        [
         465,
         "2024-04-09",
         2,
         3501.68,
         "Completed",
         null
        ],
        [
         466,
         "2024-04-10",
         30,
         5155.0,
         "Pending",
         null
        ],
        [
         467,
         "2024-04-11",
         77,
         8330.98,
         "Cancelled",
         null
        ],
        [
         468,
         "2024-04-12",
         23,
         9123.38,
         "Completed",
         null
        ],
        [
         469,
         "2024-04-13",
         95,
         6689.83,
         "Cancelled",
         null
        ],
        [
         470,
         "2024-04-14",
         25,
         2475.64,
         "Completed",
         null
        ],
        [
         471,
         "2024-04-15",
         31,
         3336.6,
         "Cancelled",
         null
        ],
        [
         472,
         "2024-04-16",
         67,
         4415.14,
         "Completed",
         null
        ],
        [
         473,
         "2024-04-17",
         76,
         8366.88,
         "Completed",
         null
        ],
        [
         474,
         "2024-04-18",
         41,
         5823.44,
         "Completed",
         null
        ],
        [
         475,
         "2024-04-19",
         94,
         7526.3,
         "Pending",
         null
        ],
        [
         476,
         "2024-04-20",
         54,
         8957.2,
         "Completed",
         null
        ],
        [
         477,
         "2024-04-21",
         6,
         2448.91,
         "Cancelled",
         null
        ],
        [
         478,
         "2024-04-22",
         38,
         6120.25,
         "Cancelled",
         null
        ],
        [
         479,
         "2024-04-23",
         100,
         6636.22,
         "Completed",
         null
        ],
        [
         480,
         "2024-04-24",
         2,
         1003.3,
         "Completed",
         null
        ],
        [
         481,
         "2024-04-25",
         93,
         5178.77,
         "Completed",
         null
        ],
        [
         482,
         "2024-04-26",
         44,
         573.54,
         "Completed",
         null
        ],
        [
         483,
         "2024-04-27",
         59,
         7121.1,
         "Pending",
         null
        ],
        [
         484,
         "2024-04-28",
         15,
         3380.34,
         "Pending",
         null
        ],
        [
         485,
         "2024-04-29",
         53,
         9104.57,
         "Pending",
         null
        ],
        [
         486,
         "2024-04-30",
         88,
         8344.23,
         "Cancelled",
         null
        ],
        [
         487,
         "2024-05-01",
         8,
         9551.56,
         "Pending",
         null
        ],
        [
         488,
         "2024-05-02",
         81,
         8053.09,
         "Completed",
         null
        ],
        [
         489,
         "2024-05-03",
         84,
         7571.3,
         "Completed",
         null
        ],
        [
         490,
         "2024-05-04",
         45,
         278.95,
         "Pending",
         null
        ],
        [
         491,
         "2024-05-05",
         87,
         7694.24,
         "Completed",
         null
        ],
        [
         492,
         "2024-05-06",
         36,
         3982.31,
         "Completed",
         null
        ],
        [
         493,
         "2024-05-07",
         46,
         3225.22,
         "Pending",
         null
        ],
        [
         494,
         "2024-05-08",
         77,
         2277.34,
         "Completed",
         null
        ],
        [
         495,
         "2024-05-09",
         56,
         4013.87,
         "Cancelled",
         null
        ],
        [
         496,
         "2024-05-10",
         79,
         783.51,
         "Cancelled",
         null
        ],
        [
         497,
         "2024-05-11",
         76,
         8688.72,
         "Cancelled",
         null
        ],
        [
         498,
         "2024-05-12",
         47,
         6947.74,
         "Pending",
         null
        ],
        [
         499,
         "2024-05-13",
         60,
         9974.14,
         "Pending",
         null
        ],
        [
         500,
         "2024-05-14",
         3,
         5684.62,
         "Pending",
         null
        ]
       ],
       "datasetInfos": [],
       "dbfsResultPath": null,
       "isJsonSchema": true,
       "metadata": {
        "dataframeName": "_sqldf",
        "executionCount": 29
       },
       "overflow": false,
       "plotOptions": {
        "customPlotOptions": {},
        "displayType": "table",
        "pivotAggregation": null,
        "pivotColumns": null,
        "xColumns": null,
        "yColumns": null
       },
       "removedWidgets": [],
       "schema": [
        {
         "metadata": "{}",
         "name": "OrderID",
         "type": "\"integer\""
        },
        {
         "metadata": "{\"__detected_date_formats\":\"yyyy-M-d\"}",
         "name": "OrderDate",
         "type": "\"date\""
        },
        {
         "metadata": "{}",
         "name": "CustomerID",
         "type": "\"integer\""
        },
        {
         "metadata": "{}",
         "name": "TotalAmount",
         "type": "\"double\""
        },
        {
         "metadata": "{}",
         "name": "Status",
         "type": "\"string\""
        },
        {
         "metadata": "{}",
         "name": "_rescued_data",
         "type": "\"string\""
        }
       ],
       "type": "table"
      }
     },
     "output_type": "display_data"
    }
   ],
   "source": [
    "%sql\n",
    "select * from ordersdelta"
   ]
  },
  {
   "cell_type": "code",
   "execution_count": 0,
   "metadata": {
    "application/vnd.databricks.v1+cell": {
     "cellMetadata": {},
     "inputWidgets": {},
     "nuid": "6402f877-e3e8-4ed5-8356-1e58395aefcc",
     "showTitle": false,
     "tableResultSettingsMap": {},
     "title": ""
    }
   },
   "outputs": [],
   "source": [
    "orders_schema = StructType([\n",
    "    StructField(\"oder_id\",IntegerType()),\n",
    "    StructField(\"orderDate\",TimestampType()),\n",
    "    StructField(\"Customer_id\",Integertype()),\n",
    "    StructField(\"orderStatus\",Stringtype())\n",
    "])"
   ]
  },
  {
   "cell_type": "code",
   "execution_count": 0,
   "metadata": {
    "application/vnd.databricks.v1+cell": {
     "cellMetadata": {},
     "inputWidgets": {},
     "nuid": "cda07be9-3b76-4e0a-a105-558ff94a09ab",
     "showTitle": false,
     "tableResultSettingsMap": {},
     "title": ""
    }
   },
   "outputs": [],
   "source": [
    "orders_df.display(000)"
   ]
  },
  {
   "cell_type": "code",
   "execution_count": 0,
   "metadata": {
    "application/vnd.databricks.v1+cell": {
     "cellMetadata": {},
     "inputWidgets": {},
     "nuid": "62fa954f-d356-46e2-9f08-d709e2a97777",
     "showTitle": false,
     "tableResultSettingsMap": {},
     "title": ""
    }
   },
   "outputs": [],
   "source": []
  },
  {
   "cell_type": "code",
   "execution_count": 0,
   "metadata": {
    "application/vnd.databricks.v1+cell": {
     "cellMetadata": {
      "byteLimit": 2048000,
      "rowLimit": 10000
     },
     "inputWidgets": {},
     "nuid": "2a4a6a74-7918-4a80-908a-8cc6e8635fc9",
     "showTitle": false,
     "tableResultSettingsMap": {},
     "title": ""
    }
   },
   "outputs": [
    {
     "output_type": "display_data",
     "data": {
      "text/plain": [
       "\u001B[0;31m---------------------------------------------------------------------------\u001B[0m\n",
       "\u001B[0;31mNameError\u001B[0m                                 Traceback (most recent call last)\n",
       "File \u001B[0;32m<command-2888020156938058>, line 1\u001B[0m\n",
       "\u001B[0;32m----> 1\u001B[0m oders_df \u001B[38;5;241m=\u001B[39m \u001B[43mSpark\u001B[49m\u001B[38;5;241m.\u001B[39mreadStream \\\n",
       "\u001B[1;32m      2\u001B[0m     \u001B[38;5;241m.\u001B[39mformat(\u001B[38;5;124m\"\u001B[39m\u001B[38;5;124mcloudfiles\u001B[39m\u001B[38;5;124m\"\u001B[39m) \\\n",
       "\u001B[1;32m      3\u001B[0m         \u001B[38;5;241m.\u001B[39moption(\u001B[38;5;124m\"\u001B[39m\u001B[38;5;124mcloudFiles.format\u001B[39m\u001B[38;5;124m\"\u001B[39m,\u001B[38;5;124m\"\u001B[39m\u001B[38;5;124mcsv\u001B[39m\u001B[38;5;124m\"\u001B[39m) \\\n",
       "\u001B[1;32m      4\u001B[0m             \u001B[38;5;241m.\u001B[39moption(\u001B[38;5;124m\"\u001B[39m\u001B[38;5;124mcloudFiles.inferSchema\u001B[39m\u001B[38;5;124m\"\u001B[39m,\u001B[38;5;124m\"\u001B[39m\u001B[38;5;124mtrue\u001B[39m\u001B[38;5;124m\"\u001B[39m) \\\n",
       "\u001B[1;32m      5\u001B[0m                 \u001B[38;5;241m.\u001B[39moption(\u001B[38;5;124m\"\u001B[39m\u001B[38;5;124mcloudFiles.infercolumnTypes\u001B[39m\u001B[38;5;124m\"\u001B[39m,\u001B[38;5;124m\"\u001B[39m\u001B[38;5;124mtrue\u001B[39m\u001B[38;5;124m\"\u001B[39m) \\\n",
       "\u001B[1;32m      6\u001B[0m                     \u001B[38;5;241m.\u001B[39moption(\u001B[38;5;124m\"\u001B[39m\u001B[38;5;124mcloudfiles.SchemaLocation\u001B[39m\u001B[38;5;124m\"\u001B[39m,checkpoint_path) \\\n",
       "\u001B[1;32m      7\u001B[0m                         \u001B[38;5;241m.\u001B[39moption(\u001B[38;5;124m\"\u001B[39m\u001B[38;5;124mheader\u001B[39m\u001B[38;5;124m\"\u001B[39m,\u001B[38;5;124m\"\u001B[39m\u001B[38;5;124mtrue\u001B[39m\u001B[38;5;124m\"\u001B[39m) \\\n",
       "\u001B[1;32m      8\u001B[0m                             \u001B[38;5;241m.\u001B[39mload(orders_data)\n",
       "\n",
       "\u001B[0;31mNameError\u001B[0m: name 'Spark' is not defined"
      ]
     },
     "metadata": {
      "application/vnd.databricks.v1+output": {
       "addedWidgets": {},
       "arguments": {},
       "datasetInfos": [],
       "jupyterProps": {
        "ename": "NameError",
        "evalue": "name 'Spark' is not defined"
       },
       "metadata": {
        "errorSummary": "<span class='ansi-red-fg'>NameError</span>: name 'Spark' is not defined"
       },
       "removedWidgets": [],
       "sqlProps": null,
       "stackFrames": [
        "\u001B[0;31m---------------------------------------------------------------------------\u001B[0m",
        "\u001B[0;31mNameError\u001B[0m                                 Traceback (most recent call last)",
        "File \u001B[0;32m<command-2888020156938058>, line 1\u001B[0m\n\u001B[0;32m----> 1\u001B[0m oders_df \u001B[38;5;241m=\u001B[39m \u001B[43mSpark\u001B[49m\u001B[38;5;241m.\u001B[39mreadStream \\\n\u001B[1;32m      2\u001B[0m     \u001B[38;5;241m.\u001B[39mformat(\u001B[38;5;124m\"\u001B[39m\u001B[38;5;124mcloudfiles\u001B[39m\u001B[38;5;124m\"\u001B[39m) \\\n\u001B[1;32m      3\u001B[0m         \u001B[38;5;241m.\u001B[39moption(\u001B[38;5;124m\"\u001B[39m\u001B[38;5;124mcloudFiles.format\u001B[39m\u001B[38;5;124m\"\u001B[39m,\u001B[38;5;124m\"\u001B[39m\u001B[38;5;124mcsv\u001B[39m\u001B[38;5;124m\"\u001B[39m) \\\n\u001B[1;32m      4\u001B[0m             \u001B[38;5;241m.\u001B[39moption(\u001B[38;5;124m\"\u001B[39m\u001B[38;5;124mcloudFiles.inferSchema\u001B[39m\u001B[38;5;124m\"\u001B[39m,\u001B[38;5;124m\"\u001B[39m\u001B[38;5;124mtrue\u001B[39m\u001B[38;5;124m\"\u001B[39m) \\\n\u001B[1;32m      5\u001B[0m                 \u001B[38;5;241m.\u001B[39moption(\u001B[38;5;124m\"\u001B[39m\u001B[38;5;124mcloudFiles.infercolumnTypes\u001B[39m\u001B[38;5;124m\"\u001B[39m,\u001B[38;5;124m\"\u001B[39m\u001B[38;5;124mtrue\u001B[39m\u001B[38;5;124m\"\u001B[39m) \\\n\u001B[1;32m      6\u001B[0m                     \u001B[38;5;241m.\u001B[39moption(\u001B[38;5;124m\"\u001B[39m\u001B[38;5;124mcloudfiles.SchemaLocation\u001B[39m\u001B[38;5;124m\"\u001B[39m,checkpoint_path) \\\n\u001B[1;32m      7\u001B[0m                         \u001B[38;5;241m.\u001B[39moption(\u001B[38;5;124m\"\u001B[39m\u001B[38;5;124mheader\u001B[39m\u001B[38;5;124m\"\u001B[39m,\u001B[38;5;124m\"\u001B[39m\u001B[38;5;124mtrue\u001B[39m\u001B[38;5;124m\"\u001B[39m) \\\n\u001B[1;32m      8\u001B[0m                             \u001B[38;5;241m.\u001B[39mload(orders_data)\n",
        "\u001B[0;31mNameError\u001B[0m: name 'Spark' is not defined"
       ],
       "type": "baseError"
      }
     },
     "output_type": "display_data"
    }
   ],
   "source": [
    "oders_df = Spark.readStream \\\n",
    "    .format(\"cloudfiles\") \\\n",
    "        .option(\"cloudFiles.format\",\"csv\") \\\n",
    "            .option(\"cloudFiles.inferSchema\",\"true\") \\\n",
    "                .option(\"cloudFiles.infercolumnTypes\",\"true\") \\\n",
    "                    .option(\"cloudfiles.SchemaLocation\",checkpoint_path) \\\n",
    "                        .option(\"header\",\"true\") \\\n",
    "                            .load(orders_data)\n",
    "\n"
   ]
  },
  {
   "cell_type": "markdown",
   "metadata": {
    "application/vnd.databricks.v1+cell": {
     "cellMetadata": {},
     "inputWidgets": {},
     "nuid": "02642812-7ae3-4638-808e-85f1a212bc11",
     "showTitle": false,
     "tableResultSettingsMap": {},
     "title": ""
    }
   },
   "source": [
    "### OR\n",
    "\n",
    "you can also use the below way to provide the schema hints for  certain coulmns alone if you want"
   ]
  },
  {
   "cell_type": "code",
   "execution_count": 0,
   "metadata": {
    "application/vnd.databricks.v1+cell": {
     "cellMetadata": {},
     "inputWidgets": {},
     "nuid": "104c9c15-fbe9-4f2c-ba6c-619eefe75654",
     "showTitle": false,
     "tableResultSettingsMap": {},
     "title": ""
    }
   },
   "outputs": [],
   "source": [
    "oders_df = Spark.readStream \\\n",
    "    .format(\"cloudfiles\") \\\n",
    "        .option(\"cloudFiles.format\",\"csv\") \\\n",
    "            .option(\"cloudFiles.inferSchema\",\"true\") \\\n",
    "              .option(\"cloudFiles.schemaHints\",\"order_id\",int )\n",
    "                .option(\"cloudFiles.infercolumnTypes\",\"true\") \\\n",
    "                    .option(\"cloudfiles.SchemaLocation\",checkpoint_path) \\\n",
    "                        .option(\"header\",\"true\") \\\n",
    "                            .load(orders_data)\n",
    "\n"
   ]
  }
 ],
 "metadata": {
  "application/vnd.databricks.v1+notebook": {
   "computePreferences": null,
   "dashboards": [],
   "environmentMetadata": {
    "base_environment": "",
    "environment_version": "1"
   },
   "inputWidgetPreferences": null,
   "language": "python",
   "notebookMetadata": {
    "mostRecentlyExecutedCommandWithImplicitDF": {
     "commandId": 2729455961875043,
     "dataframes": [
      "_sqldf"
     ]
    },
    "pythonIndentUnit": 4
   },
   "notebookName": "Auto_loader_creation_and_copy_of_the_data_from_file",
   "widgets": {}
  }
 },
 "nbformat": 4,
 "nbformat_minor": 0
}